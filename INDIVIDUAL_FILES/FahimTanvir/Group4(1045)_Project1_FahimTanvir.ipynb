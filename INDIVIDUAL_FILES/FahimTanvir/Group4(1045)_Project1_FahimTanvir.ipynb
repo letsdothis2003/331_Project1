{
    "metadata": {
        "kernelspec": {
            "name": "SQL",
            "display_name": "SQL",
            "language": "sql"
        },
        "language_info": {
            "name": "sql",
            "version": ""
        }
    },
    "nbformat_minor": 2,
    "nbformat": 4,
    "cells": [
        {
            "cell_type": "markdown",
            "source": [
                "Name: Fahim Tanvir\n",
                "\n",
                "Class: CSCI 311 \n",
                "\n",
                "Group: 10:45 AM Group 4 Project 1\n",
                "\n",
                "<span style=\"color: var(--vscode-foreground);\"><br></span>\n",
                "\n",
                "<span style=\"color: var(--vscode-foreground);\">Mystery Prompts made by Fahim Tanvir</span>\n",
                "\n",
                "Solutions done by Yousuf Ahmed\n",
                "\n",
                "INTRO: We were inspired by beginner and intermediate cases from SQL noir to create 7 mysteries using our knowledge\n",
                "\n",
                "from chapters 1-6 from our textbook and previous assignmentes, ALSO BIG THANKS FOR JUSTIN FOR HELPING ME SET UP AZURE DATA STUDIO!"
            ],
            "metadata": {
                "azdata_cell_guid": "87c39264-0dbd-491c-b420-4207b6ecd3eb"
            },
            "attachments": {}
        },
        {
            "cell_type": "code",
            "source": [
                "USE AdventureWorks2022; -- we need this to run within the database\r\n",
                "GO"
            ],
            "metadata": {
                "azdata_cell_guid": "039b9fe9-5005-4b2c-8442-82338373e860",
                "language": "sql"
            },
            "outputs": [
                {
                    "output_type": "display_data",
                    "data": {
                        "text/html": "Commands completed successfully."
                    },
                    "metadata": {}
                },
                {
                    "output_type": "display_data",
                    "data": {
                        "text/html": "Total execution time: 00:00:00.002"
                    },
                    "metadata": {}
                }
            ],
            "execution_count": 26
        },
        {
            "cell_type": "markdown",
            "source": [
                "MYSTERY 1"
            ],
            "metadata": {
                "language": "sql",
                "azdata_cell_guid": "dd9ef9a0-b41f-4fb5-a12c-e45c9de18008"
            },
            "attachments": {}
        },
        {
            "cell_type": "code",
            "source": [
                "\r\n",
                "--MYSTERY 1   \r\n",
                "/* On November 30, 2013, an employee was working on in person offline orders at the store. Feeling tired during a long day, they decided to take a short nap\r\n",
                "During his nap, he noticed his watch went missing. Unfortunately security was unable to capture the thief since they were gone by the time the employee noticed.\r\n",
                "The employee remembers that the last order he made was actually the highest value order that day. It is believed that the customer of this order stole the watch \r\n",
                "Find the employee to punish them for sleeping on the job, and the customer alleged to be the thief.\r\n",
                " */\r\n",
                "\r\n",
                "\t-- Step 1: We gotta find the highest value offline order on November 30, 2013.\r\n",
                "SELECT TOP 1\r\n",
                "    soh.SalesOrderID,\r\n",
                "    soh.SalesPersonID,\r\n",
                "    soh.CustomerID,\r\n",
                "    soh.TotalDue\r\n",
                "FROM Sales.SalesOrderHeader soh\r\n",
                "WHERE soh.OrderDate = '2013-11-30'\r\n",
                "  AND soh.OnlineOrderFlag = 0\r\n",
                "ORDER BY soh.TotalDue DESC;\r\n",
                "/*OUTPUT:\r\n",
                " * I will note the SalesPersonID and CustomerID for this order\r\n",
                " */\r\n",
                "\r\n",
                "\r\n",
                ""
            ],
            "metadata": {
                "azdata_cell_guid": "1d78f586-aa51-455b-b1f3-af3793a3dda3",
                "language": "sql"
            },
            "outputs": [
                {
                    "output_type": "display_data",
                    "data": {
                        "text/html": "(1 row affected)"
                    },
                    "metadata": {}
                },
                {
                    "output_type": "display_data",
                    "data": {
                        "text/html": "Total execution time: 00:00:00.030"
                    },
                    "metadata": {}
                },
                {
                    "output_type": "execute_result",
                    "metadata": {},
                    "execution_count": 27,
                    "data": {
                        "application/vnd.dataresource+json": {
                            "schema": {
                                "fields": [
                                    {
                                        "name": "SalesOrderID"
                                    },
                                    {
                                        "name": "SalesPersonID"
                                    },
                                    {
                                        "name": "CustomerID"
                                    },
                                    {
                                        "name": "TotalDue"
                                    }
                                ]
                            },
                            "data": [
                                {
                                    "SalesOrderID": "61184",
                                    "SalesPersonID": "281",
                                    "CustomerID": "29641",
                                    "TotalDue": "106406.1069"
                                }
                            ]
                        },
                        "text/html": [
                            "<table>",
                            "<tr><th>SalesOrderID</th><th>SalesPersonID</th><th>CustomerID</th><th>TotalDue</th></tr>",
                            "<tr><td>61184</td><td>281</td><td>29641</td><td>106406.1069</td></tr>",
                            "</table>"
                        ]
                    }
                }
            ],
            "execution_count": 27
        },
        {
            "cell_type": "code",
            "source": [
                "\r\n",
                "\r\n",
                "\t-- Step 2: Use the SalesPersonID to find the name of the employee\r\n",
                "SELECT \r\n",
                "    p.BusinessEntityID AS SalesPersonID,\r\n",
                "    p.FirstName,  p.LastName\r\n",
                "FROM sales.SalesPerson sp  \r\n",
                "JOIN Person.Person p ON p.BusinessEntityID = sp.BusinessEntityID \r\n",
                "WHERE sp.BusinessEntityID = 281\r\n",
                "/*OUTPUT:\r\n",
                " * Shu Ito is sleeping on the job.\r\n",
                " */"
            ],
            "metadata": {
                "azdata_cell_guid": "3a2ec60e-60ca-4933-88f1-3ca62247976b",
                "language": "sql"
            },
            "outputs": [
                {
                    "output_type": "display_data",
                    "data": {
                        "text/html": "(1 row affected)"
                    },
                    "metadata": {}
                },
                {
                    "output_type": "display_data",
                    "data": {
                        "text/html": "Total execution time: 00:00:00.005"
                    },
                    "metadata": {}
                },
                {
                    "output_type": "execute_result",
                    "metadata": {},
                    "execution_count": 28,
                    "data": {
                        "application/vnd.dataresource+json": {
                            "schema": {
                                "fields": [
                                    {
                                        "name": "SalesPersonID"
                                    },
                                    {
                                        "name": "FirstName"
                                    },
                                    {
                                        "name": "LastName"
                                    }
                                ]
                            },
                            "data": [
                                {
                                    "SalesPersonID": "281",
                                    "FirstName": "Shu",
                                    "LastName": "Ito"
                                }
                            ]
                        },
                        "text/html": [
                            "<table>",
                            "<tr><th>SalesPersonID</th><th>FirstName</th><th>LastName</th></tr>",
                            "<tr><td>281</td><td>Shu</td><td>Ito</td></tr>",
                            "</table>"
                        ]
                    }
                }
            ],
            "execution_count": 28
        },
        {
            "cell_type": "code",
            "source": [
                "\r\n",
                "\t-- Step 3: Use the CustomerID to find the name of the alleged thief\r\n",
                "SELECT \r\n",
                "    p.BusinessEntityID AS SalesPersonID,\r\n",
                "    p.FirstName,  p.LastName\r\n",
                "FROM sales.Customer c   \r\n",
                "JOIN Person.Person p ON p.BusinessEntityID = c.PersonID   \r\n",
                "WHERE c.CustomerID  = 29641\r\n",
                "/*OUTPUT:\r\n",
                " * Raul Casts might have stolen the watch\r\n",
                " */"
            ],
            "metadata": {
                "azdata_cell_guid": "23f17c92-f013-4224-b52a-ea97d7683767",
                "language": "sql"
            },
            "outputs": [
                {
                    "output_type": "display_data",
                    "data": {
                        "text/html": "(1 row affected)"
                    },
                    "metadata": {}
                },
                {
                    "output_type": "display_data",
                    "data": {
                        "text/html": "Total execution time: 00:00:00.006"
                    },
                    "metadata": {}
                },
                {
                    "output_type": "execute_result",
                    "metadata": {},
                    "execution_count": 29,
                    "data": {
                        "application/vnd.dataresource+json": {
                            "schema": {
                                "fields": [
                                    {
                                        "name": "SalesPersonID"
                                    },
                                    {
                                        "name": "FirstName"
                                    },
                                    {
                                        "name": "LastName"
                                    }
                                ]
                            },
                            "data": [
                                {
                                    "SalesPersonID": "651",
                                    "FirstName": "Raul",
                                    "LastName": "Casts"
                                }
                            ]
                        },
                        "text/html": [
                            "<table>",
                            "<tr><th>SalesPersonID</th><th>FirstName</th><th>LastName</th></tr>",
                            "<tr><td>651</td><td>Raul</td><td>Casts</td></tr>",
                            "</table>"
                        ]
                    }
                }
            ],
            "execution_count": 29
        },
        {
            "cell_type": "markdown",
            "source": [
                "MYSTERY 2"
            ],
            "metadata": {
                "azdata_cell_guid": "90ecb1b0-c75c-4206-85c6-49d0b15489f4"
            },
            "attachments": {}
        },
        {
            "cell_type": "code",
            "source": [
                "-- MYSTERY 2   \r\n",
                "/* You have recieved a fraud notification from ColonialVoice telling you \r\n",
                "that a stolen card was used to purchase a total of $6692.55 in goods over 2 orders in Sunbury.\r\n",
                "Find the customer responsible for this fraud\r\n",
                " */\r\n",
                "\t\r\n",
                "\t-- Step 1: Find all customers that have paid a total of $6692.55.\r\n",
                "SELECT\r\n",
                "soh.CustomerID,\r\n",
                "\tROUND(SUM(soh.TotalDue), 2) AS TotalSpent,\r\n",
                "\tcount(soh.CustomerID)\r\n",
                "FROM\r\n",
                "\tSales.SalesOrderHeader soh\r\n",
                "GROUP BY\r\n",
                "\tsoh.CustomerID\r\n",
                "HAVING\r\n",
                "\tROUND(SUM(soh.TotalDue), 2) = 6692.55;\r\n",
                "/*OUTPUT: \r\n",
                " * I see that there are 31 customers that have a total spendage of $6692.55\r\n",
                " * need to do more digging\r\n",
                " */"
            ],
            "metadata": {
                "azdata_cell_guid": "63fff5b9-c91c-4e51-9b47-3b942563b535",
                "language": "sql"
            },
            "outputs": [
                {
                    "output_type": "display_data",
                    "data": {
                        "text/html": "(31 rows affected)"
                    },
                    "metadata": {}
                },
                {
                    "output_type": "display_data",
                    "data": {
                        "text/html": "Total execution time: 00:00:00.030"
                    },
                    "metadata": {}
                },
                {
                    "output_type": "execute_result",
                    "metadata": {},
                    "execution_count": 30,
                    "data": {
                        "application/vnd.dataresource+json": {
                            "schema": {
                                "fields": [
                                    {
                                        "name": "CustomerID"
                                    },
                                    {
                                        "name": "TotalSpent"
                                    },
                                    {
                                        "name": "(No column name)"
                                    }
                                ]
                            },
                            "data": [
                                {
                                    "CustomerID": "19588",
                                    "TotalSpent": "6692.55",
                                    "(No column name)": "2"
                                },
                                {
                                    "CustomerID": "18483",
                                    "TotalSpent": "6692.55",
                                    "(No column name)": "2"
                                },
                                {
                                    "CustomerID": "18217",
                                    "TotalSpent": "6692.55",
                                    "(No column name)": "2"
                                },
                                {
                                    "CustomerID": "20613",
                                    "TotalSpent": "6692.55",
                                    "(No column name)": "2"
                                },
                                {
                                    "CustomerID": "20430",
                                    "TotalSpent": "6692.55",
                                    "(No column name)": "2"
                                },
                                {
                                    "CustomerID": "18272",
                                    "TotalSpent": "6692.55",
                                    "(No column name)": "2"
                                },
                                {
                                    "CustomerID": "19975",
                                    "TotalSpent": "6692.55",
                                    "(No column name)": "2"
                                },
                                {
                                    "CustomerID": "18209",
                                    "TotalSpent": "6692.55",
                                    "(No column name)": "2"
                                },
                                {
                                    "CustomerID": "19105",
                                    "TotalSpent": "6692.55",
                                    "(No column name)": "2"
                                },
                                {
                                    "CustomerID": "20247",
                                    "TotalSpent": "6692.55",
                                    "(No column name)": "2"
                                },
                                {
                                    "CustomerID": "19792",
                                    "TotalSpent": "6692.55",
                                    "(No column name)": "2"
                                },
                                {
                                    "CustomerID": "18301",
                                    "TotalSpent": "6692.55",
                                    "(No column name)": "2"
                                },
                                {
                                    "CustomerID": "20628",
                                    "TotalSpent": "6692.55",
                                    "(No column name)": "2"
                                },
                                {
                                    "CustomerID": "16741",
                                    "TotalSpent": "6692.55",
                                    "(No column name)": "2"
                                },
                                {
                                    "CustomerID": "19586",
                                    "TotalSpent": "6692.55",
                                    "(No column name)": "2"
                                },
                                {
                                    "CustomerID": "19964",
                                    "TotalSpent": "6692.55",
                                    "(No column name)": "2"
                                },
                                {
                                    "CustomerID": "20225",
                                    "TotalSpent": "6692.55",
                                    "(No column name)": "2"
                                },
                                {
                                    "CustomerID": "19959",
                                    "TotalSpent": "6692.55",
                                    "(No column name)": "2"
                                },
                                {
                                    "CustomerID": "20600",
                                    "TotalSpent": "6692.55",
                                    "(No column name)": "2"
                                },
                                {
                                    "CustomerID": "19793",
                                    "TotalSpent": "6692.55",
                                    "(No column name)": "2"
                                },
                                {
                                    "CustomerID": "19773",
                                    "TotalSpent": "6692.55",
                                    "(No column name)": "2"
                                },
                                {
                                    "CustomerID": "19095",
                                    "TotalSpent": "6692.55",
                                    "(No column name)": "2"
                                },
                                {
                                    "CustomerID": "19965",
                                    "TotalSpent": "6692.55",
                                    "(No column name)": "2"
                                },
                                {
                                    "CustomerID": "18491",
                                    "TotalSpent": "6692.55",
                                    "(No column name)": "2"
                                },
                                {
                                    "CustomerID": "18740",
                                    "TotalSpent": "6692.55",
                                    "(No column name)": "2"
                                },
                                {
                                    "CustomerID": "18488",
                                    "TotalSpent": "6692.55",
                                    "(No column name)": "2"
                                },
                                {
                                    "CustomerID": "19559",
                                    "TotalSpent": "6692.55",
                                    "(No column name)": "2"
                                },
                                {
                                    "CustomerID": "19788",
                                    "TotalSpent": "6692.55",
                                    "(No column name)": "2"
                                },
                                {
                                    "CustomerID": "19971",
                                    "TotalSpent": "6692.55",
                                    "(No column name)": "2"
                                },
                                {
                                    "CustomerID": "19596",
                                    "TotalSpent": "6692.55",
                                    "(No column name)": "2"
                                },
                                {
                                    "CustomerID": "18205",
                                    "TotalSpent": "6692.55",
                                    "(No column name)": "2"
                                }
                            ]
                        },
                        "text/html": [
                            "<table>",
                            "<tr><th>CustomerID</th><th>TotalSpent</th><th>(No column name)</th></tr>",
                            "<tr><td>19588</td><td>6692.55</td><td>2</td></tr>",
                            "<tr><td>18483</td><td>6692.55</td><td>2</td></tr>",
                            "<tr><td>18217</td><td>6692.55</td><td>2</td></tr>",
                            "<tr><td>20613</td><td>6692.55</td><td>2</td></tr>",
                            "<tr><td>20430</td><td>6692.55</td><td>2</td></tr>",
                            "<tr><td>18272</td><td>6692.55</td><td>2</td></tr>",
                            "<tr><td>19975</td><td>6692.55</td><td>2</td></tr>",
                            "<tr><td>18209</td><td>6692.55</td><td>2</td></tr>",
                            "<tr><td>19105</td><td>6692.55</td><td>2</td></tr>",
                            "<tr><td>20247</td><td>6692.55</td><td>2</td></tr>",
                            "<tr><td>19792</td><td>6692.55</td><td>2</td></tr>",
                            "<tr><td>18301</td><td>6692.55</td><td>2</td></tr>",
                            "<tr><td>20628</td><td>6692.55</td><td>2</td></tr>",
                            "<tr><td>16741</td><td>6692.55</td><td>2</td></tr>",
                            "<tr><td>19586</td><td>6692.55</td><td>2</td></tr>",
                            "<tr><td>19964</td><td>6692.55</td><td>2</td></tr>",
                            "<tr><td>20225</td><td>6692.55</td><td>2</td></tr>",
                            "<tr><td>19959</td><td>6692.55</td><td>2</td></tr>",
                            "<tr><td>20600</td><td>6692.55</td><td>2</td></tr>",
                            "<tr><td>19793</td><td>6692.55</td><td>2</td></tr>",
                            "<tr><td>19773</td><td>6692.55</td><td>2</td></tr>",
                            "<tr><td>19095</td><td>6692.55</td><td>2</td></tr>",
                            "<tr><td>19965</td><td>6692.55</td><td>2</td></tr>",
                            "<tr><td>18491</td><td>6692.55</td><td>2</td></tr>",
                            "<tr><td>18740</td><td>6692.55</td><td>2</td></tr>",
                            "<tr><td>18488</td><td>6692.55</td><td>2</td></tr>",
                            "<tr><td>19559</td><td>6692.55</td><td>2</td></tr>",
                            "<tr><td>19788</td><td>6692.55</td><td>2</td></tr>",
                            "<tr><td>19971</td><td>6692.55</td><td>2</td></tr>",
                            "<tr><td>19596</td><td>6692.55</td><td>2</td></tr>",
                            "<tr><td>18205</td><td>6692.55</td><td>2</td></tr>",
                            "</table>"
                        ]
                    }
                }
            ],
            "execution_count": 30
        },
        {
            "cell_type": "code",
            "source": [
                "\t-- Step 2: Filter those customers for ColonialVoice cards, with a billing address in Sunbury.\r\n",
                "WITH step1 AS(\r\n",
                "SELECT\r\n",
                "soh.CustomerID\r\n",
                "FROM\r\n",
                "\tSales.SalesOrderHeader soh\r\n",
                "GROUP BY\r\n",
                "\tsoh.CustomerID\r\n",
                "HAVING\r\n",
                "\tROUND(SUM(soh.TotalDue), 2) = 6692.55\r\n",
                "\t)\t\r\n",
                "SELECT\r\n",
                "\tsoh.CustomerID,\r\n",
                "\tsoh.SalesOrderID,\r\n",
                "\tsoh.BillToAddressID,\r\n",
                "\ta.City\r\n",
                "FROM sales.SalesOrderHeader soh\r\n",
                "JOIN step1 s1 ON s1.CustomerID = soh.CustomerID\r\n",
                "JOIN sales.CreditCard cc ON cc.CreditCardID = soh.CreditCardID\r\n",
                "JOIN Person.Address a ON soh.BillToAddressID = a.AddressID\r\n",
                "WHERE\r\n",
                "\tcc.CardType = N'ColonialVoice'\r\n",
                "\tAND a.city = N'Sunbury';\r\n",
                "/*OUTPUT: \r\n",
                " * Now I have filtered out the customer who has paid with a ColonialVoice card in Sunbury.\r\n",
                " * All I need to do now is pull their information\r\n",
                " */"
            ],
            "metadata": {
                "azdata_cell_guid": "859fcc84-9a83-4659-86b1-549a8e1444e6",
                "language": "sql"
            },
            "outputs": [
                {
                    "output_type": "display_data",
                    "data": {
                        "text/html": "(2 rows affected)"
                    },
                    "metadata": {}
                },
                {
                    "output_type": "display_data",
                    "data": {
                        "text/html": "Total execution time: 00:00:00.095"
                    },
                    "metadata": {}
                },
                {
                    "output_type": "execute_result",
                    "metadata": {},
                    "execution_count": 31,
                    "data": {
                        "application/vnd.dataresource+json": {
                            "schema": {
                                "fields": [
                                    {
                                        "name": "CustomerID"
                                    },
                                    {
                                        "name": "SalesOrderID"
                                    },
                                    {
                                        "name": "BillToAddressID"
                                    },
                                    {
                                        "name": "City"
                                    }
                                ]
                            },
                            "data": [
                                {
                                    "CustomerID": "19965",
                                    "SalesOrderID": "45737",
                                    "BillToAddressID": "19349",
                                    "City": "Sunbury"
                                },
                                {
                                    "CustomerID": "19965",
                                    "SalesOrderID": "60935",
                                    "BillToAddressID": "19349",
                                    "City": "Sunbury"
                                }
                            ]
                        },
                        "text/html": [
                            "<table>",
                            "<tr><th>CustomerID</th><th>SalesOrderID</th><th>BillToAddressID</th><th>City</th></tr>",
                            "<tr><td>19965</td><td>45737</td><td>19349</td><td>Sunbury</td></tr>",
                            "<tr><td>19965</td><td>60935</td><td>19349</td><td>Sunbury</td></tr>",
                            "</table>"
                        ]
                    }
                }
            ],
            "execution_count": 31
        },
        {
            "cell_type": "code",
            "source": [
                "-- Step 3: Pull Customer's Name\r\n",
                "SELECT\r\n",
                "\tp.FirstName,\r\n",
                "\tp.LastName\r\n",
                "FROM\r\n",
                "\tPerson.Person p\r\n",
                "WHERE\r\n",
                "\tp.BusinessEntityID = 19965;"
            ],
            "metadata": {
                "azdata_cell_guid": "c6fdcf2f-b7d5-4e1a-a922-a27c0f921510",
                "language": "sql"
            },
            "outputs": [
                {
                    "output_type": "display_data",
                    "data": {
                        "text/html": "(1 row affected)"
                    },
                    "metadata": {}
                },
                {
                    "output_type": "display_data",
                    "data": {
                        "text/html": "Total execution time: 00:00:00.007"
                    },
                    "metadata": {}
                },
                {
                    "output_type": "execute_result",
                    "metadata": {},
                    "execution_count": 32,
                    "data": {
                        "application/vnd.dataresource+json": {
                            "schema": {
                                "fields": [
                                    {
                                        "name": "FirstName"
                                    },
                                    {
                                        "name": "LastName"
                                    }
                                ]
                            },
                            "data": [
                                {
                                    "FirstName": "Nicole",
                                    "LastName": "Perry"
                                }
                            ]
                        },
                        "text/html": [
                            "<table>",
                            "<tr><th>FirstName</th><th>LastName</th></tr>",
                            "<tr><td>Nicole</td><td>Perry</td></tr>",
                            "</table>"
                        ]
                    }
                }
            ],
            "execution_count": 32
        },
        {
            "cell_type": "markdown",
            "source": [
                "MYSTERY 3"
            ],
            "metadata": {
                "azdata_cell_guid": "612a01ef-4399-40bf-92f3-862b68435be4"
            },
            "attachments": {}
        },
        {
            "cell_type": "code",
            "source": [
                "\t\r\n",
                "--   MYSTERY 3  \t\r\n",
                "/* While reading the news, you see that a person from Houston was recently arrested for trying to smuggle fake goods in 2013.\r\n",
                "They hid them into Large Long-Sleeve Logo Jerseys from your company. After looking into it, they also have been caught doing the same thing in 2012. \r\n",
                "You see that he was previously caught smuggling with Medium Full-Finger Gloves. You recall your employee Jillian Carson was arrested around the same time in 2012 for working under them.\r\n",
                "Unfortunately their identity is kept secret by the news and you don't remember their name from the last time you encountered them.\r\n",
                "Find out who this customer is, and which employee sold him the Large Long Sleeve Logo Jerseys in 2013.\r\n",
                " */\r\n",
                "\t\r\n",
                "\r\n",
                "\t-- Step 1: Find the Product IDs for the two items, and save them for later queries\r\n",
                "SELECT\r\n",
                "\tProductID,\r\n",
                "\tName\r\n",
                "FROM\r\n",
                "\tProduction.Product\r\n",
                "WHERE\r\n",
                "\tName LIKE N'%Long-Sleeve Logo Jersey%'\r\n",
                "\tOR Name LIKE N'%Full-Finger Gloves%';\r\n",
                "/*OUTPUT: \r\n",
                " * This returns seven items, all sizes of Full-Finger Gloves and Long-Sleeve Logo Jerseys.\r\n",
                " * Note down both Product ID's of the items that are relevant to the mystery\r\n",
                " * 862 : Full-Finger Gloves, M\r\n",
                " * 715 : Long-Sleeve Logo Jersey, L\r\n",
                " */"
            ],
            "metadata": {
                "azdata_cell_guid": "15c68f1f-2f47-4b8b-8996-afdd6bbfffb4",
                "language": "sql"
            },
            "outputs": [
                {
                    "output_type": "display_data",
                    "data": {
                        "text/html": "(7 rows affected)"
                    },
                    "metadata": {}
                },
                {
                    "output_type": "display_data",
                    "data": {
                        "text/html": "Total execution time: 00:00:00.007"
                    },
                    "metadata": {}
                },
                {
                    "output_type": "execute_result",
                    "metadata": {},
                    "execution_count": 33,
                    "data": {
                        "application/vnd.dataresource+json": {
                            "schema": {
                                "fields": [
                                    {
                                        "name": "ProductID"
                                    },
                                    {
                                        "name": "Name"
                                    }
                                ]
                            },
                            "data": [
                                {
                                    "ProductID": "863",
                                    "Name": "Full-Finger Gloves, L"
                                },
                                {
                                    "ProductID": "862",
                                    "Name": "Full-Finger Gloves, M"
                                },
                                {
                                    "ProductID": "861",
                                    "Name": "Full-Finger Gloves, S"
                                },
                                {
                                    "ProductID": "715",
                                    "Name": "Long-Sleeve Logo Jersey, L"
                                },
                                {
                                    "ProductID": "714",
                                    "Name": "Long-Sleeve Logo Jersey, M"
                                },
                                {
                                    "ProductID": "713",
                                    "Name": "Long-Sleeve Logo Jersey, S"
                                },
                                {
                                    "ProductID": "716",
                                    "Name": "Long-Sleeve Logo Jersey, XL"
                                }
                            ]
                        },
                        "text/html": [
                            "<table>",
                            "<tr><th>ProductID</th><th>Name</th></tr>",
                            "<tr><td>863</td><td>Full-Finger Gloves, L</td></tr>",
                            "<tr><td>862</td><td>Full-Finger Gloves, M</td></tr>",
                            "<tr><td>861</td><td>Full-Finger Gloves, S</td></tr>",
                            "<tr><td>715</td><td>Long-Sleeve Logo Jersey, L</td></tr>",
                            "<tr><td>714</td><td>Long-Sleeve Logo Jersey, M</td></tr>",
                            "<tr><td>713</td><td>Long-Sleeve Logo Jersey, S</td></tr>",
                            "<tr><td>716</td><td>Long-Sleeve Logo Jersey, XL</td></tr>",
                            "</table>"
                        ]
                    }
                }
            ],
            "execution_count": 33
        },
        {
            "cell_type": "code",
            "source": [
                "\t-- Step 2: Find out Jillian Carson's ID and customers from Houston that she has sold to\r\n",
                "\r\n",
                "WITH accomplice2012 AS (\r\n",
                "SELECT\r\n",
                "\tp.BusinessEntityID\r\n",
                "FROM\r\n",
                "\tPerson.Person p\r\n",
                "WHERE\r\n",
                "\tp.FirstName = N'Jillian'\r\n",
                "\tAND p.LastName = N'Carson')\r\n",
                "SELECT DISTINCT\r\n",
                "\tsoh.CustomerID,\r\n",
                "\tp.FirstName,\r\n",
                "\tp.LastName,\r\n",
                "\tsoh.SalesPersonID\r\n",
                "FROM\r\n",
                "\tSales.SalesOrderHeader soh\r\n",
                "JOIN accomplice2012 a2012 ON\r\n",
                "\ta2012.BusinessEntityID = soh.SalesPersonID\r\n",
                "JOIN Sales.Customer c \r\n",
                "    ON\r\n",
                "\tsoh.CustomerID = c.CustomerID\r\n",
                "JOIN Person.Person p \r\n",
                "    ON\r\n",
                "\tc.PersonID = p.BusinessEntityID\r\n",
                "JOIN person.Address a ON\r\n",
                "\tsoh.ShipToAddressID = a.AddressID\r\n",
                "WHERE\r\n",
                "\ta.City = N'Houston';\r\n",
                "/*OUTPUT: \r\n",
                " * This query gives us three customers within Memphis who have worked with of Jillian Carson. It also provides Carson's ID which makes filtering her orders easier.\r\n",
                " * John Arthur, Michael Blythe, Sunil Uppal. I need to look through these customers and see which one has ordered Full-Finger Gloves, M in 2012.\r\n",
                " */\r\n",
                ""
            ],
            "metadata": {
                "azdata_cell_guid": "63acd1a7-63bb-4692-8d84-e501338ccacf",
                "language": "sql",
                "tags": [
                    "hide_input"
                ]
            },
            "outputs": [
                {
                    "output_type": "display_data",
                    "data": {
                        "text/html": "(3 rows affected)"
                    },
                    "metadata": {}
                },
                {
                    "output_type": "display_data",
                    "data": {
                        "text/html": "Total execution time: 00:00:00.011"
                    },
                    "metadata": {}
                },
                {
                    "output_type": "execute_result",
                    "metadata": {},
                    "execution_count": 34,
                    "data": {
                        "application/vnd.dataresource+json": {
                            "schema": {
                                "fields": [
                                    {
                                        "name": "CustomerID"
                                    },
                                    {
                                        "name": "FirstName"
                                    },
                                    {
                                        "name": "LastName"
                                    },
                                    {
                                        "name": "SalesPersonID"
                                    }
                                ]
                            },
                            "data": [
                                {
                                    "CustomerID": "29523",
                                    "FirstName": "John",
                                    "LastName": "Arthur",
                                    "SalesPersonID": "277"
                                },
                                {
                                    "CustomerID": "29570",
                                    "FirstName": "Michael",
                                    "LastName": "Blythe",
                                    "SalesPersonID": "277"
                                },
                                {
                                    "CustomerID": "30095",
                                    "FirstName": "Sunil",
                                    "LastName": "Uppal",
                                    "SalesPersonID": "277"
                                }
                            ]
                        },
                        "text/html": [
                            "<table>",
                            "<tr><th>CustomerID</th><th>FirstName</th><th>LastName</th><th>SalesPersonID</th></tr>",
                            "<tr><td>29523</td><td>John</td><td>Arthur</td><td>277</td></tr>",
                            "<tr><td>29570</td><td>Michael</td><td>Blythe</td><td>277</td></tr>",
                            "<tr><td>30095</td><td>Sunil</td><td>Uppal</td><td>277</td></tr>",
                            "</table>"
                        ]
                    }
                }
            ],
            "execution_count": 34
        },
        {
            "cell_type": "code",
            "source": [
                "\t-- Step 3: Figure out which customer has bought Full-Finger Gloves, M in 2012 from Jillian Carson\r\n",
                "SELECT\r\n",
                "\tsoh.CustomerID,\r\n",
                "\tp.FirstName ,\r\n",
                "\tp.LastName ,\r\n",
                "\tsoh.OrderDate,\r\n",
                "\tsod.OrderQty\r\n",
                "FROM\r\n",
                "\tSales.SalesOrderHeader soh\r\n",
                "JOIN sales.SalesOrderDetail sod ON\r\n",
                "\tsoh.SalesOrderID = sod.SalesOrderID\r\n",
                "JOIN Sales.Customer c \r\n",
                "    ON\r\n",
                "\tsoh.CustomerID = c.CustomerID\r\n",
                "JOIN Person.Person p \r\n",
                "    ON\r\n",
                "\tc.PersonID = p.BusinessEntityID\r\n",
                "WHERE\r\n",
                "\tsoh.SalesPersonID = 277\r\n",
                "\tAND YEAR(soh.OrderDate) = 2012\r\n",
                "\tAND soh.CustomerID IN (29523, 29570, 30095)\r\n",
                "\tAND sod.ProductID = 862;\r\n",
                "/*OUTPUT: \r\n",
                " * I found the criminal: John Arthur \r\n",
                " * Maybe I should ban this guy from ordering more products\r\n",
                " */"
            ],
            "metadata": {
                "azdata_cell_guid": "a30c26bf-ef6f-43b5-a4bd-dcfef3286513",
                "language": "sql"
            },
            "outputs": [
                {
                    "output_type": "display_data",
                    "data": {
                        "text/html": "(2 rows affected)"
                    },
                    "metadata": {}
                },
                {
                    "output_type": "display_data",
                    "data": {
                        "text/html": "Total execution time: 00:00:00.006"
                    },
                    "metadata": {}
                },
                {
                    "output_type": "execute_result",
                    "metadata": {},
                    "execution_count": 35,
                    "data": {
                        "application/vnd.dataresource+json": {
                            "schema": {
                                "fields": [
                                    {
                                        "name": "CustomerID"
                                    },
                                    {
                                        "name": "FirstName"
                                    },
                                    {
                                        "name": "LastName"
                                    },
                                    {
                                        "name": "OrderDate"
                                    },
                                    {
                                        "name": "OrderQty"
                                    }
                                ]
                            },
                            "data": [
                                {
                                    "CustomerID": "29523",
                                    "FirstName": "John",
                                    "LastName": "Arthur",
                                    "OrderDate": "2012-06-30 00:00:00.000",
                                    "OrderQty": "17"
                                },
                                {
                                    "CustomerID": "29523",
                                    "FirstName": "John",
                                    "LastName": "Arthur",
                                    "OrderDate": "2012-09-30 00:00:00.000",
                                    "OrderQty": "18"
                                }
                            ]
                        },
                        "text/html": [
                            "<table>",
                            "<tr><th>CustomerID</th><th>FirstName</th><th>LastName</th><th>OrderDate</th><th>OrderQty</th></tr>",
                            "<tr><td>29523</td><td>John</td><td>Arthur</td><td>2012-06-30 00:00:00.000</td><td>17</td></tr>",
                            "<tr><td>29523</td><td>John</td><td>Arthur</td><td>2012-09-30 00:00:00.000</td><td>18</td></tr>",
                            "</table>"
                        ]
                    }
                }
            ],
            "execution_count": 35
        },
        {
            "cell_type": "code",
            "source": [
                "\t-- Step 4: find his orders with Long-Sleeve Logo Jersey, L and figure out who sold it to him.\r\n",
                "SELECT\r\n",
                "\tsoh.CustomerID,\r\n",
                "\tsoh.OrderDate,\r\n",
                "\tsoh.SalesPersonID,\r\n",
                "\tp.FirstName ,\r\n",
                "\tp.LastName,\r\n",
                "\tsod.OrderQty\r\n",
                "FROM\r\n",
                "\tSales.SalesOrderHeader soh\r\n",
                "JOIN sales.SalesOrderDetail sod ON\r\n",
                "\tsoh.SalesOrderID = sod.SalesOrderID\r\n",
                "JOIN Sales.SalesPerson sp  \r\n",
                "    ON\r\n",
                "\tsoh.SalesPersonID = sp.BusinessEntityID\r\n",
                "JOIN Person.Person p \r\n",
                "    ON\r\n",
                "\tsp.BusinessEntityID = p.BusinessEntityID\r\n",
                "WHERE\r\n",
                "\tYEAR(soh.OrderDate) = 2013\r\n",
                "\tAND soh.CustomerID = 29523\r\n",
                "\tAND sod.ProductID = 715;\r\n",
                "/*OUTPUT: \r\n",
                " * I found the accomplice: Michael Blythe \r\n",
                " * Maybe I should fire this guy\r\n",
                " */\r\n",
                "\t"
            ],
            "metadata": {
                "azdata_cell_guid": "ac6c7dec-c917-4b4e-aa22-348b95285d0e",
                "language": "sql"
            },
            "outputs": [
                {
                    "output_type": "display_data",
                    "data": {
                        "text/html": "(4 rows affected)"
                    },
                    "metadata": {}
                },
                {
                    "output_type": "display_data",
                    "data": {
                        "text/html": "Total execution time: 00:00:00.008"
                    },
                    "metadata": {}
                },
                {
                    "output_type": "execute_result",
                    "metadata": {},
                    "execution_count": 36,
                    "data": {
                        "application/vnd.dataresource+json": {
                            "schema": {
                                "fields": [
                                    {
                                        "name": "CustomerID"
                                    },
                                    {
                                        "name": "OrderDate"
                                    },
                                    {
                                        "name": "SalesPersonID"
                                    },
                                    {
                                        "name": "FirstName"
                                    },
                                    {
                                        "name": "LastName"
                                    },
                                    {
                                        "name": "OrderQty"
                                    }
                                ]
                            },
                            "data": [
                                {
                                    "CustomerID": "29523",
                                    "OrderDate": "2013-03-30 00:00:00.000",
                                    "SalesPersonID": "275",
                                    "FirstName": "Michael",
                                    "LastName": "Blythe",
                                    "OrderQty": "3"
                                },
                                {
                                    "CustomerID": "29523",
                                    "OrderDate": "2013-06-30 00:00:00.000",
                                    "SalesPersonID": "275",
                                    "FirstName": "Michael",
                                    "LastName": "Blythe",
                                    "OrderQty": "8"
                                },
                                {
                                    "CustomerID": "29523",
                                    "OrderDate": "2013-09-30 00:00:00.000",
                                    "SalesPersonID": "275",
                                    "FirstName": "Michael",
                                    "LastName": "Blythe",
                                    "OrderQty": "1"
                                },
                                {
                                    "CustomerID": "29523",
                                    "OrderDate": "2013-12-31 00:00:00.000",
                                    "SalesPersonID": "275",
                                    "FirstName": "Michael",
                                    "LastName": "Blythe",
                                    "OrderQty": "5"
                                }
                            ]
                        },
                        "text/html": [
                            "<table>",
                            "<tr><th>CustomerID</th><th>OrderDate</th><th>SalesPersonID</th><th>FirstName</th><th>LastName</th><th>OrderQty</th></tr>",
                            "<tr><td>29523</td><td>2013-03-30 00:00:00.000</td><td>275</td><td>Michael</td><td>Blythe</td><td>3</td></tr>",
                            "<tr><td>29523</td><td>2013-06-30 00:00:00.000</td><td>275</td><td>Michael</td><td>Blythe</td><td>8</td></tr>",
                            "<tr><td>29523</td><td>2013-09-30 00:00:00.000</td><td>275</td><td>Michael</td><td>Blythe</td><td>1</td></tr>",
                            "<tr><td>29523</td><td>2013-12-31 00:00:00.000</td><td>275</td><td>Michael</td><td>Blythe</td><td>5</td></tr>",
                            "</table>"
                        ]
                    }
                }
            ],
            "execution_count": 36
        },
        {
            "cell_type": "markdown",
            "source": [
                "MYSTERY 4"
            ],
            "metadata": {
                "azdata_cell_guid": "c4d9a9e7-971a-473f-889a-0039657eb76c"
            },
            "attachments": {}
        },
        {
            "cell_type": "code",
            "source": [
                "--   MYSTERY 4  \r\n",
                "/* A Florida Man was found dead by a defective product. This product was not sold much in bulk.\r\n",
                " The purchase was in May 2012 and happened to be the one of the top 5 lowest selling items of that year.\r\n",
                " */\r\n",
                "\r\n",
                "\t-- Step 1: Find the top 5 worst selling items of 2012\r\n",
                "SELECT\r\n",
                "\tTOP 5\r\n",
                "    sod.ProductID,\r\n",
                "\tp.Name AS ProductName,\r\n",
                "\tSUM(sod.OrderQty) AS TotalQuantitySold\r\n",
                "FROM\r\n",
                "\tSales.SalesOrderDetail sod\r\n",
                "JOIN Sales.SalesOrderHeader soh \r\n",
                "    ON\r\n",
                "\tsod.SalesOrderID = soh.SalesOrderID\r\n",
                "JOIN Production.Product p \r\n",
                "    ON\r\n",
                "\tsod.ProductID = p.ProductID\r\n",
                "WHERE\r\n",
                "\tYEAR(soh.OrderDate) = 2012\r\n",
                "GROUP BY\r\n",
                "\tsod.ProductID,\r\n",
                "\tp.Name\r\n",
                "ORDER BY\r\n",
                "\tTotalQuantitySold ASC;\r\n",
                "/*OUTPUT:\r\n",
                " * 4 out of 5 of these items are bike frames. \r\n",
                " * I can exclude the socks because who is gonna die beacasue of a pair of socks. If they are they must be very unlucky.\r\n",
                " */"
            ],
            "metadata": {
                "azdata_cell_guid": "6d17e804-b7b5-452c-81b1-5d85d7ae5e78",
                "language": "sql"
            },
            "outputs": [
                {
                    "output_type": "display_data",
                    "data": {
                        "text/html": "(5 rows affected)"
                    },
                    "metadata": {}
                },
                {
                    "output_type": "display_data",
                    "data": {
                        "text/html": "Total execution time: 00:00:00.020"
                    },
                    "metadata": {}
                },
                {
                    "output_type": "execute_result",
                    "metadata": {},
                    "execution_count": 37,
                    "data": {
                        "application/vnd.dataresource+json": {
                            "schema": {
                                "fields": [
                                    {
                                        "name": "ProductID"
                                    },
                                    {
                                        "name": "ProductName"
                                    },
                                    {
                                        "name": "TotalQuantitySold"
                                    }
                                ]
                            },
                            "data": [
                                {
                                    "ProductID": "744",
                                    "ProductName": "HL Mountain Frame - Black, 44",
                                    "TotalQuantitySold": "8"
                                },
                                {
                                    "ProductID": "710",
                                    "ProductName": "Mountain Bike Socks, L",
                                    "TotalQuantitySold": "24"
                                },
                                {
                                    "ProductID": "733",
                                    "ProductName": "ML Road Frame - Red, 52",
                                    "TotalQuantitySold": "35"
                                },
                                {
                                    "ProductID": "719",
                                    "ProductName": "HL Road Frame - Red, 48",
                                    "TotalQuantitySold": "48"
                                },
                                {
                                    "ProductID": "839",
                                    "ProductName": "HL Road Frame - Black, 48",
                                    "TotalQuantitySold": "48"
                                }
                            ]
                        },
                        "text/html": [
                            "<table>",
                            "<tr><th>ProductID</th><th>ProductName</th><th>TotalQuantitySold</th></tr>",
                            "<tr><td>744</td><td>HL Mountain Frame - Black, 44</td><td>8</td></tr>",
                            "<tr><td>710</td><td>Mountain Bike Socks, L</td><td>24</td></tr>",
                            "<tr><td>733</td><td>ML Road Frame - Red, 52</td><td>35</td></tr>",
                            "<tr><td>719</td><td>HL Road Frame - Red, 48</td><td>48</td></tr>",
                            "<tr><td>839</td><td>HL Road Frame - Black, 48</td><td>48</td></tr>",
                            "</table>"
                        ]
                    }
                }
            ],
            "execution_count": 37
        },
        {
            "cell_type": "code",
            "source": [
                "--Step 2: Find out which of these unpopular items were ordered by themselves in May 2012. \r\n",
                "SELECT\r\n",
                "\tsoh.SalesOrderID,\r\n",
                "\tsoh.CustomerID,\r\n",
                "\tsoh.OrderDate,\r\n",
                "\tsod.ProductID,\r\n",
                "\tp.Name AS ProductName,\r\n",
                "\ta.City\r\n",
                "FROM\r\n",
                "\tSales.SalesOrderDetail sod\r\n",
                "JOIN Sales.SalesOrderHeader soh \r\n",
                "    ON\r\n",
                "\tsod.SalesOrderID = soh.SalesOrderID\r\n",
                "JOIN Production.Product p \r\n",
                "    ON\r\n",
                "\tsod.ProductID = p.ProductID\r\n",
                "JOIN person.Address a ON\r\n",
                "\ta.AddressID = soh.ShipToAddressID \r\n",
                "WHERE\r\n",
                "\tsod.ProductID IN (744, 733, 719, 839)\r\n",
                "\tAND soh.OrderDate BETWEEN '2012-05-01' AND '2012-05-31'\r\n",
                "\tAND sod.OrderQty = 1;\r\n",
                "/*OUTPUT:\r\n",
                " * There are two customers who have ordered this item, and one specifically from Florida.\r\n",
                " * This matches our description of the Florida Man. \r\n",
                " */"
            ],
            "metadata": {
                "azdata_cell_guid": "1bb3e7d0-6eb0-4b74-8f36-0f8603c0b6a8",
                "language": "sql"
            },
            "outputs": [
                {
                    "output_type": "display_data",
                    "data": {
                        "text/html": "(2 rows affected)"
                    },
                    "metadata": {}
                },
                {
                    "output_type": "display_data",
                    "data": {
                        "text/html": "Total execution time: 00:00:00.010"
                    },
                    "metadata": {}
                },
                {
                    "output_type": "execute_result",
                    "metadata": {},
                    "execution_count": 38,
                    "data": {
                        "application/vnd.dataresource+json": {
                            "schema": {
                                "fields": [
                                    {
                                        "name": "SalesOrderID"
                                    },
                                    {
                                        "name": "CustomerID"
                                    },
                                    {
                                        "name": "OrderDate"
                                    },
                                    {
                                        "name": "ProductID"
                                    },
                                    {
                                        "name": "ProductName"
                                    },
                                    {
                                        "name": "City"
                                    }
                                ]
                            },
                            "data": [
                                {
                                    "SalesOrderID": "46607",
                                    "CustomerID": "29994",
                                    "OrderDate": "2012-05-30 00:00:00.000",
                                    "ProductID": "719",
                                    "ProductName": "HL Road Frame - Red, 48",
                                    "City": "Toronto"
                                },
                                {
                                    "SalesOrderID": "46672",
                                    "CustomerID": "29704",
                                    "OrderDate": "2012-05-30 00:00:00.000",
                                    "ProductID": "719",
                                    "ProductName": "HL Road Frame - Red, 48",
                                    "City": "Miami"
                                }
                            ]
                        },
                        "text/html": [
                            "<table>",
                            "<tr><th>SalesOrderID</th><th>CustomerID</th><th>OrderDate</th><th>ProductID</th><th>ProductName</th><th>City</th></tr>",
                            "<tr><td>46607</td><td>29994</td><td>2012-05-30 00:00:00.000</td><td>719</td><td>HL Road Frame - Red, 48</td><td>Toronto</td></tr>",
                            "<tr><td>46672</td><td>29704</td><td>2012-05-30 00:00:00.000</td><td>719</td><td>HL Road Frame - Red, 48</td><td>Miami</td></tr>",
                            "</table>"
                        ]
                    }
                }
            ],
            "execution_count": 38
        },
        {
            "cell_type": "code",
            "source": [
                "-- Step 3: Find out the Florida Man's name\r\n",
                "SELECT p.FirstName , p.LastName \r\n",
                "FROM sales.Customer c \r\n",
                "JOIN Person.Person p ON p.BusinessEntityID = c.PersonID \r\n",
                "WHERE c.CustomerID = 29704\r\n",
                "/*OUTPUT:\r\n",
                " * The Victim was Shawn Demicell. RIP\r\n",
                " */\r\n",
                "\r\n",
                "\t"
            ],
            "metadata": {
                "azdata_cell_guid": "795e813e-b6d1-4363-9b88-9272d6bbd0dc",
                "language": "sql"
            },
            "outputs": [
                {
                    "output_type": "display_data",
                    "data": {
                        "text/html": "(1 row affected)"
                    },
                    "metadata": {}
                },
                {
                    "output_type": "display_data",
                    "data": {
                        "text/html": "Total execution time: 00:00:00.005"
                    },
                    "metadata": {}
                },
                {
                    "output_type": "execute_result",
                    "metadata": {},
                    "execution_count": 39,
                    "data": {
                        "application/vnd.dataresource+json": {
                            "schema": {
                                "fields": [
                                    {
                                        "name": "FirstName"
                                    },
                                    {
                                        "name": "LastName"
                                    }
                                ]
                            },
                            "data": [
                                {
                                    "FirstName": "Shawn",
                                    "LastName": "Demicell"
                                }
                            ]
                        },
                        "text/html": [
                            "<table>",
                            "<tr><th>FirstName</th><th>LastName</th></tr>",
                            "<tr><td>Shawn</td><td>Demicell</td></tr>",
                            "</table>"
                        ]
                    }
                }
            ],
            "execution_count": 39
        },
        {
            "cell_type": "markdown",
            "source": [
                "MYSTERY 5"
            ],
            "metadata": {
                "azdata_cell_guid": "8d4cbbf7-e2b6-4b04-86f3-9b15cbe8b986"
            },
            "attachments": {}
        },
        {
            "cell_type": "code",
            "source": [
                "--   MYSTERY 5   \r\n",
                "\r\n",
                "/*The London police have contacted you to find the owner of a stolen bike. They have included the following information about the bike:\r\n",
                "Silver Women's Mountain Bike, size of 46 CM. Worn out marker shows the letters \"ca Sa\"\r\n",
                "Find the customer's first and last name, alongside their email.\r\n",
                " */\r\n",
                "\r\n",
                "\t-- Step 1: Find the item number of the bike using the police's description\r\n",
                "SELECT\r\n",
                "\tp.ProductID,\r\n",
                "\tp.Name\r\n",
                "FROM\r\n",
                "\tProduction.Product p\r\n",
                "WHERE\r\n",
                "\tp.Color = N'Silver'\r\n",
                "\tAND p.Size = N'46'\r\n",
                "\tAND p.Style = N'W';\r\n",
                "/*OUTPUT: \r\n",
                " * There are two results with the following criteria. \r\n",
                " * One is a full bike while the other is a frame. \r\n",
                " * It is possible the customer has purchased the frame on it's own, so I have to note both ProductID's\r\n",
                " */"
            ],
            "metadata": {
                "azdata_cell_guid": "ffe0c3b2-0074-4c25-9516-84b32adfef4a",
                "language": "sql"
            },
            "outputs": [
                {
                    "output_type": "display_data",
                    "data": {
                        "text/html": "(2 rows affected)"
                    },
                    "metadata": {}
                },
                {
                    "output_type": "display_data",
                    "data": {
                        "text/html": "Total execution time: 00:00:00.006"
                    },
                    "metadata": {}
                },
                {
                    "output_type": "execute_result",
                    "metadata": {},
                    "execution_count": 40,
                    "data": {
                        "application/vnd.dataresource+json": {
                            "schema": {
                                "fields": [
                                    {
                                        "name": "ProductID"
                                    },
                                    {
                                        "name": "Name"
                                    }
                                ]
                            },
                            "data": [
                                {
                                    "ProductID": "906",
                                    "Name": "ML Mountain Frame-W - Silver, 46"
                                },
                                {
                                    "ProductID": "983",
                                    "Name": "Mountain-400-W Silver, 46"
                                }
                            ]
                        },
                        "text/html": [
                            "<table>",
                            "<tr><th>ProductID</th><th>Name</th></tr>",
                            "<tr><td>906</td><td>ML Mountain Frame-W - Silver, 46</td></tr>",
                            "<tr><td>983</td><td>Mountain-400-W Silver, 46</td></tr>",
                            "</table>"
                        ]
                    }
                }
            ],
            "execution_count": 40
        },
        {
            "cell_type": "code",
            "source": [
                "\t-- Step 2: Find out who has ordered these products from London\r\n",
                "SELECT\r\n",
                "\tsoh.SalesOrderID,\r\n",
                "\tsod.ProductID,\r\n",
                "\tsoh.CustomerID\r\n",
                "FROM\r\n",
                "\tsales.SalesOrderDetail sod\r\n",
                "JOIN sales.SalesOrderHeader soh ON\r\n",
                "\tsoh.SalesOrderID = sod.SalesOrderID\r\n",
                "JOIN person.Address a ON\r\n",
                "\tsoh.ShipToAddressID = a.AddressID\r\n",
                "WHERE\r\n",
                "\t(sod.ProductID = 906\r\n",
                "\t\tOR sod.ProductID = 983)\r\n",
                "\tAND a.City = N'London';\r\n",
                "/*OUTPUT: \r\n",
                " * There are six orders with the two products. \r\n",
                " * Five people have ordered the full bike, and another person ordered a frame. \r\n",
                " * I will use the CustomerID to pull the first and last names of the people who placed these orders\r\n",
                " */"
            ],
            "metadata": {
                "azdata_cell_guid": "d288fbeb-76bf-4e52-8e85-94ece736d8e5",
                "language": "sql"
            },
            "outputs": [
                {
                    "output_type": "display_data",
                    "data": {
                        "text/html": "(6 rows affected)"
                    },
                    "metadata": {}
                },
                {
                    "output_type": "display_data",
                    "data": {
                        "text/html": "Total execution time: 00:00:00.013"
                    },
                    "metadata": {}
                },
                {
                    "output_type": "execute_result",
                    "metadata": {},
                    "execution_count": 41,
                    "data": {
                        "application/vnd.dataresource+json": {
                            "schema": {
                                "fields": [
                                    {
                                        "name": "SalesOrderID"
                                    },
                                    {
                                        "name": "ProductID"
                                    },
                                    {
                                        "name": "CustomerID"
                                    }
                                ]
                            },
                            "data": [
                                {
                                    "SalesOrderID": "62541",
                                    "ProductID": "983",
                                    "CustomerID": "16201"
                                },
                                {
                                    "SalesOrderID": "70256",
                                    "ProductID": "983",
                                    "CustomerID": "16509"
                                },
                                {
                                    "SalesOrderID": "60702",
                                    "ProductID": "983",
                                    "CustomerID": "17094"
                                },
                                {
                                    "SalesOrderID": "60262",
                                    "ProductID": "983",
                                    "CustomerID": "17626"
                                },
                                {
                                    "SalesOrderID": "73266",
                                    "ProductID": "983",
                                    "CustomerID": "16573"
                                },
                                {
                                    "SalesOrderID": "53573",
                                    "ProductID": "906",
                                    "CustomerID": "30050"
                                }
                            ]
                        },
                        "text/html": [
                            "<table>",
                            "<tr><th>SalesOrderID</th><th>ProductID</th><th>CustomerID</th></tr>",
                            "<tr><td>62541</td><td>983</td><td>16201</td></tr>",
                            "<tr><td>70256</td><td>983</td><td>16509</td></tr>",
                            "<tr><td>60702</td><td>983</td><td>17094</td></tr>",
                            "<tr><td>60262</td><td>983</td><td>17626</td></tr>",
                            "<tr><td>73266</td><td>983</td><td>16573</td></tr>",
                            "<tr><td>53573</td><td>906</td><td>30050</td></tr>",
                            "</table>"
                        ]
                    }
                }
            ],
            "execution_count": 41
        },
        {
            "cell_type": "code",
            "source": [
                "\t-- Step 3: Find out the names of the customers\r\n",
                "WITH step2 AS(\r\n",
                "SELECT soh.CustomerID \r\n",
                "FROM sales.SalesOrderDetail sod\r\n",
                "JOIN sales.SalesOrderHeader soh ON\r\n",
                "\tsoh.SalesOrderID = sod.SalesOrderID\r\n",
                "JOIN person.Address a ON\r\n",
                "\tsoh.ShipToAddressID = a.AddressID\r\n",
                "WHERE(sod.ProductID = 906\r\n",
                "\tOR sod.ProductID = 983)\r\n",
                "AND a.City = N'London'\r\n",
                ")\r\n",
                "SELECT\r\n",
                "\tp.FirstName,\r\n",
                "\tp.LastName ,\r\n",
                "\tc.CustomerID,\r\n",
                "\tp.BusinessEntityID\r\n",
                "FROM\r\n",
                "\tSales.Customer c\r\n",
                "JOIN step2 lc ON\r\n",
                "\tc.CustomerID = lc.CustomerID\r\n",
                "JOIN Person.Person p ON\r\n",
                "\tp.BusinessEntityID = c.PersonID\r\n",
                "ORDER BY\r\n",
                "\tc.CustomerID;\r\n",
                "/*OUTPUT: \r\n",
                " * I see one name that sticks out: \"Veronica Sai\", which matches the partial \"ca Sa\" marking on the bike.\r\n",
                " * Noting the BusinessEntityID which can be used to retrieve her email.\r\n",
                " */"
            ],
            "metadata": {
                "azdata_cell_guid": "1896a676-871d-4d3a-b241-7f419ea147e7",
                "language": "sql"
            },
            "outputs": [
                {
                    "output_type": "display_data",
                    "data": {
                        "text/html": "(6 rows affected)"
                    },
                    "metadata": {}
                },
                {
                    "output_type": "display_data",
                    "data": {
                        "text/html": "Total execution time: 00:00:00.015"
                    },
                    "metadata": {}
                },
                {
                    "output_type": "execute_result",
                    "metadata": {},
                    "execution_count": 42,
                    "data": {
                        "application/vnd.dataresource+json": {
                            "schema": {
                                "fields": [
                                    {
                                        "name": "FirstName"
                                    },
                                    {
                                        "name": "LastName"
                                    },
                                    {
                                        "name": "CustomerID"
                                    },
                                    {
                                        "name": "BusinessEntityID"
                                    }
                                ]
                            },
                            "data": [
                                {
                                    "FirstName": "Ross",
                                    "LastName": "Martin",
                                    "CustomerID": "16201",
                                    "BusinessEntityID": "11792"
                                },
                                {
                                    "FirstName": "Veronica",
                                    "LastName": "Sai",
                                    "CustomerID": "16509",
                                    "BusinessEntityID": "18975"
                                },
                                {
                                    "FirstName": "Ruben",
                                    "LastName": "Dominguez",
                                    "CustomerID": "16573",
                                    "BusinessEntityID": "11271"
                                },
                                {
                                    "FirstName": "Julio",
                                    "LastName": "Dominguez",
                                    "CustomerID": "17094",
                                    "BusinessEntityID": "7010"
                                },
                                {
                                    "FirstName": "Alfredo",
                                    "LastName": "Blanco",
                                    "CustomerID": "17626",
                                    "BusinessEntityID": "2818"
                                },
                                {
                                    "FirstName": "Krishna",
                                    "LastName": "Sunkammurali",
                                    "CustomerID": "30050",
                                    "BusinessEntityID": "1843"
                                }
                            ]
                        },
                        "text/html": [
                            "<table>",
                            "<tr><th>FirstName</th><th>LastName</th><th>CustomerID</th><th>BusinessEntityID</th></tr>",
                            "<tr><td>Ross</td><td>Martin</td><td>16201</td><td>11792</td></tr>",
                            "<tr><td>Veronica</td><td>Sai</td><td>16509</td><td>18975</td></tr>",
                            "<tr><td>Ruben</td><td>Dominguez</td><td>16573</td><td>11271</td></tr>",
                            "<tr><td>Julio</td><td>Dominguez</td><td>17094</td><td>7010</td></tr>",
                            "<tr><td>Alfredo</td><td>Blanco</td><td>17626</td><td>2818</td></tr>",
                            "<tr><td>Krishna</td><td>Sunkammurali</td><td>30050</td><td>1843</td></tr>",
                            "</table>"
                        ]
                    }
                }
            ],
            "execution_count": 42
        },
        {
            "cell_type": "code",
            "source": [
                "-- Step 4: Find the contact email\r\n",
                "SELECT\r\n",
                "\tea.EmailAddress\r\n",
                "FROM\r\n",
                "\tPerson.EmailAddress ea\r\n",
                "WHERE\r\n",
                "\tea.BusinessEntityID = 18975;\r\n",
                "\r\n",
                "\t/*output:veronica6@adventure-works.com*/"
            ],
            "metadata": {
                "azdata_cell_guid": "4bc02ac3-2322-489e-b23f-c96335601dcd",
                "language": "sql"
            },
            "outputs": [
                {
                    "output_type": "display_data",
                    "data": {
                        "text/html": "(1 row affected)"
                    },
                    "metadata": {}
                },
                {
                    "output_type": "display_data",
                    "data": {
                        "text/html": "Total execution time: 00:00:00.005"
                    },
                    "metadata": {}
                },
                {
                    "output_type": "execute_result",
                    "metadata": {},
                    "execution_count": 43,
                    "data": {
                        "application/vnd.dataresource+json": {
                            "schema": {
                                "fields": [
                                    {
                                        "name": "EmailAddress"
                                    }
                                ]
                            },
                            "data": [
                                {
                                    "EmailAddress": "veronica6@adventure-works.com"
                                }
                            ]
                        },
                        "text/html": [
                            "<table>",
                            "<tr><th>EmailAddress</th></tr>",
                            "<tr><td>veronica6@adventure-works.com</td></tr>",
                            "</table>"
                        ]
                    }
                }
            ],
            "execution_count": 43
        },
        {
            "cell_type": "markdown",
            "source": [
                "MYSTERY 6"
            ],
            "metadata": {
                "azdata_cell_guid": "184a8705-bf6a-442a-b1e9-7de79e94cfdd"
            },
            "attachments": {}
        },
        {
            "cell_type": "code",
            "source": [
                "--Mystery 6\r\n",
                "/*A customer has filed a complaint about receiving a defective helmet. The helmet was purchased in July 2013 recently and\r\n",
                "was part of a batch known for quality issues. The product is described as a Red Sport-100 Helmet.\r\n",
                "Find the customer’s name and the city it was shipped to.\r\n",
                " */\r\n",
                "\r\n",
                "    -- Step 1: Identify the product ID based on the description\r\n",
                "SELECT\r\n",
                "    p.ProductID,\r\n",
                "    p.Name\r\n",
                "FROM\r\n",
                "    Production.Product p\r\n",
                "WHERE\r\n",
                "    p.Color = N'Red'\r\n",
                "    AND p.Name = N'Sport-100 Helmet, Red';\r\n",
                "/*OUTPUT:\r\n",
                " * Our ID for the red hat is 707\r\n",
                " */\r\n",
                ""
            ],
            "metadata": {
                "azdata_cell_guid": "52ca960a-0ca9-4c89-8fc9-0b541d248e22",
                "language": "sql"
            },
            "outputs": [
                {
                    "output_type": "display_data",
                    "data": {
                        "text/html": "(1 row affected)"
                    },
                    "metadata": {}
                },
                {
                    "output_type": "display_data",
                    "data": {
                        "text/html": "Total execution time: 00:00:00.005"
                    },
                    "metadata": {}
                },
                {
                    "output_type": "execute_result",
                    "metadata": {},
                    "execution_count": 44,
                    "data": {
                        "application/vnd.dataresource+json": {
                            "schema": {
                                "fields": [
                                    {
                                        "name": "ProductID"
                                    },
                                    {
                                        "name": "Name"
                                    }
                                ]
                            },
                            "data": [
                                {
                                    "ProductID": "707",
                                    "Name": "Sport-100 Helmet, Red"
                                }
                            ]
                        },
                        "text/html": [
                            "<table>",
                            "<tr><th>ProductID</th><th>Name</th></tr>",
                            "<tr><td>707</td><td>Sport-100 Helmet, Red</td></tr>",
                            "</table>"
                        ]
                    }
                }
            ],
            "execution_count": 44
        },
        {
            "cell_type": "code",
            "source": [
                "-- Step 2: Find orders for this product in July 2013\r\n",
                "SELECT\r\n",
                "    soh.SalesOrderID,\r\n",
                "    soh.CustomerID,\r\n",
                "    soh.OrderDate,\r\n",
                "    a.City,\r\n",
                "    sod.ProductID\r\n",
                "FROM\r\n",
                "    Sales.SalesOrderDetail sod\r\n",
                "JOIN Sales.SalesOrderHeader soh ON\r\n",
                "    soh.SalesOrderID = sod.SalesOrderID\r\n",
                "JOIN Person.Address a ON\r\n",
                "    soh.ShipToAddressID = a.AddressID\r\n",
                "WHERE\r\n",
                "    sod.ProductID = 707\r\n",
                "    AND soh.OrderDate BETWEEN '2013-07-01' AND '2013-07-31'\r\n",
                "ORDER BY soh.OrderDate DESC;\r\n",
                "/*OUTPUT:\r\n",
                " * This returns a few orders from July 2013 in recent to least recent. Looks like irving\r\n",
                " is our target location with customer id of 29637 and sales order id of 53616\r\n",
                " */"
            ],
            "metadata": {
                "azdata_cell_guid": "1ab068d4-bc2e-443d-9adc-6da23332a10a",
                "language": "sql"
            },
            "outputs": [
                {
                    "output_type": "display_data",
                    "data": {
                        "text/html": "(207 rows affected)"
                    },
                    "metadata": {}
                },
                {
                    "output_type": "display_data",
                    "data": {
                        "text/html": "Total execution time: 00:00:00.024"
                    },
                    "metadata": {}
                },
                {
                    "output_type": "execute_result",
                    "metadata": {},
                    "execution_count": 45,
                    "data": {
                        "application/vnd.dataresource+json": {
                            "schema": {
                                "fields": [
                                    {
                                        "name": "SalesOrderID"
                                    },
                                    {
                                        "name": "CustomerID"
                                    },
                                    {
                                        "name": "OrderDate"
                                    },
                                    {
                                        "name": "City"
                                    },
                                    {
                                        "name": "ProductID"
                                    }
                                ]
                            },
                            "data": [
                                {
                                    "SalesOrderID": "53616",
                                    "CustomerID": "29637",
                                    "OrderDate": "2013-07-31 00:00:00.000",
                                    "City": "Irving",
                                    "ProductID": "707"
                                },
                                {
                                    "SalesOrderID": "53513",
                                    "CustomerID": "29625",
                                    "OrderDate": "2013-07-31 00:00:00.000",
                                    "City": "Montreal",
                                    "ProductID": "707"
                                },
                                {
                                    "SalesOrderID": "53554",
                                    "CustomerID": "29652",
                                    "OrderDate": "2013-07-31 00:00:00.000",
                                    "City": "North Sydney",
                                    "ProductID": "707"
                                },
                                {
                                    "SalesOrderID": "53623",
                                    "CustomerID": "29873",
                                    "OrderDate": "2013-07-31 00:00:00.000",
                                    "City": "Lynnwood",
                                    "ProductID": "707"
                                },
                                {
                                    "SalesOrderID": "53483",
                                    "CustomerID": "29557",
                                    "OrderDate": "2013-07-31 00:00:00.000",
                                    "City": "Richmond",
                                    "ProductID": "707"
                                },
                                {
                                    "SalesOrderID": "53468",
                                    "CustomerID": "29821",
                                    "OrderDate": "2013-07-31 00:00:00.000",
                                    "City": "Sydney",
                                    "ProductID": "707"
                                },
                                {
                                    "SalesOrderID": "53584",
                                    "CustomerID": "29810",
                                    "OrderDate": "2013-07-31 00:00:00.000",
                                    "City": "Kent",
                                    "ProductID": "707"
                                },
                                {
                                    "SalesOrderID": "53657",
                                    "CustomerID": "25148",
                                    "OrderDate": "2013-07-31 00:00:00.000",
                                    "City": "Chula Vista",
                                    "ProductID": "707"
                                },
                                {
                                    "SalesOrderID": "53660",
                                    "CustomerID": "19724",
                                    "OrderDate": "2013-07-31 00:00:00.000",
                                    "City": "Lake Oswego",
                                    "ProductID": "707"
                                },
                                {
                                    "SalesOrderID": "53523",
                                    "CustomerID": "29856",
                                    "OrderDate": "2013-07-31 00:00:00.000",
                                    "City": "Boulogne-sur-Mer",
                                    "ProductID": "707"
                                },
                                {
                                    "SalesOrderID": "53485",
                                    "CustomerID": "29488",
                                    "OrderDate": "2013-07-31 00:00:00.000",
                                    "City": "Rhodes",
                                    "ProductID": "707"
                                },
                                {
                                    "SalesOrderID": "53499",
                                    "CustomerID": "29891",
                                    "OrderDate": "2013-07-31 00:00:00.000",
                                    "City": "Novi",
                                    "ProductID": "707"
                                },
                                {
                                    "SalesOrderID": "53476",
                                    "CustomerID": "29653",
                                    "OrderDate": "2013-07-31 00:00:00.000",
                                    "City": "Santa Fe",
                                    "ProductID": "707"
                                },
                                {
                                    "SalesOrderID": "53475",
                                    "CustomerID": "30043",
                                    "OrderDate": "2013-07-31 00:00:00.000",
                                    "City": "Saint Ouen",
                                    "ProductID": "707"
                                },
                                {
                                    "SalesOrderID": "53634",
                                    "CustomerID": "16964",
                                    "OrderDate": "2013-07-31 00:00:00.000",
                                    "City": "Langford",
                                    "ProductID": "707"
                                },
                                {
                                    "SalesOrderID": "53459",
                                    "CustomerID": "29485",
                                    "OrderDate": "2013-07-31 00:00:00.000",
                                    "City": "Van Nuys",
                                    "ProductID": "707"
                                },
                                {
                                    "SalesOrderID": "53514",
                                    "CustomerID": "29550",
                                    "OrderDate": "2013-07-31 00:00:00.000",
                                    "City": "Milwaukie",
                                    "ProductID": "707"
                                },
                                {
                                    "SalesOrderID": "53552",
                                    "CustomerID": "29809",
                                    "OrderDate": "2013-07-31 00:00:00.000",
                                    "City": "San Ramon",
                                    "ProductID": "707"
                                },
                                {
                                    "SalesOrderID": "53586",
                                    "CustomerID": "29982",
                                    "OrderDate": "2013-07-31 00:00:00.000",
                                    "City": "Daly City",
                                    "ProductID": "707"
                                },
                                {
                                    "SalesOrderID": "53633",
                                    "CustomerID": "23473",
                                    "OrderDate": "2013-07-31 00:00:00.000",
                                    "City": "W. Linn",
                                    "ProductID": "707"
                                },
                                {
                                    "SalesOrderID": "53527",
                                    "CustomerID": "29770",
                                    "OrderDate": "2013-07-31 00:00:00.000",
                                    "City": "Burnaby",
                                    "ProductID": "707"
                                },
                                {
                                    "SalesOrderID": "53480",
                                    "CustomerID": "30118",
                                    "OrderDate": "2013-07-31 00:00:00.000",
                                    "City": "Saint Louis",
                                    "ProductID": "707"
                                },
                                {
                                    "SalesOrderID": "53467",
                                    "CustomerID": "29709",
                                    "OrderDate": "2013-07-31 00:00:00.000",
                                    "City": "Tigard",
                                    "ProductID": "707"
                                },
                                {
                                    "SalesOrderID": "53613",
                                    "CustomerID": "30071",
                                    "OrderDate": "2013-07-31 00:00:00.000",
                                    "City": "Issaquah",
                                    "ProductID": "707"
                                },
                                {
                                    "SalesOrderID": "53567",
                                    "CustomerID": "29551",
                                    "OrderDate": "2013-07-31 00:00:00.000",
                                    "City": "Mentor",
                                    "ProductID": "707"
                                },
                                {
                                    "SalesOrderID": "53454",
                                    "CustomerID": "29579",
                                    "OrderDate": "2013-07-31 00:00:00.000",
                                    "City": "Westminster",
                                    "ProductID": "707"
                                },
                                {
                                    "SalesOrderID": "53630",
                                    "CustomerID": "28267",
                                    "OrderDate": "2013-07-31 00:00:00.000",
                                    "City": "Burlingame",
                                    "ProductID": "707"
                                },
                                {
                                    "SalesOrderID": "53600",
                                    "CustomerID": "29864",
                                    "OrderDate": "2013-07-31 00:00:00.000",
                                    "City": "Calgary",
                                    "ProductID": "707"
                                },
                                {
                                    "SalesOrderID": "53562",
                                    "CustomerID": "29546",
                                    "OrderDate": "2013-07-31 00:00:00.000",
                                    "City": "London",
                                    "ProductID": "707"
                                },
                                {
                                    "SalesOrderID": "53582",
                                    "CustomerID": "29877",
                                    "OrderDate": "2013-07-31 00:00:00.000",
                                    "City": "Englewood",
                                    "ProductID": "707"
                                },
                                {
                                    "SalesOrderID": "53536",
                                    "CustomerID": "29950",
                                    "OrderDate": "2013-07-31 00:00:00.000",
                                    "City": "Toronto",
                                    "ProductID": "707"
                                },
                                {
                                    "SalesOrderID": "53465",
                                    "CustomerID": "29722",
                                    "OrderDate": "2013-07-31 00:00:00.000",
                                    "City": "Toronto",
                                    "ProductID": "707"
                                },
                                {
                                    "SalesOrderID": "53534",
                                    "CustomerID": "29592",
                                    "OrderDate": "2013-07-31 00:00:00.000",
                                    "City": "Waterbury",
                                    "ProductID": "707"
                                },
                                {
                                    "SalesOrderID": "53460",
                                    "CustomerID": "29957",
                                    "OrderDate": "2013-07-31 00:00:00.000",
                                    "City": "Union City",
                                    "ProductID": "707"
                                },
                                {
                                    "SalesOrderID": "53560",
                                    "CustomerID": "29916",
                                    "OrderDate": "2013-07-31 00:00:00.000",
                                    "City": "Lake George",
                                    "ProductID": "707"
                                },
                                {
                                    "SalesOrderID": "53570",
                                    "CustomerID": "29966",
                                    "OrderDate": "2013-07-31 00:00:00.000",
                                    "City": "Melville",
                                    "ProductID": "707"
                                },
                                {
                                    "SalesOrderID": "53530",
                                    "CustomerID": "29707",
                                    "OrderDate": "2013-07-31 00:00:00.000",
                                    "City": "Chantilly",
                                    "ProductID": "707"
                                },
                                {
                                    "SalesOrderID": "53524",
                                    "CustomerID": "29563",
                                    "OrderDate": "2013-07-31 00:00:00.000",
                                    "City": "Bradenton",
                                    "ProductID": "707"
                                },
                                {
                                    "SalesOrderID": "53472",
                                    "CustomerID": "29796",
                                    "OrderDate": "2013-07-31 00:00:00.000",
                                    "City": "Liverpool",
                                    "ProductID": "707"
                                },
                                {
                                    "SalesOrderID": "53502",
                                    "CustomerID": "29823",
                                    "OrderDate": "2013-07-31 00:00:00.000",
                                    "City": "Newcastle",
                                    "ProductID": "707"
                                },
                                {
                                    "SalesOrderID": "53565",
                                    "CustomerID": "30092",
                                    "OrderDate": "2013-07-31 00:00:00.000",
                                    "City": "Melbourne",
                                    "ProductID": "707"
                                },
                                {
                                    "SalesOrderID": "53541",
                                    "CustomerID": "30097",
                                    "OrderDate": "2013-07-31 00:00:00.000",
                                    "City": "Seaford",
                                    "ProductID": "707"
                                },
                                {
                                    "SalesOrderID": "53545",
                                    "CustomerID": "30007",
                                    "OrderDate": "2013-07-31 00:00:00.000",
                                    "City": "Quebec",
                                    "ProductID": "707"
                                },
                                {
                                    "SalesOrderID": "53492",
                                    "CustomerID": "29972",
                                    "OrderDate": "2013-07-31 00:00:00.000",
                                    "City": "Perth",
                                    "ProductID": "707"
                                },
                                {
                                    "SalesOrderID": "53608",
                                    "CustomerID": "29812",
                                    "OrderDate": "2013-07-31 00:00:00.000",
                                    "City": "Frankfurt am Main",
                                    "ProductID": "707"
                                },
                                {
                                    "SalesOrderID": "53574",
                                    "CustomerID": "29612",
                                    "OrderDate": "2013-07-31 00:00:00.000",
                                    "City": "High Wycombe",
                                    "ProductID": "707"
                                },
                                {
                                    "SalesOrderID": "53606",
                                    "CustomerID": "29929",
                                    "OrderDate": "2013-07-31 00:00:00.000",
                                    "City": "Fullerton",
                                    "ProductID": "707"
                                },
                                {
                                    "SalesOrderID": "53615",
                                    "CustomerID": "30082",
                                    "OrderDate": "2013-07-31 00:00:00.000",
                                    "City": "Saarbrücken",
                                    "ProductID": "707"
                                },
                                {
                                    "SalesOrderID": "53611",
                                    "CustomerID": "29635",
                                    "OrderDate": "2013-07-31 00:00:00.000",
                                    "City": "Kansas City",
                                    "ProductID": "707"
                                },
                                {
                                    "SalesOrderID": "53458",
                                    "CustomerID": "29736",
                                    "OrderDate": "2013-07-31 00:00:00.000",
                                    "City": "Woolston",
                                    "ProductID": "707"
                                },
                                {
                                    "SalesOrderID": "53505",
                                    "CustomerID": "29552",
                                    "OrderDate": "2013-07-31 00:00:00.000",
                                    "City": "Münster",
                                    "ProductID": "707"
                                },
                                {
                                    "SalesOrderID": "53399",
                                    "CustomerID": "11343",
                                    "OrderDate": "2013-07-30 00:00:00.000",
                                    "City": "Oxon",
                                    "ProductID": "707"
                                },
                                {
                                    "SalesOrderID": "53439",
                                    "CustomerID": "14010",
                                    "OrderDate": "2013-07-30 00:00:00.000",
                                    "City": "Melton",
                                    "ProductID": "707"
                                },
                                {
                                    "SalesOrderID": "53407",
                                    "CustomerID": "24594",
                                    "OrderDate": "2013-07-30 00:00:00.000",
                                    "City": "Gold Coast",
                                    "ProductID": "707"
                                },
                                {
                                    "SalesOrderID": "53412",
                                    "CustomerID": "17350",
                                    "OrderDate": "2013-07-30 00:00:00.000",
                                    "City": "Rhodes",
                                    "ProductID": "707"
                                },
                                {
                                    "SalesOrderID": "53405",
                                    "CustomerID": "18256",
                                    "OrderDate": "2013-07-30 00:00:00.000",
                                    "City": "Brisbane",
                                    "ProductID": "707"
                                },
                                {
                                    "SalesOrderID": "53444",
                                    "CustomerID": "26322",
                                    "OrderDate": "2013-07-30 00:00:00.000",
                                    "City": "Issaquah",
                                    "ProductID": "707"
                                },
                                {
                                    "SalesOrderID": "53404",
                                    "CustomerID": "14126",
                                    "OrderDate": "2013-07-30 00:00:00.000",
                                    "City": "Sunbury",
                                    "ProductID": "707"
                                },
                                {
                                    "SalesOrderID": "53417",
                                    "CustomerID": "23274",
                                    "OrderDate": "2013-07-30 00:00:00.000",
                                    "City": "Seattle",
                                    "ProductID": "707"
                                },
                                {
                                    "SalesOrderID": "53376",
                                    "CustomerID": "12840",
                                    "OrderDate": "2013-07-29 00:00:00.000",
                                    "City": "Gateshead",
                                    "ProductID": "707"
                                },
                                {
                                    "SalesOrderID": "53383",
                                    "CustomerID": "17785",
                                    "OrderDate": "2013-07-29 00:00:00.000",
                                    "City": "Maidenhead",
                                    "ProductID": "707"
                                },
                                {
                                    "SalesOrderID": "53391",
                                    "CustomerID": "24275",
                                    "OrderDate": "2013-07-29 00:00:00.000",
                                    "City": "Palo Alto",
                                    "ProductID": "707"
                                },
                                {
                                    "SalesOrderID": "53361",
                                    "CustomerID": "29347",
                                    "OrderDate": "2013-07-29 00:00:00.000",
                                    "City": "San Gabriel",
                                    "ProductID": "707"
                                },
                                {
                                    "SalesOrderID": "53335",
                                    "CustomerID": "28714",
                                    "OrderDate": "2013-07-28 00:00:00.000",
                                    "City": "Sunbury",
                                    "ProductID": "707"
                                },
                                {
                                    "SalesOrderID": "53303",
                                    "CustomerID": "23580",
                                    "OrderDate": "2013-07-28 00:00:00.000",
                                    "City": "Concord",
                                    "ProductID": "707"
                                },
                                {
                                    "SalesOrderID": "53339",
                                    "CustomerID": "24526",
                                    "OrderDate": "2013-07-28 00:00:00.000",
                                    "City": "Lemon Grove",
                                    "ProductID": "707"
                                },
                                {
                                    "SalesOrderID": "53320",
                                    "CustomerID": "27782",
                                    "OrderDate": "2013-07-28 00:00:00.000",
                                    "City": "Watford",
                                    "ProductID": "707"
                                },
                                {
                                    "SalesOrderID": "53324",
                                    "CustomerID": "25324",
                                    "OrderDate": "2013-07-28 00:00:00.000",
                                    "City": "Wokingham",
                                    "ProductID": "707"
                                },
                                {
                                    "SalesOrderID": "53343",
                                    "CustomerID": "14733",
                                    "OrderDate": "2013-07-28 00:00:00.000",
                                    "City": "Berkeley",
                                    "ProductID": "707"
                                },
                                {
                                    "SalesOrderID": "53266",
                                    "CustomerID": "23743",
                                    "OrderDate": "2013-07-27 00:00:00.000",
                                    "City": "Maidenhead",
                                    "ProductID": "707"
                                },
                                {
                                    "SalesOrderID": "53274",
                                    "CustomerID": "11735",
                                    "OrderDate": "2013-07-27 00:00:00.000",
                                    "City": "Lynnwood",
                                    "ProductID": "707"
                                },
                                {
                                    "SalesOrderID": "53285",
                                    "CustomerID": "22329",
                                    "OrderDate": "2013-07-27 00:00:00.000",
                                    "City": "Lake Oswego",
                                    "ProductID": "707"
                                },
                                {
                                    "SalesOrderID": "53267",
                                    "CustomerID": "23959",
                                    "OrderDate": "2013-07-27 00:00:00.000",
                                    "City": "Bottrop",
                                    "ProductID": "707"
                                },
                                {
                                    "SalesOrderID": "53192",
                                    "CustomerID": "15153",
                                    "OrderDate": "2013-07-26 00:00:00.000",
                                    "City": "Coffs Harbour",
                                    "ProductID": "707"
                                },
                                {
                                    "SalesOrderID": "53203",
                                    "CustomerID": "15559",
                                    "OrderDate": "2013-07-26 00:00:00.000",
                                    "City": "Cliffside",
                                    "ProductID": "707"
                                },
                                {
                                    "SalesOrderID": "53195",
                                    "CustomerID": "14851",
                                    "OrderDate": "2013-07-26 00:00:00.000",
                                    "City": "Roissy en Brie",
                                    "ProductID": "707"
                                },
                                {
                                    "SalesOrderID": "53170",
                                    "CustomerID": "12059",
                                    "OrderDate": "2013-07-25 00:00:00.000",
                                    "City": "Renton",
                                    "ProductID": "707"
                                },
                                {
                                    "SalesOrderID": "53172",
                                    "CustomerID": "17648",
                                    "OrderDate": "2013-07-25 00:00:00.000",
                                    "City": "Les Ulis",
                                    "ProductID": "707"
                                },
                                {
                                    "SalesOrderID": "53149",
                                    "CustomerID": "14328",
                                    "OrderDate": "2013-07-25 00:00:00.000",
                                    "City": "Shawnee",
                                    "ProductID": "707"
                                },
                                {
                                    "SalesOrderID": "53179",
                                    "CustomerID": "21608",
                                    "OrderDate": "2013-07-25 00:00:00.000",
                                    "City": "Redmond",
                                    "ProductID": "707"
                                },
                                {
                                    "SalesOrderID": "53118",
                                    "CustomerID": "17387",
                                    "OrderDate": "2013-07-24 00:00:00.000",
                                    "City": "Metchosin",
                                    "ProductID": "707"
                                },
                                {
                                    "SalesOrderID": "53092",
                                    "CustomerID": "11185",
                                    "OrderDate": "2013-07-24 00:00:00.000",
                                    "City": "Metchosin",
                                    "ProductID": "707"
                                },
                                {
                                    "SalesOrderID": "53097",
                                    "CustomerID": "15974",
                                    "OrderDate": "2013-07-24 00:00:00.000",
                                    "City": "Langley",
                                    "ProductID": "707"
                                },
                                {
                                    "SalesOrderID": "53104",
                                    "CustomerID": "13696",
                                    "OrderDate": "2013-07-24 00:00:00.000",
                                    "City": "Neunkirchen",
                                    "ProductID": "707"
                                },
                                {
                                    "SalesOrderID": "53024",
                                    "CustomerID": "15526",
                                    "OrderDate": "2013-07-23 00:00:00.000",
                                    "City": "Westminster",
                                    "ProductID": "707"
                                },
                                {
                                    "SalesOrderID": "53030",
                                    "CustomerID": "15498",
                                    "OrderDate": "2013-07-23 00:00:00.000",
                                    "City": "Shawnee",
                                    "ProductID": "707"
                                },
                                {
                                    "SalesOrderID": "53050",
                                    "CustomerID": "20199",
                                    "OrderDate": "2013-07-23 00:00:00.000",
                                    "City": "Newport Beach",
                                    "ProductID": "707"
                                },
                                {
                                    "SalesOrderID": "53060",
                                    "CustomerID": "26743",
                                    "OrderDate": "2013-07-23 00:00:00.000",
                                    "City": "St. Leonards",
                                    "ProductID": "707"
                                },
                                {
                                    "SalesOrderID": "53063",
                                    "CustomerID": "22112",
                                    "OrderDate": "2013-07-23 00:00:00.000",
                                    "City": "Port Hammond",
                                    "ProductID": "707"
                                },
                                {
                                    "SalesOrderID": "53055",
                                    "CustomerID": "11326",
                                    "OrderDate": "2013-07-23 00:00:00.000",
                                    "City": "Beverly Hills",
                                    "ProductID": "707"
                                },
                                {
                                    "SalesOrderID": "53023",
                                    "CustomerID": "11277",
                                    "OrderDate": "2013-07-23 00:00:00.000",
                                    "City": "Royal Oak",
                                    "ProductID": "707"
                                },
                                {
                                    "SalesOrderID": "53059",
                                    "CustomerID": "28309",
                                    "OrderDate": "2013-07-23 00:00:00.000",
                                    "City": "Gold Coast",
                                    "ProductID": "707"
                                },
                                {
                                    "SalesOrderID": "53011",
                                    "CustomerID": "17070",
                                    "OrderDate": "2013-07-23 00:00:00.000",
                                    "City": "Sydney",
                                    "ProductID": "707"
                                },
                                {
                                    "SalesOrderID": "52996",
                                    "CustomerID": "12793",
                                    "OrderDate": "2013-07-22 00:00:00.000",
                                    "City": "Chula Vista",
                                    "ProductID": "707"
                                },
                                {
                                    "SalesOrderID": "52984",
                                    "CustomerID": "12183",
                                    "OrderDate": "2013-07-22 00:00:00.000",
                                    "City": "Sooke",
                                    "ProductID": "707"
                                },
                                {
                                    "SalesOrderID": "53002",
                                    "CustomerID": "14939",
                                    "OrderDate": "2013-07-22 00:00:00.000",
                                    "City": "Grevenbroich",
                                    "ProductID": "707"
                                },
                                {
                                    "SalesOrderID": "52989",
                                    "CustomerID": "23937",
                                    "OrderDate": "2013-07-22 00:00:00.000",
                                    "City": "Bonn",
                                    "ProductID": "707"
                                },
                                {
                                    "SalesOrderID": "52988",
                                    "CustomerID": "14782",
                                    "OrderDate": "2013-07-22 00:00:00.000",
                                    "City": "Paderborn",
                                    "ProductID": "707"
                                },
                                {
                                    "SalesOrderID": "52944",
                                    "CustomerID": "16936",
                                    "OrderDate": "2013-07-21 00:00:00.000",
                                    "City": "Paris La Defense",
                                    "ProductID": "707"
                                },
                                {
                                    "SalesOrderID": "52950",
                                    "CustomerID": "11832",
                                    "OrderDate": "2013-07-21 00:00:00.000",
                                    "City": "Walla Walla",
                                    "ProductID": "707"
                                },
                                {
                                    "SalesOrderID": "52920",
                                    "CustomerID": "20210",
                                    "OrderDate": "2013-07-20 00:00:00.000",
                                    "City": "Oregon City",
                                    "ProductID": "707"
                                },
                                {
                                    "SalesOrderID": "52896",
                                    "CustomerID": "24429",
                                    "OrderDate": "2013-07-20 00:00:00.000",
                                    "City": "Seattle",
                                    "ProductID": "707"
                                },
                                {
                                    "SalesOrderID": "52915",
                                    "CustomerID": "11884",
                                    "OrderDate": "2013-07-20 00:00:00.000",
                                    "City": "Ballard",
                                    "ProductID": "707"
                                },
                                {
                                    "SalesOrderID": "52921",
                                    "CustomerID": "13862",
                                    "OrderDate": "2013-07-20 00:00:00.000",
                                    "City": "Bellflower",
                                    "ProductID": "707"
                                },
                                {
                                    "SalesOrderID": "52884",
                                    "CustomerID": "14518",
                                    "OrderDate": "2013-07-20 00:00:00.000",
                                    "City": "Caloundra",
                                    "ProductID": "707"
                                },
                                {
                                    "SalesOrderID": "52929",
                                    "CustomerID": "25640",
                                    "OrderDate": "2013-07-20 00:00:00.000",
                                    "City": "Erlangen",
                                    "ProductID": "707"
                                },
                                {
                                    "SalesOrderID": "52875",
                                    "CustomerID": "16812",
                                    "OrderDate": "2013-07-19 00:00:00.000",
                                    "City": "Imperial Beach",
                                    "ProductID": "707"
                                },
                                {
                                    "SalesOrderID": "52881",
                                    "CustomerID": "25615",
                                    "OrderDate": "2013-07-19 00:00:00.000",
                                    "City": "Leeds",
                                    "ProductID": "707"
                                },
                                {
                                    "SalesOrderID": "52866",
                                    "CustomerID": "22097",
                                    "OrderDate": "2013-07-19 00:00:00.000",
                                    "City": "Victoria",
                                    "ProductID": "707"
                                },
                                {
                                    "SalesOrderID": "52880",
                                    "CustomerID": "22646",
                                    "OrderDate": "2013-07-19 00:00:00.000",
                                    "City": "London",
                                    "ProductID": "707"
                                },
                                {
                                    "SalesOrderID": "52864",
                                    "CustomerID": "17016",
                                    "OrderDate": "2013-07-19 00:00:00.000",
                                    "City": "San Francisco",
                                    "ProductID": "707"
                                },
                                {
                                    "SalesOrderID": "52844",
                                    "CustomerID": "11998",
                                    "OrderDate": "2013-07-19 00:00:00.000",
                                    "City": "Hawthorne",
                                    "ProductID": "707"
                                },
                                {
                                    "SalesOrderID": "52841",
                                    "CustomerID": "18296",
                                    "OrderDate": "2013-07-19 00:00:00.000",
                                    "City": "Coffs Harbour",
                                    "ProductID": "707"
                                },
                                {
                                    "SalesOrderID": "52789",
                                    "CustomerID": "11078",
                                    "OrderDate": "2013-07-18 00:00:00.000",
                                    "City": "Cliffside",
                                    "ProductID": "707"
                                },
                                {
                                    "SalesOrderID": "52802",
                                    "CustomerID": "18751",
                                    "OrderDate": "2013-07-18 00:00:00.000",
                                    "City": "Berkeley",
                                    "ProductID": "707"
                                },
                                {
                                    "SalesOrderID": "52804",
                                    "CustomerID": "16877",
                                    "OrderDate": "2013-07-18 00:00:00.000",
                                    "City": "Ballard",
                                    "ProductID": "707"
                                },
                                {
                                    "SalesOrderID": "52840",
                                    "CustomerID": "24083",
                                    "OrderDate": "2013-07-18 00:00:00.000",
                                    "City": "Les Ulis",
                                    "ProductID": "707"
                                },
                                {
                                    "SalesOrderID": "52744",
                                    "CustomerID": "17583",
                                    "OrderDate": "2013-07-17 00:00:00.000",
                                    "City": "Bremerton",
                                    "ProductID": "707"
                                },
                                {
                                    "SalesOrderID": "52772",
                                    "CustomerID": "21031",
                                    "OrderDate": "2013-07-17 00:00:00.000",
                                    "City": "Roncq",
                                    "ProductID": "707"
                                },
                                {
                                    "SalesOrderID": "52763",
                                    "CustomerID": "20154",
                                    "OrderDate": "2013-07-17 00:00:00.000",
                                    "City": "Matraville",
                                    "ProductID": "707"
                                },
                                {
                                    "SalesOrderID": "52765",
                                    "CustomerID": "26317",
                                    "OrderDate": "2013-07-17 00:00:00.000",
                                    "City": "Redmond",
                                    "ProductID": "707"
                                },
                                {
                                    "SalesOrderID": "52727",
                                    "CustomerID": "25815",
                                    "OrderDate": "2013-07-17 00:00:00.000",
                                    "City": "Darlinghurst",
                                    "ProductID": "707"
                                },
                                {
                                    "SalesOrderID": "52770",
                                    "CustomerID": "21050",
                                    "OrderDate": "2013-07-17 00:00:00.000",
                                    "City": "Paris",
                                    "ProductID": "707"
                                },
                                {
                                    "SalesOrderID": "52760",
                                    "CustomerID": "11665",
                                    "OrderDate": "2013-07-17 00:00:00.000",
                                    "City": "Chula Vista",
                                    "ProductID": "707"
                                },
                                {
                                    "SalesOrderID": "52717",
                                    "CustomerID": "14011",
                                    "OrderDate": "2013-07-16 00:00:00.000",
                                    "City": "St. Leonards",
                                    "ProductID": "707"
                                },
                                {
                                    "SalesOrderID": "52706",
                                    "CustomerID": "25719",
                                    "OrderDate": "2013-07-16 00:00:00.000",
                                    "City": "Berlin",
                                    "ProductID": "707"
                                },
                                {
                                    "SalesOrderID": "52648",
                                    "CustomerID": "28450",
                                    "OrderDate": "2013-07-15 00:00:00.000",
                                    "City": "Paderborn",
                                    "ProductID": "707"
                                },
                                {
                                    "SalesOrderID": "52628",
                                    "CustomerID": "24777",
                                    "OrderDate": "2013-07-15 00:00:00.000",
                                    "City": "Redwood City",
                                    "ProductID": "707"
                                },
                                {
                                    "SalesOrderID": "52635",
                                    "CustomerID": "12919",
                                    "OrderDate": "2013-07-15 00:00:00.000",
                                    "City": "Langford",
                                    "ProductID": "707"
                                },
                                {
                                    "SalesOrderID": "52653",
                                    "CustomerID": "14339",
                                    "OrderDate": "2013-07-15 00:00:00.000",
                                    "City": "Bellflower",
                                    "ProductID": "707"
                                },
                                {
                                    "SalesOrderID": "52647",
                                    "CustomerID": "20940",
                                    "OrderDate": "2013-07-15 00:00:00.000",
                                    "City": "Colombes",
                                    "ProductID": "707"
                                },
                                {
                                    "SalesOrderID": "52659",
                                    "CustomerID": "25743",
                                    "OrderDate": "2013-07-15 00:00:00.000",
                                    "City": "Les Ulis",
                                    "ProductID": "707"
                                },
                                {
                                    "SalesOrderID": "52668",
                                    "CustomerID": "27821",
                                    "OrderDate": "2013-07-15 00:00:00.000",
                                    "City": "York",
                                    "ProductID": "707"
                                },
                                {
                                    "SalesOrderID": "52640",
                                    "CustomerID": "16454",
                                    "OrderDate": "2013-07-15 00:00:00.000",
                                    "City": "West Sussex",
                                    "ProductID": "707"
                                },
                                {
                                    "SalesOrderID": "52607",
                                    "CustomerID": "16958",
                                    "OrderDate": "2013-07-14 00:00:00.000",
                                    "City": "Cliffside",
                                    "ProductID": "707"
                                },
                                {
                                    "SalesOrderID": "52583",
                                    "CustomerID": "21254",
                                    "OrderDate": "2013-07-14 00:00:00.000",
                                    "City": "Geelong",
                                    "ProductID": "707"
                                },
                                {
                                    "SalesOrderID": "52600",
                                    "CustomerID": "16568",
                                    "OrderDate": "2013-07-14 00:00:00.000",
                                    "City": "Kassel",
                                    "ProductID": "707"
                                },
                                {
                                    "SalesOrderID": "52576",
                                    "CustomerID": "14940",
                                    "OrderDate": "2013-07-13 00:00:00.000",
                                    "City": "Paderborn",
                                    "ProductID": "707"
                                },
                                {
                                    "SalesOrderID": "52569",
                                    "CustomerID": "19766",
                                    "OrderDate": "2013-07-13 00:00:00.000",
                                    "City": "Malabar",
                                    "ProductID": "707"
                                },
                                {
                                    "SalesOrderID": "52557",
                                    "CustomerID": "17786",
                                    "OrderDate": "2013-07-13 00:00:00.000",
                                    "City": "Newcastle upon Tyne",
                                    "ProductID": "707"
                                },
                                {
                                    "SalesOrderID": "52500",
                                    "CustomerID": "15469",
                                    "OrderDate": "2013-07-12 00:00:00.000",
                                    "City": "Santa Cruz",
                                    "ProductID": "707"
                                },
                                {
                                    "SalesOrderID": "52480",
                                    "CustomerID": "19455",
                                    "OrderDate": "2013-07-12 00:00:00.000",
                                    "City": "Kirkby",
                                    "ProductID": "707"
                                },
                                {
                                    "SalesOrderID": "52491",
                                    "CustomerID": "13095",
                                    "OrderDate": "2013-07-12 00:00:00.000",
                                    "City": "Shawnee",
                                    "ProductID": "707"
                                },
                                {
                                    "SalesOrderID": "52473",
                                    "CustomerID": "11276",
                                    "OrderDate": "2013-07-12 00:00:00.000",
                                    "City": "Cliffside",
                                    "ProductID": "707"
                                },
                                {
                                    "SalesOrderID": "52501",
                                    "CustomerID": "15330",
                                    "OrderDate": "2013-07-12 00:00:00.000",
                                    "City": "Bremerton",
                                    "ProductID": "707"
                                },
                                {
                                    "SalesOrderID": "52513",
                                    "CustomerID": "11618",
                                    "OrderDate": "2013-07-12 00:00:00.000",
                                    "City": "Cliffside",
                                    "ProductID": "707"
                                },
                                {
                                    "SalesOrderID": "52462",
                                    "CustomerID": "19531",
                                    "OrderDate": "2013-07-11 00:00:00.000",
                                    "City": "Colma",
                                    "ProductID": "707"
                                },
                                {
                                    "SalesOrderID": "52452",
                                    "CustomerID": "11307",
                                    "OrderDate": "2013-07-11 00:00:00.000",
                                    "City": "Daly City",
                                    "ProductID": "707"
                                },
                                {
                                    "SalesOrderID": "52410",
                                    "CustomerID": "11250",
                                    "OrderDate": "2013-07-11 00:00:00.000",
                                    "City": "Woolston",
                                    "ProductID": "707"
                                },
                                {
                                    "SalesOrderID": "52393",
                                    "CustomerID": "16584",
                                    "OrderDate": "2013-07-10 00:00:00.000",
                                    "City": "Watford",
                                    "ProductID": "707"
                                },
                                {
                                    "SalesOrderID": "52404",
                                    "CustomerID": "25612",
                                    "OrderDate": "2013-07-10 00:00:00.000",
                                    "City": "Maidenhead",
                                    "ProductID": "707"
                                },
                                {
                                    "SalesOrderID": "52401",
                                    "CustomerID": "23750",
                                    "OrderDate": "2013-07-10 00:00:00.000",
                                    "City": "London",
                                    "ProductID": "707"
                                },
                                {
                                    "SalesOrderID": "52398",
                                    "CustomerID": "20159",
                                    "OrderDate": "2013-07-10 00:00:00.000",
                                    "City": "Matraville",
                                    "ProductID": "707"
                                },
                                {
                                    "SalesOrderID": "52396",
                                    "CustomerID": "11666",
                                    "OrderDate": "2013-07-10 00:00:00.000",
                                    "City": "Torrance",
                                    "ProductID": "707"
                                },
                                {
                                    "SalesOrderID": "52366",
                                    "CustomerID": "19954",
                                    "OrderDate": "2013-07-10 00:00:00.000",
                                    "City": "Geelong",
                                    "ProductID": "707"
                                },
                                {
                                    "SalesOrderID": "52364",
                                    "CustomerID": "19443",
                                    "OrderDate": "2013-07-09 00:00:00.000",
                                    "City": "Stuttgart",
                                    "ProductID": "707"
                                },
                                {
                                    "SalesOrderID": "52341",
                                    "CustomerID": "23824",
                                    "OrderDate": "2013-07-09 00:00:00.000",
                                    "City": "Downey",
                                    "ProductID": "707"
                                },
                                {
                                    "SalesOrderID": "52349",
                                    "CustomerID": "23679",
                                    "OrderDate": "2013-07-09 00:00:00.000",
                                    "City": "Oak Bay",
                                    "ProductID": "707"
                                },
                                {
                                    "SalesOrderID": "52336",
                                    "CustomerID": "29040",
                                    "OrderDate": "2013-07-09 00:00:00.000",
                                    "City": "Berkeley",
                                    "ProductID": "707"
                                },
                                {
                                    "SalesOrderID": "52350",
                                    "CustomerID": "14512",
                                    "OrderDate": "2013-07-09 00:00:00.000",
                                    "City": "Puyallup",
                                    "ProductID": "707"
                                },
                                {
                                    "SalesOrderID": "52337",
                                    "CustomerID": "26272",
                                    "OrderDate": "2013-07-09 00:00:00.000",
                                    "City": "Yakima",
                                    "ProductID": "707"
                                },
                                {
                                    "SalesOrderID": "52325",
                                    "CustomerID": "24669",
                                    "OrderDate": "2013-07-08 00:00:00.000",
                                    "City": "San Gabriel",
                                    "ProductID": "707"
                                },
                                {
                                    "SalesOrderID": "52322",
                                    "CustomerID": "11216",
                                    "OrderDate": "2013-07-08 00:00:00.000",
                                    "City": "Portland",
                                    "ProductID": "707"
                                },
                                {
                                    "SalesOrderID": "52300",
                                    "CustomerID": "26807",
                                    "OrderDate": "2013-07-08 00:00:00.000",
                                    "City": "Lemon Grove",
                                    "ProductID": "707"
                                },
                                {
                                    "SalesOrderID": "52296",
                                    "CustomerID": "14951",
                                    "OrderDate": "2013-07-08 00:00:00.000",
                                    "City": "Mühlheim",
                                    "ProductID": "707"
                                },
                                {
                                    "SalesOrderID": "52282",
                                    "CustomerID": "11494",
                                    "OrderDate": "2013-07-08 00:00:00.000",
                                    "City": "Runcorn",
                                    "ProductID": "707"
                                },
                                {
                                    "SalesOrderID": "52214",
                                    "CustomerID": "11483",
                                    "OrderDate": "2013-07-07 00:00:00.000",
                                    "City": "Paris",
                                    "ProductID": "707"
                                },
                                {
                                    "SalesOrderID": "52260",
                                    "CustomerID": "26233",
                                    "OrderDate": "2013-07-07 00:00:00.000",
                                    "City": "Bonn",
                                    "ProductID": "707"
                                },
                                {
                                    "SalesOrderID": "52236",
                                    "CustomerID": "23050",
                                    "OrderDate": "2013-07-07 00:00:00.000",
                                    "City": "Salem",
                                    "ProductID": "707"
                                },
                                {
                                    "SalesOrderID": "52258",
                                    "CustomerID": "23235",
                                    "OrderDate": "2013-07-07 00:00:00.000",
                                    "City": "London",
                                    "ProductID": "707"
                                },
                                {
                                    "SalesOrderID": "52213",
                                    "CustomerID": "11410",
                                    "OrderDate": "2013-07-07 00:00:00.000",
                                    "City": "Paris",
                                    "ProductID": "707"
                                },
                                {
                                    "SalesOrderID": "52220",
                                    "CustomerID": "13998",
                                    "OrderDate": "2013-07-07 00:00:00.000",
                                    "City": "Cranbourne",
                                    "ProductID": "707"
                                },
                                {
                                    "SalesOrderID": "52272",
                                    "CustomerID": "24522",
                                    "OrderDate": "2013-07-07 00:00:00.000",
                                    "City": "Santa Monica",
                                    "ProductID": "707"
                                },
                                {
                                    "SalesOrderID": "52225",
                                    "CustomerID": "29014",
                                    "OrderDate": "2013-07-07 00:00:00.000",
                                    "City": "Edmonds",
                                    "ProductID": "707"
                                },
                                {
                                    "SalesOrderID": "52217",
                                    "CustomerID": "17078",
                                    "OrderDate": "2013-07-07 00:00:00.000",
                                    "City": "Darlinghurst",
                                    "ProductID": "707"
                                },
                                {
                                    "SalesOrderID": "52229",
                                    "CustomerID": "26573",
                                    "OrderDate": "2013-07-07 00:00:00.000",
                                    "City": "Spokane",
                                    "ProductID": "707"
                                },
                                {
                                    "SalesOrderID": "52177",
                                    "CustomerID": "23729",
                                    "OrderDate": "2013-07-06 00:00:00.000",
                                    "City": "Novato",
                                    "ProductID": "707"
                                },
                                {
                                    "SalesOrderID": "52163",
                                    "CustomerID": "11978",
                                    "OrderDate": "2013-07-06 00:00:00.000",
                                    "City": "Fremont",
                                    "ProductID": "707"
                                },
                                {
                                    "SalesOrderID": "52165",
                                    "CustomerID": "16617",
                                    "OrderDate": "2013-07-06 00:00:00.000",
                                    "City": "Warrnambool",
                                    "ProductID": "707"
                                },
                                {
                                    "SalesOrderID": "52189",
                                    "CustomerID": "15257",
                                    "OrderDate": "2013-07-06 00:00:00.000",
                                    "City": "Bremerton",
                                    "ProductID": "707"
                                },
                                {
                                    "SalesOrderID": "52198",
                                    "CustomerID": "12502",
                                    "OrderDate": "2013-07-06 00:00:00.000",
                                    "City": "Oxon",
                                    "ProductID": "707"
                                },
                                {
                                    "SalesOrderID": "52186",
                                    "CustomerID": "16814",
                                    "OrderDate": "2013-07-06 00:00:00.000",
                                    "City": "National City",
                                    "ProductID": "707"
                                },
                                {
                                    "SalesOrderID": "52193",
                                    "CustomerID": "15278",
                                    "OrderDate": "2013-07-06 00:00:00.000",
                                    "City": "San Carlos",
                                    "ProductID": "707"
                                },
                                {
                                    "SalesOrderID": "52192",
                                    "CustomerID": "21339",
                                    "OrderDate": "2013-07-06 00:00:00.000",
                                    "City": "Westminster",
                                    "ProductID": "707"
                                },
                                {
                                    "SalesOrderID": "52140",
                                    "CustomerID": "26852",
                                    "OrderDate": "2013-07-05 00:00:00.000",
                                    "City": "Saarbrücken",
                                    "ProductID": "707"
                                },
                                {
                                    "SalesOrderID": "52110",
                                    "CustomerID": "12742",
                                    "OrderDate": "2013-07-05 00:00:00.000",
                                    "City": "Solingen",
                                    "ProductID": "707"
                                },
                                {
                                    "SalesOrderID": "52145",
                                    "CustomerID": "12708",
                                    "OrderDate": "2013-07-05 00:00:00.000",
                                    "City": "Chula Vista",
                                    "ProductID": "707"
                                },
                                {
                                    "SalesOrderID": "52149",
                                    "CustomerID": "28720",
                                    "OrderDate": "2013-07-05 00:00:00.000",
                                    "City": "Brisbane",
                                    "ProductID": "707"
                                },
                                {
                                    "SalesOrderID": "52112",
                                    "CustomerID": "11496",
                                    "OrderDate": "2013-07-05 00:00:00.000",
                                    "City": "Warrington",
                                    "ProductID": "707"
                                },
                                {
                                    "SalesOrderID": "52116",
                                    "CustomerID": "27968",
                                    "OrderDate": "2013-07-05 00:00:00.000",
                                    "City": "St. Leonards",
                                    "ProductID": "707"
                                },
                                {
                                    "SalesOrderID": "52107",
                                    "CustomerID": "18272",
                                    "OrderDate": "2013-07-05 00:00:00.000",
                                    "City": "Lavender Bay",
                                    "ProductID": "707"
                                },
                                {
                                    "SalesOrderID": "52113",
                                    "CustomerID": "11277",
                                    "OrderDate": "2013-07-05 00:00:00.000",
                                    "City": "Royal Oak",
                                    "ProductID": "707"
                                },
                                {
                                    "SalesOrderID": "52078",
                                    "CustomerID": "25439",
                                    "OrderDate": "2013-07-04 00:00:00.000",
                                    "City": "Chula Vista",
                                    "ProductID": "707"
                                },
                                {
                                    "SalesOrderID": "52085",
                                    "CustomerID": "14561",
                                    "OrderDate": "2013-07-04 00:00:00.000",
                                    "City": "Shawnee",
                                    "ProductID": "707"
                                },
                                {
                                    "SalesOrderID": "52028",
                                    "CustomerID": "26132",
                                    "OrderDate": "2013-07-03 00:00:00.000",
                                    "City": "Cranbourne",
                                    "ProductID": "707"
                                },
                                {
                                    "SalesOrderID": "52027",
                                    "CustomerID": "27981",
                                    "OrderDate": "2013-07-03 00:00:00.000",
                                    "City": "Melton",
                                    "ProductID": "707"
                                },
                                {
                                    "SalesOrderID": "52001",
                                    "CustomerID": "13574",
                                    "OrderDate": "2013-07-02 00:00:00.000",
                                    "City": "Dresden",
                                    "ProductID": "707"
                                },
                                {
                                    "SalesOrderID": "52015",
                                    "CustomerID": "22282",
                                    "OrderDate": "2013-07-02 00:00:00.000",
                                    "City": "Lake Oswego",
                                    "ProductID": "707"
                                },
                                {
                                    "SalesOrderID": "51971",
                                    "CustomerID": "16609",
                                    "OrderDate": "2013-07-02 00:00:00.000",
                                    "City": "Hobart",
                                    "ProductID": "707"
                                },
                                {
                                    "SalesOrderID": "52011",
                                    "CustomerID": "12053",
                                    "OrderDate": "2013-07-02 00:00:00.000",
                                    "City": "Burbank",
                                    "ProductID": "707"
                                },
                                {
                                    "SalesOrderID": "51955",
                                    "CustomerID": "13582",
                                    "OrderDate": "2013-07-01 00:00:00.000",
                                    "City": "London",
                                    "ProductID": "707"
                                },
                                {
                                    "SalesOrderID": "51936",
                                    "CustomerID": "11287",
                                    "OrderDate": "2013-07-01 00:00:00.000",
                                    "City": "Cliffside",
                                    "ProductID": "707"
                                },
                                {
                                    "SalesOrderID": "51930",
                                    "CustomerID": "15766",
                                    "OrderDate": "2013-07-01 00:00:00.000",
                                    "City": "Melton",
                                    "ProductID": "707"
                                },
                                {
                                    "SalesOrderID": "51957",
                                    "CustomerID": "12061",
                                    "OrderDate": "2013-07-01 00:00:00.000",
                                    "City": "Royal Oak",
                                    "ProductID": "707"
                                },
                                {
                                    "SalesOrderID": "51926",
                                    "CustomerID": "14557",
                                    "OrderDate": "2013-07-01 00:00:00.000",
                                    "City": "Hobart",
                                    "ProductID": "707"
                                },
                                {
                                    "SalesOrderID": "51949",
                                    "CustomerID": "16041",
                                    "OrderDate": "2013-07-01 00:00:00.000",
                                    "City": "Saint Germain en Laye",
                                    "ProductID": "707"
                                },
                                {
                                    "SalesOrderID": "51937",
                                    "CustomerID": "17374",
                                    "OrderDate": "2013-07-01 00:00:00.000",
                                    "City": "Vancouver",
                                    "ProductID": "707"
                                }
                            ]
                        },
                        "text/html": [
                            "<table>",
                            "<tr><th>SalesOrderID</th><th>CustomerID</th><th>OrderDate</th><th>City</th><th>ProductID</th></tr>",
                            "<tr><td>53616</td><td>29637</td><td>2013-07-31 00:00:00.000</td><td>Irving</td><td>707</td></tr>",
                            "<tr><td>53513</td><td>29625</td><td>2013-07-31 00:00:00.000</td><td>Montreal</td><td>707</td></tr>",
                            "<tr><td>53554</td><td>29652</td><td>2013-07-31 00:00:00.000</td><td>North Sydney</td><td>707</td></tr>",
                            "<tr><td>53623</td><td>29873</td><td>2013-07-31 00:00:00.000</td><td>Lynnwood</td><td>707</td></tr>",
                            "<tr><td>53483</td><td>29557</td><td>2013-07-31 00:00:00.000</td><td>Richmond</td><td>707</td></tr>",
                            "<tr><td>53468</td><td>29821</td><td>2013-07-31 00:00:00.000</td><td>Sydney</td><td>707</td></tr>",
                            "<tr><td>53584</td><td>29810</td><td>2013-07-31 00:00:00.000</td><td>Kent</td><td>707</td></tr>",
                            "<tr><td>53657</td><td>25148</td><td>2013-07-31 00:00:00.000</td><td>Chula Vista</td><td>707</td></tr>",
                            "<tr><td>53660</td><td>19724</td><td>2013-07-31 00:00:00.000</td><td>Lake Oswego</td><td>707</td></tr>",
                            "<tr><td>53523</td><td>29856</td><td>2013-07-31 00:00:00.000</td><td>Boulogne-sur-Mer</td><td>707</td></tr>",
                            "<tr><td>53485</td><td>29488</td><td>2013-07-31 00:00:00.000</td><td>Rhodes</td><td>707</td></tr>",
                            "<tr><td>53499</td><td>29891</td><td>2013-07-31 00:00:00.000</td><td>Novi</td><td>707</td></tr>",
                            "<tr><td>53476</td><td>29653</td><td>2013-07-31 00:00:00.000</td><td>Santa Fe</td><td>707</td></tr>",
                            "<tr><td>53475</td><td>30043</td><td>2013-07-31 00:00:00.000</td><td>Saint Ouen</td><td>707</td></tr>",
                            "<tr><td>53634</td><td>16964</td><td>2013-07-31 00:00:00.000</td><td>Langford</td><td>707</td></tr>",
                            "<tr><td>53459</td><td>29485</td><td>2013-07-31 00:00:00.000</td><td>Van Nuys</td><td>707</td></tr>",
                            "<tr><td>53514</td><td>29550</td><td>2013-07-31 00:00:00.000</td><td>Milwaukie</td><td>707</td></tr>",
                            "<tr><td>53552</td><td>29809</td><td>2013-07-31 00:00:00.000</td><td>San Ramon</td><td>707</td></tr>",
                            "<tr><td>53586</td><td>29982</td><td>2013-07-31 00:00:00.000</td><td>Daly City</td><td>707</td></tr>",
                            "<tr><td>53633</td><td>23473</td><td>2013-07-31 00:00:00.000</td><td>W. Linn</td><td>707</td></tr>",
                            "<tr><td>53527</td><td>29770</td><td>2013-07-31 00:00:00.000</td><td>Burnaby</td><td>707</td></tr>",
                            "<tr><td>53480</td><td>30118</td><td>2013-07-31 00:00:00.000</td><td>Saint Louis</td><td>707</td></tr>",
                            "<tr><td>53467</td><td>29709</td><td>2013-07-31 00:00:00.000</td><td>Tigard</td><td>707</td></tr>",
                            "<tr><td>53613</td><td>30071</td><td>2013-07-31 00:00:00.000</td><td>Issaquah</td><td>707</td></tr>",
                            "<tr><td>53567</td><td>29551</td><td>2013-07-31 00:00:00.000</td><td>Mentor</td><td>707</td></tr>",
                            "<tr><td>53454</td><td>29579</td><td>2013-07-31 00:00:00.000</td><td>Westminster</td><td>707</td></tr>",
                            "<tr><td>53630</td><td>28267</td><td>2013-07-31 00:00:00.000</td><td>Burlingame</td><td>707</td></tr>",
                            "<tr><td>53600</td><td>29864</td><td>2013-07-31 00:00:00.000</td><td>Calgary</td><td>707</td></tr>",
                            "<tr><td>53562</td><td>29546</td><td>2013-07-31 00:00:00.000</td><td>London</td><td>707</td></tr>",
                            "<tr><td>53582</td><td>29877</td><td>2013-07-31 00:00:00.000</td><td>Englewood</td><td>707</td></tr>",
                            "<tr><td>53536</td><td>29950</td><td>2013-07-31 00:00:00.000</td><td>Toronto</td><td>707</td></tr>",
                            "<tr><td>53465</td><td>29722</td><td>2013-07-31 00:00:00.000</td><td>Toronto</td><td>707</td></tr>",
                            "<tr><td>53534</td><td>29592</td><td>2013-07-31 00:00:00.000</td><td>Waterbury</td><td>707</td></tr>",
                            "<tr><td>53460</td><td>29957</td><td>2013-07-31 00:00:00.000</td><td>Union City</td><td>707</td></tr>",
                            "<tr><td>53560</td><td>29916</td><td>2013-07-31 00:00:00.000</td><td>Lake George</td><td>707</td></tr>",
                            "<tr><td>53570</td><td>29966</td><td>2013-07-31 00:00:00.000</td><td>Melville</td><td>707</td></tr>",
                            "<tr><td>53530</td><td>29707</td><td>2013-07-31 00:00:00.000</td><td>Chantilly</td><td>707</td></tr>",
                            "<tr><td>53524</td><td>29563</td><td>2013-07-31 00:00:00.000</td><td>Bradenton</td><td>707</td></tr>",
                            "<tr><td>53472</td><td>29796</td><td>2013-07-31 00:00:00.000</td><td>Liverpool</td><td>707</td></tr>",
                            "<tr><td>53502</td><td>29823</td><td>2013-07-31 00:00:00.000</td><td>Newcastle</td><td>707</td></tr>",
                            "<tr><td>53565</td><td>30092</td><td>2013-07-31 00:00:00.000</td><td>Melbourne</td><td>707</td></tr>",
                            "<tr><td>53541</td><td>30097</td><td>2013-07-31 00:00:00.000</td><td>Seaford</td><td>707</td></tr>",
                            "<tr><td>53545</td><td>30007</td><td>2013-07-31 00:00:00.000</td><td>Quebec</td><td>707</td></tr>",
                            "<tr><td>53492</td><td>29972</td><td>2013-07-31 00:00:00.000</td><td>Perth</td><td>707</td></tr>",
                            "<tr><td>53608</td><td>29812</td><td>2013-07-31 00:00:00.000</td><td>Frankfurt am Main</td><td>707</td></tr>",
                            "<tr><td>53574</td><td>29612</td><td>2013-07-31 00:00:00.000</td><td>High Wycombe</td><td>707</td></tr>",
                            "<tr><td>53606</td><td>29929</td><td>2013-07-31 00:00:00.000</td><td>Fullerton</td><td>707</td></tr>",
                            "<tr><td>53615</td><td>30082</td><td>2013-07-31 00:00:00.000</td><td>Saarbrücken</td><td>707</td></tr>",
                            "<tr><td>53611</td><td>29635</td><td>2013-07-31 00:00:00.000</td><td>Kansas City</td><td>707</td></tr>",
                            "<tr><td>53458</td><td>29736</td><td>2013-07-31 00:00:00.000</td><td>Woolston</td><td>707</td></tr>",
                            "<tr><td>53505</td><td>29552</td><td>2013-07-31 00:00:00.000</td><td>Münster</td><td>707</td></tr>",
                            "<tr><td>53399</td><td>11343</td><td>2013-07-30 00:00:00.000</td><td>Oxon</td><td>707</td></tr>",
                            "<tr><td>53439</td><td>14010</td><td>2013-07-30 00:00:00.000</td><td>Melton</td><td>707</td></tr>",
                            "<tr><td>53407</td><td>24594</td><td>2013-07-30 00:00:00.000</td><td>Gold Coast</td><td>707</td></tr>",
                            "<tr><td>53412</td><td>17350</td><td>2013-07-30 00:00:00.000</td><td>Rhodes</td><td>707</td></tr>",
                            "<tr><td>53405</td><td>18256</td><td>2013-07-30 00:00:00.000</td><td>Brisbane</td><td>707</td></tr>",
                            "<tr><td>53444</td><td>26322</td><td>2013-07-30 00:00:00.000</td><td>Issaquah</td><td>707</td></tr>",
                            "<tr><td>53404</td><td>14126</td><td>2013-07-30 00:00:00.000</td><td>Sunbury</td><td>707</td></tr>",
                            "<tr><td>53417</td><td>23274</td><td>2013-07-30 00:00:00.000</td><td>Seattle</td><td>707</td></tr>",
                            "<tr><td>53376</td><td>12840</td><td>2013-07-29 00:00:00.000</td><td>Gateshead</td><td>707</td></tr>",
                            "<tr><td>53383</td><td>17785</td><td>2013-07-29 00:00:00.000</td><td>Maidenhead</td><td>707</td></tr>",
                            "<tr><td>53391</td><td>24275</td><td>2013-07-29 00:00:00.000</td><td>Palo Alto</td><td>707</td></tr>",
                            "<tr><td>53361</td><td>29347</td><td>2013-07-29 00:00:00.000</td><td>San Gabriel</td><td>707</td></tr>",
                            "<tr><td>53335</td><td>28714</td><td>2013-07-28 00:00:00.000</td><td>Sunbury</td><td>707</td></tr>",
                            "<tr><td>53303</td><td>23580</td><td>2013-07-28 00:00:00.000</td><td>Concord</td><td>707</td></tr>",
                            "<tr><td>53339</td><td>24526</td><td>2013-07-28 00:00:00.000</td><td>Lemon Grove</td><td>707</td></tr>",
                            "<tr><td>53320</td><td>27782</td><td>2013-07-28 00:00:00.000</td><td>Watford</td><td>707</td></tr>",
                            "<tr><td>53324</td><td>25324</td><td>2013-07-28 00:00:00.000</td><td>Wokingham</td><td>707</td></tr>",
                            "<tr><td>53343</td><td>14733</td><td>2013-07-28 00:00:00.000</td><td>Berkeley</td><td>707</td></tr>",
                            "<tr><td>53266</td><td>23743</td><td>2013-07-27 00:00:00.000</td><td>Maidenhead</td><td>707</td></tr>",
                            "<tr><td>53274</td><td>11735</td><td>2013-07-27 00:00:00.000</td><td>Lynnwood</td><td>707</td></tr>",
                            "<tr><td>53285</td><td>22329</td><td>2013-07-27 00:00:00.000</td><td>Lake Oswego</td><td>707</td></tr>",
                            "<tr><td>53267</td><td>23959</td><td>2013-07-27 00:00:00.000</td><td>Bottrop</td><td>707</td></tr>",
                            "<tr><td>53192</td><td>15153</td><td>2013-07-26 00:00:00.000</td><td>Coffs Harbour</td><td>707</td></tr>",
                            "<tr><td>53203</td><td>15559</td><td>2013-07-26 00:00:00.000</td><td>Cliffside</td><td>707</td></tr>",
                            "<tr><td>53195</td><td>14851</td><td>2013-07-26 00:00:00.000</td><td>Roissy en Brie</td><td>707</td></tr>",
                            "<tr><td>53170</td><td>12059</td><td>2013-07-25 00:00:00.000</td><td>Renton</td><td>707</td></tr>",
                            "<tr><td>53172</td><td>17648</td><td>2013-07-25 00:00:00.000</td><td>Les Ulis</td><td>707</td></tr>",
                            "<tr><td>53149</td><td>14328</td><td>2013-07-25 00:00:00.000</td><td>Shawnee</td><td>707</td></tr>",
                            "<tr><td>53179</td><td>21608</td><td>2013-07-25 00:00:00.000</td><td>Redmond</td><td>707</td></tr>",
                            "<tr><td>53118</td><td>17387</td><td>2013-07-24 00:00:00.000</td><td>Metchosin</td><td>707</td></tr>",
                            "<tr><td>53092</td><td>11185</td><td>2013-07-24 00:00:00.000</td><td>Metchosin</td><td>707</td></tr>",
                            "<tr><td>53097</td><td>15974</td><td>2013-07-24 00:00:00.000</td><td>Langley</td><td>707</td></tr>",
                            "<tr><td>53104</td><td>13696</td><td>2013-07-24 00:00:00.000</td><td>Neunkirchen</td><td>707</td></tr>",
                            "<tr><td>53024</td><td>15526</td><td>2013-07-23 00:00:00.000</td><td>Westminster</td><td>707</td></tr>",
                            "<tr><td>53030</td><td>15498</td><td>2013-07-23 00:00:00.000</td><td>Shawnee</td><td>707</td></tr>",
                            "<tr><td>53050</td><td>20199</td><td>2013-07-23 00:00:00.000</td><td>Newport Beach</td><td>707</td></tr>",
                            "<tr><td>53060</td><td>26743</td><td>2013-07-23 00:00:00.000</td><td>St. Leonards</td><td>707</td></tr>",
                            "<tr><td>53063</td><td>22112</td><td>2013-07-23 00:00:00.000</td><td>Port Hammond</td><td>707</td></tr>",
                            "<tr><td>53055</td><td>11326</td><td>2013-07-23 00:00:00.000</td><td>Beverly Hills</td><td>707</td></tr>",
                            "<tr><td>53023</td><td>11277</td><td>2013-07-23 00:00:00.000</td><td>Royal Oak</td><td>707</td></tr>",
                            "<tr><td>53059</td><td>28309</td><td>2013-07-23 00:00:00.000</td><td>Gold Coast</td><td>707</td></tr>",
                            "<tr><td>53011</td><td>17070</td><td>2013-07-23 00:00:00.000</td><td>Sydney</td><td>707</td></tr>",
                            "<tr><td>52996</td><td>12793</td><td>2013-07-22 00:00:00.000</td><td>Chula Vista</td><td>707</td></tr>",
                            "<tr><td>52984</td><td>12183</td><td>2013-07-22 00:00:00.000</td><td>Sooke</td><td>707</td></tr>",
                            "<tr><td>53002</td><td>14939</td><td>2013-07-22 00:00:00.000</td><td>Grevenbroich</td><td>707</td></tr>",
                            "<tr><td>52989</td><td>23937</td><td>2013-07-22 00:00:00.000</td><td>Bonn</td><td>707</td></tr>",
                            "<tr><td>52988</td><td>14782</td><td>2013-07-22 00:00:00.000</td><td>Paderborn</td><td>707</td></tr>",
                            "<tr><td>52944</td><td>16936</td><td>2013-07-21 00:00:00.000</td><td>Paris La Defense</td><td>707</td></tr>",
                            "<tr><td>52950</td><td>11832</td><td>2013-07-21 00:00:00.000</td><td>Walla Walla</td><td>707</td></tr>",
                            "<tr><td>52920</td><td>20210</td><td>2013-07-20 00:00:00.000</td><td>Oregon City</td><td>707</td></tr>",
                            "<tr><td>52896</td><td>24429</td><td>2013-07-20 00:00:00.000</td><td>Seattle</td><td>707</td></tr>",
                            "<tr><td>52915</td><td>11884</td><td>2013-07-20 00:00:00.000</td><td>Ballard</td><td>707</td></tr>",
                            "<tr><td>52921</td><td>13862</td><td>2013-07-20 00:00:00.000</td><td>Bellflower</td><td>707</td></tr>",
                            "<tr><td>52884</td><td>14518</td><td>2013-07-20 00:00:00.000</td><td>Caloundra</td><td>707</td></tr>",
                            "<tr><td>52929</td><td>25640</td><td>2013-07-20 00:00:00.000</td><td>Erlangen</td><td>707</td></tr>",
                            "<tr><td>52875</td><td>16812</td><td>2013-07-19 00:00:00.000</td><td>Imperial Beach</td><td>707</td></tr>",
                            "<tr><td>52881</td><td>25615</td><td>2013-07-19 00:00:00.000</td><td>Leeds</td><td>707</td></tr>",
                            "<tr><td>52866</td><td>22097</td><td>2013-07-19 00:00:00.000</td><td>Victoria</td><td>707</td></tr>",
                            "<tr><td>52880</td><td>22646</td><td>2013-07-19 00:00:00.000</td><td>London</td><td>707</td></tr>",
                            "<tr><td>52864</td><td>17016</td><td>2013-07-19 00:00:00.000</td><td>San Francisco</td><td>707</td></tr>",
                            "<tr><td>52844</td><td>11998</td><td>2013-07-19 00:00:00.000</td><td>Hawthorne</td><td>707</td></tr>",
                            "<tr><td>52841</td><td>18296</td><td>2013-07-19 00:00:00.000</td><td>Coffs Harbour</td><td>707</td></tr>",
                            "<tr><td>52789</td><td>11078</td><td>2013-07-18 00:00:00.000</td><td>Cliffside</td><td>707</td></tr>",
                            "<tr><td>52802</td><td>18751</td><td>2013-07-18 00:00:00.000</td><td>Berkeley</td><td>707</td></tr>",
                            "<tr><td>52804</td><td>16877</td><td>2013-07-18 00:00:00.000</td><td>Ballard</td><td>707</td></tr>",
                            "<tr><td>52840</td><td>24083</td><td>2013-07-18 00:00:00.000</td><td>Les Ulis</td><td>707</td></tr>",
                            "<tr><td>52744</td><td>17583</td><td>2013-07-17 00:00:00.000</td><td>Bremerton</td><td>707</td></tr>",
                            "<tr><td>52772</td><td>21031</td><td>2013-07-17 00:00:00.000</td><td>Roncq</td><td>707</td></tr>",
                            "<tr><td>52763</td><td>20154</td><td>2013-07-17 00:00:00.000</td><td>Matraville</td><td>707</td></tr>",
                            "<tr><td>52765</td><td>26317</td><td>2013-07-17 00:00:00.000</td><td>Redmond</td><td>707</td></tr>",
                            "<tr><td>52727</td><td>25815</td><td>2013-07-17 00:00:00.000</td><td>Darlinghurst</td><td>707</td></tr>",
                            "<tr><td>52770</td><td>21050</td><td>2013-07-17 00:00:00.000</td><td>Paris</td><td>707</td></tr>",
                            "<tr><td>52760</td><td>11665</td><td>2013-07-17 00:00:00.000</td><td>Chula Vista</td><td>707</td></tr>",
                            "<tr><td>52717</td><td>14011</td><td>2013-07-16 00:00:00.000</td><td>St. Leonards</td><td>707</td></tr>",
                            "<tr><td>52706</td><td>25719</td><td>2013-07-16 00:00:00.000</td><td>Berlin</td><td>707</td></tr>",
                            "<tr><td>52648</td><td>28450</td><td>2013-07-15 00:00:00.000</td><td>Paderborn</td><td>707</td></tr>",
                            "<tr><td>52628</td><td>24777</td><td>2013-07-15 00:00:00.000</td><td>Redwood City</td><td>707</td></tr>",
                            "<tr><td>52635</td><td>12919</td><td>2013-07-15 00:00:00.000</td><td>Langford</td><td>707</td></tr>",
                            "<tr><td>52653</td><td>14339</td><td>2013-07-15 00:00:00.000</td><td>Bellflower</td><td>707</td></tr>",
                            "<tr><td>52647</td><td>20940</td><td>2013-07-15 00:00:00.000</td><td>Colombes</td><td>707</td></tr>",
                            "<tr><td>52659</td><td>25743</td><td>2013-07-15 00:00:00.000</td><td>Les Ulis</td><td>707</td></tr>",
                            "<tr><td>52668</td><td>27821</td><td>2013-07-15 00:00:00.000</td><td>York</td><td>707</td></tr>",
                            "<tr><td>52640</td><td>16454</td><td>2013-07-15 00:00:00.000</td><td>West Sussex</td><td>707</td></tr>",
                            "<tr><td>52607</td><td>16958</td><td>2013-07-14 00:00:00.000</td><td>Cliffside</td><td>707</td></tr>",
                            "<tr><td>52583</td><td>21254</td><td>2013-07-14 00:00:00.000</td><td>Geelong</td><td>707</td></tr>",
                            "<tr><td>52600</td><td>16568</td><td>2013-07-14 00:00:00.000</td><td>Kassel</td><td>707</td></tr>",
                            "<tr><td>52576</td><td>14940</td><td>2013-07-13 00:00:00.000</td><td>Paderborn</td><td>707</td></tr>",
                            "<tr><td>52569</td><td>19766</td><td>2013-07-13 00:00:00.000</td><td>Malabar</td><td>707</td></tr>",
                            "<tr><td>52557</td><td>17786</td><td>2013-07-13 00:00:00.000</td><td>Newcastle upon Tyne</td><td>707</td></tr>",
                            "<tr><td>52500</td><td>15469</td><td>2013-07-12 00:00:00.000</td><td>Santa Cruz</td><td>707</td></tr>",
                            "<tr><td>52480</td><td>19455</td><td>2013-07-12 00:00:00.000</td><td>Kirkby</td><td>707</td></tr>",
                            "<tr><td>52491</td><td>13095</td><td>2013-07-12 00:00:00.000</td><td>Shawnee</td><td>707</td></tr>",
                            "<tr><td>52473</td><td>11276</td><td>2013-07-12 00:00:00.000</td><td>Cliffside</td><td>707</td></tr>",
                            "<tr><td>52501</td><td>15330</td><td>2013-07-12 00:00:00.000</td><td>Bremerton</td><td>707</td></tr>",
                            "<tr><td>52513</td><td>11618</td><td>2013-07-12 00:00:00.000</td><td>Cliffside</td><td>707</td></tr>",
                            "<tr><td>52462</td><td>19531</td><td>2013-07-11 00:00:00.000</td><td>Colma</td><td>707</td></tr>",
                            "<tr><td>52452</td><td>11307</td><td>2013-07-11 00:00:00.000</td><td>Daly City</td><td>707</td></tr>",
                            "<tr><td>52410</td><td>11250</td><td>2013-07-11 00:00:00.000</td><td>Woolston</td><td>707</td></tr>",
                            "<tr><td>52393</td><td>16584</td><td>2013-07-10 00:00:00.000</td><td>Watford</td><td>707</td></tr>",
                            "<tr><td>52404</td><td>25612</td><td>2013-07-10 00:00:00.000</td><td>Maidenhead</td><td>707</td></tr>",
                            "<tr><td>52401</td><td>23750</td><td>2013-07-10 00:00:00.000</td><td>London</td><td>707</td></tr>",
                            "<tr><td>52398</td><td>20159</td><td>2013-07-10 00:00:00.000</td><td>Matraville</td><td>707</td></tr>",
                            "<tr><td>52396</td><td>11666</td><td>2013-07-10 00:00:00.000</td><td>Torrance</td><td>707</td></tr>",
                            "<tr><td>52366</td><td>19954</td><td>2013-07-10 00:00:00.000</td><td>Geelong</td><td>707</td></tr>",
                            "<tr><td>52364</td><td>19443</td><td>2013-07-09 00:00:00.000</td><td>Stuttgart</td><td>707</td></tr>",
                            "<tr><td>52341</td><td>23824</td><td>2013-07-09 00:00:00.000</td><td>Downey</td><td>707</td></tr>",
                            "<tr><td>52349</td><td>23679</td><td>2013-07-09 00:00:00.000</td><td>Oak Bay</td><td>707</td></tr>",
                            "<tr><td>52336</td><td>29040</td><td>2013-07-09 00:00:00.000</td><td>Berkeley</td><td>707</td></tr>",
                            "<tr><td>52350</td><td>14512</td><td>2013-07-09 00:00:00.000</td><td>Puyallup</td><td>707</td></tr>",
                            "<tr><td>52337</td><td>26272</td><td>2013-07-09 00:00:00.000</td><td>Yakima</td><td>707</td></tr>",
                            "<tr><td>52325</td><td>24669</td><td>2013-07-08 00:00:00.000</td><td>San Gabriel</td><td>707</td></tr>",
                            "<tr><td>52322</td><td>11216</td><td>2013-07-08 00:00:00.000</td><td>Portland</td><td>707</td></tr>",
                            "<tr><td>52300</td><td>26807</td><td>2013-07-08 00:00:00.000</td><td>Lemon Grove</td><td>707</td></tr>",
                            "<tr><td>52296</td><td>14951</td><td>2013-07-08 00:00:00.000</td><td>Mühlheim</td><td>707</td></tr>",
                            "<tr><td>52282</td><td>11494</td><td>2013-07-08 00:00:00.000</td><td>Runcorn</td><td>707</td></tr>",
                            "<tr><td>52214</td><td>11483</td><td>2013-07-07 00:00:00.000</td><td>Paris</td><td>707</td></tr>",
                            "<tr><td>52260</td><td>26233</td><td>2013-07-07 00:00:00.000</td><td>Bonn</td><td>707</td></tr>",
                            "<tr><td>52236</td><td>23050</td><td>2013-07-07 00:00:00.000</td><td>Salem</td><td>707</td></tr>",
                            "<tr><td>52258</td><td>23235</td><td>2013-07-07 00:00:00.000</td><td>London</td><td>707</td></tr>",
                            "<tr><td>52213</td><td>11410</td><td>2013-07-07 00:00:00.000</td><td>Paris</td><td>707</td></tr>",
                            "<tr><td>52220</td><td>13998</td><td>2013-07-07 00:00:00.000</td><td>Cranbourne</td><td>707</td></tr>",
                            "<tr><td>52272</td><td>24522</td><td>2013-07-07 00:00:00.000</td><td>Santa Monica</td><td>707</td></tr>",
                            "<tr><td>52225</td><td>29014</td><td>2013-07-07 00:00:00.000</td><td>Edmonds</td><td>707</td></tr>",
                            "<tr><td>52217</td><td>17078</td><td>2013-07-07 00:00:00.000</td><td>Darlinghurst</td><td>707</td></tr>",
                            "<tr><td>52229</td><td>26573</td><td>2013-07-07 00:00:00.000</td><td>Spokane</td><td>707</td></tr>",
                            "<tr><td>52177</td><td>23729</td><td>2013-07-06 00:00:00.000</td><td>Novato</td><td>707</td></tr>",
                            "<tr><td>52163</td><td>11978</td><td>2013-07-06 00:00:00.000</td><td>Fremont</td><td>707</td></tr>",
                            "<tr><td>52165</td><td>16617</td><td>2013-07-06 00:00:00.000</td><td>Warrnambool</td><td>707</td></tr>",
                            "<tr><td>52189</td><td>15257</td><td>2013-07-06 00:00:00.000</td><td>Bremerton</td><td>707</td></tr>",
                            "<tr><td>52198</td><td>12502</td><td>2013-07-06 00:00:00.000</td><td>Oxon</td><td>707</td></tr>",
                            "<tr><td>52186</td><td>16814</td><td>2013-07-06 00:00:00.000</td><td>National City</td><td>707</td></tr>",
                            "<tr><td>52193</td><td>15278</td><td>2013-07-06 00:00:00.000</td><td>San Carlos</td><td>707</td></tr>",
                            "<tr><td>52192</td><td>21339</td><td>2013-07-06 00:00:00.000</td><td>Westminster</td><td>707</td></tr>",
                            "<tr><td>52140</td><td>26852</td><td>2013-07-05 00:00:00.000</td><td>Saarbrücken</td><td>707</td></tr>",
                            "<tr><td>52110</td><td>12742</td><td>2013-07-05 00:00:00.000</td><td>Solingen</td><td>707</td></tr>",
                            "<tr><td>52145</td><td>12708</td><td>2013-07-05 00:00:00.000</td><td>Chula Vista</td><td>707</td></tr>",
                            "<tr><td>52149</td><td>28720</td><td>2013-07-05 00:00:00.000</td><td>Brisbane</td><td>707</td></tr>",
                            "<tr><td>52112</td><td>11496</td><td>2013-07-05 00:00:00.000</td><td>Warrington</td><td>707</td></tr>",
                            "<tr><td>52116</td><td>27968</td><td>2013-07-05 00:00:00.000</td><td>St. Leonards</td><td>707</td></tr>",
                            "<tr><td>52107</td><td>18272</td><td>2013-07-05 00:00:00.000</td><td>Lavender Bay</td><td>707</td></tr>",
                            "<tr><td>52113</td><td>11277</td><td>2013-07-05 00:00:00.000</td><td>Royal Oak</td><td>707</td></tr>",
                            "<tr><td>52078</td><td>25439</td><td>2013-07-04 00:00:00.000</td><td>Chula Vista</td><td>707</td></tr>",
                            "<tr><td>52085</td><td>14561</td><td>2013-07-04 00:00:00.000</td><td>Shawnee</td><td>707</td></tr>",
                            "<tr><td>52028</td><td>26132</td><td>2013-07-03 00:00:00.000</td><td>Cranbourne</td><td>707</td></tr>",
                            "<tr><td>52027</td><td>27981</td><td>2013-07-03 00:00:00.000</td><td>Melton</td><td>707</td></tr>",
                            "<tr><td>52001</td><td>13574</td><td>2013-07-02 00:00:00.000</td><td>Dresden</td><td>707</td></tr>",
                            "<tr><td>52015</td><td>22282</td><td>2013-07-02 00:00:00.000</td><td>Lake Oswego</td><td>707</td></tr>",
                            "<tr><td>51971</td><td>16609</td><td>2013-07-02 00:00:00.000</td><td>Hobart</td><td>707</td></tr>",
                            "<tr><td>52011</td><td>12053</td><td>2013-07-02 00:00:00.000</td><td>Burbank</td><td>707</td></tr>",
                            "<tr><td>51955</td><td>13582</td><td>2013-07-01 00:00:00.000</td><td>London</td><td>707</td></tr>",
                            "<tr><td>51936</td><td>11287</td><td>2013-07-01 00:00:00.000</td><td>Cliffside</td><td>707</td></tr>",
                            "<tr><td>51930</td><td>15766</td><td>2013-07-01 00:00:00.000</td><td>Melton</td><td>707</td></tr>",
                            "<tr><td>51957</td><td>12061</td><td>2013-07-01 00:00:00.000</td><td>Royal Oak</td><td>707</td></tr>",
                            "<tr><td>51926</td><td>14557</td><td>2013-07-01 00:00:00.000</td><td>Hobart</td><td>707</td></tr>",
                            "<tr><td>51949</td><td>16041</td><td>2013-07-01 00:00:00.000</td><td>Saint Germain en Laye</td><td>707</td></tr>",
                            "<tr><td>51937</td><td>17374</td><td>2013-07-01 00:00:00.000</td><td>Vancouver</td><td>707</td></tr>",
                            "</table>"
                        ]
                    }
                }
            ],
            "execution_count": 45
        },
        {
            "cell_type": "code",
            "source": [
                "-- Step 3: Get the customer’s name\r\n",
                "SELECT\r\n",
                "    p.FirstName,\r\n",
                "    p.LastName,\r\n",
                "    c.CustomerID\r\n",
                "FROM\r\n",
                "    Sales.Customer c\r\n",
                "JOIN Person.Person p ON\r\n",
                "    p.BusinessEntityID = c.PersonID\r\n",
                "WHERE\r\n",
                "    c.CustomerID = 29637;\r\n",
                "/*OUTPUT: The customer is named Donna Carreras.\r\n",
                " */\r\n",
                ""
            ],
            "metadata": {
                "azdata_cell_guid": "189945e7-de77-4ada-81e4-d790923add01",
                "language": "sql"
            },
            "outputs": [
                {
                    "output_type": "display_data",
                    "data": {
                        "text/html": "(1 row affected)"
                    },
                    "metadata": {}
                },
                {
                    "output_type": "display_data",
                    "data": {
                        "text/html": "Total execution time: 00:00:00.005"
                    },
                    "metadata": {}
                },
                {
                    "output_type": "execute_result",
                    "metadata": {},
                    "execution_count": 46,
                    "data": {
                        "application/vnd.dataresource+json": {
                            "schema": {
                                "fields": [
                                    {
                                        "name": "FirstName"
                                    },
                                    {
                                        "name": "LastName"
                                    },
                                    {
                                        "name": "CustomerID"
                                    }
                                ]
                            },
                            "data": [
                                {
                                    "FirstName": "Donna",
                                    "LastName": "Carreras",
                                    "CustomerID": "29637"
                                }
                            ]
                        },
                        "text/html": [
                            "<table>",
                            "<tr><th>FirstName</th><th>LastName</th><th>CustomerID</th></tr>",
                            "<tr><td>Donna</td><td>Carreras</td><td>29637</td></tr>",
                            "</table>"
                        ]
                    }
                }
            ],
            "execution_count": 46
        },
        {
            "cell_type": "markdown",
            "source": [
                "MYSTERY 7"
            ],
            "metadata": {
                "azdata_cell_guid": "f4935514-bda8-4468-b564-3a73f3269253"
            },
            "attachments": {}
        },
        {
            "cell_type": "code",
            "source": [
                " --MYSTERY 7 \r\n",
                "\r\n",
                "/*An internal audit revealed that a group of employees may have been issuing refunds to fake customers, so they can get the cash\r\n",
                "back to themselves through separate accounts..\r\n",
                " The refunds were processed in THE last day of April 2014 and were all tied to orders with unusually high discount rates.\r\n",
                " Find the employee responsible and the list of phony customers to void them from our system after reporting the employees.\r\n",
                " */\r\n",
                "\r\n",
                "    -- Step 1: Find orders with high discount rates in April 2014 in the last day\r\n",
                "SELECT\r\n",
                "    soh.SalesOrderID,\r\n",
                "    soh.CustomerID,\r\n",
                "    soh.SalesPersonID,\r\n",
                "    sod.UnitPriceDiscount,\r\n",
                "    soh.OrderDate\r\n",
                "FROM\r\n",
                "    Sales.SalesOrderHeader soh\r\n",
                "JOIN Sales.SalesOrderDetail sod ON\r\n",
                "    soh.SalesOrderID = sod.SalesOrderID\r\n",
                "WHERE\r\n",
                "    sod.UnitPriceDiscount > 0.3\r\n",
                "    AND soh.OrderDate BETWEEN '2014-03-30' AND '2014-03-31';\r\n",
                "/*OUTPUT:\r\n",
                "90 transactions\r\n",
                " */"
            ],
            "metadata": {
                "azdata_cell_guid": "739d9198-a777-43eb-ac76-96ee9ae5ea95",
                "language": "sql"
            },
            "outputs": [
                {
                    "output_type": "display_data",
                    "data": {
                        "text/html": "(90 rows affected)"
                    },
                    "metadata": {}
                },
                {
                    "output_type": "display_data",
                    "data": {
                        "text/html": "Total execution time: 00:00:00.012"
                    },
                    "metadata": {}
                },
                {
                    "output_type": "execute_result",
                    "metadata": {},
                    "execution_count": 47,
                    "data": {
                        "application/vnd.dataresource+json": {
                            "schema": {
                                "fields": [
                                    {
                                        "name": "SalesOrderID"
                                    },
                                    {
                                        "name": "CustomerID"
                                    },
                                    {
                                        "name": "SalesPersonID"
                                    },
                                    {
                                        "name": "UnitPriceDiscount"
                                    },
                                    {
                                        "name": "OrderDate"
                                    }
                                ]
                            },
                            "data": [
                                {
                                    "SalesOrderID": "69388",
                                    "CustomerID": "29542",
                                    "SalesPersonID": "288",
                                    "UnitPriceDiscount": "0.40",
                                    "OrderDate": "2014-03-31 00:00:00.000"
                                },
                                {
                                    "SalesOrderID": "69393",
                                    "CustomerID": "29955",
                                    "SalesPersonID": "277",
                                    "UnitPriceDiscount": "0.40",
                                    "OrderDate": "2014-03-31 00:00:00.000"
                                },
                                {
                                    "SalesOrderID": "69407",
                                    "CustomerID": "29949",
                                    "SalesPersonID": "276",
                                    "UnitPriceDiscount": "0.40",
                                    "OrderDate": "2014-03-31 00:00:00.000"
                                },
                                {
                                    "SalesOrderID": "69408",
                                    "CustomerID": "29997",
                                    "SalesPersonID": "283",
                                    "UnitPriceDiscount": "0.40",
                                    "OrderDate": "2014-03-31 00:00:00.000"
                                },
                                {
                                    "SalesOrderID": "69408",
                                    "CustomerID": "29997",
                                    "SalesPersonID": "283",
                                    "UnitPriceDiscount": "0.40",
                                    "OrderDate": "2014-03-31 00:00:00.000"
                                },
                                {
                                    "SalesOrderID": "69408",
                                    "CustomerID": "29997",
                                    "SalesPersonID": "283",
                                    "UnitPriceDiscount": "0.40",
                                    "OrderDate": "2014-03-31 00:00:00.000"
                                },
                                {
                                    "SalesOrderID": "69408",
                                    "CustomerID": "29997",
                                    "SalesPersonID": "283",
                                    "UnitPriceDiscount": "0.40",
                                    "OrderDate": "2014-03-31 00:00:00.000"
                                },
                                {
                                    "SalesOrderID": "69413",
                                    "CustomerID": "29935",
                                    "SalesPersonID": "276",
                                    "UnitPriceDiscount": "0.40",
                                    "OrderDate": "2014-03-31 00:00:00.000"
                                },
                                {
                                    "SalesOrderID": "69413",
                                    "CustomerID": "29935",
                                    "SalesPersonID": "276",
                                    "UnitPriceDiscount": "0.40",
                                    "OrderDate": "2014-03-31 00:00:00.000"
                                },
                                {
                                    "SalesOrderID": "69413",
                                    "CustomerID": "29935",
                                    "SalesPersonID": "276",
                                    "UnitPriceDiscount": "0.40",
                                    "OrderDate": "2014-03-31 00:00:00.000"
                                },
                                {
                                    "SalesOrderID": "69413",
                                    "CustomerID": "29935",
                                    "SalesPersonID": "276",
                                    "UnitPriceDiscount": "0.40",
                                    "OrderDate": "2014-03-31 00:00:00.000"
                                },
                                {
                                    "SalesOrderID": "69418",
                                    "CustomerID": "30055",
                                    "SalesPersonID": "275",
                                    "UnitPriceDiscount": "0.40",
                                    "OrderDate": "2014-03-31 00:00:00.000"
                                },
                                {
                                    "SalesOrderID": "69418",
                                    "CustomerID": "30055",
                                    "SalesPersonID": "275",
                                    "UnitPriceDiscount": "0.40",
                                    "OrderDate": "2014-03-31 00:00:00.000"
                                },
                                {
                                    "SalesOrderID": "69418",
                                    "CustomerID": "30055",
                                    "SalesPersonID": "275",
                                    "UnitPriceDiscount": "0.40",
                                    "OrderDate": "2014-03-31 00:00:00.000"
                                },
                                {
                                    "SalesOrderID": "69418",
                                    "CustomerID": "30055",
                                    "SalesPersonID": "275",
                                    "UnitPriceDiscount": "0.40",
                                    "OrderDate": "2014-03-31 00:00:00.000"
                                },
                                {
                                    "SalesOrderID": "69422",
                                    "CustomerID": "30107",
                                    "SalesPersonID": "276",
                                    "UnitPriceDiscount": "0.40",
                                    "OrderDate": "2014-03-31 00:00:00.000"
                                },
                                {
                                    "SalesOrderID": "69422",
                                    "CustomerID": "30107",
                                    "SalesPersonID": "276",
                                    "UnitPriceDiscount": "0.40",
                                    "OrderDate": "2014-03-31 00:00:00.000"
                                },
                                {
                                    "SalesOrderID": "69422",
                                    "CustomerID": "30107",
                                    "SalesPersonID": "276",
                                    "UnitPriceDiscount": "0.40",
                                    "OrderDate": "2014-03-31 00:00:00.000"
                                },
                                {
                                    "SalesOrderID": "69422",
                                    "CustomerID": "30107",
                                    "SalesPersonID": "276",
                                    "UnitPriceDiscount": "0.40",
                                    "OrderDate": "2014-03-31 00:00:00.000"
                                },
                                {
                                    "SalesOrderID": "69437",
                                    "CustomerID": "29712",
                                    "SalesPersonID": "290",
                                    "UnitPriceDiscount": "0.40",
                                    "OrderDate": "2014-03-31 00:00:00.000"
                                },
                                {
                                    "SalesOrderID": "69442",
                                    "CustomerID": "29996",
                                    "SalesPersonID": "277",
                                    "UnitPriceDiscount": "0.40",
                                    "OrderDate": "2014-03-31 00:00:00.000"
                                },
                                {
                                    "SalesOrderID": "69442",
                                    "CustomerID": "29996",
                                    "SalesPersonID": "277",
                                    "UnitPriceDiscount": "0.40",
                                    "OrderDate": "2014-03-31 00:00:00.000"
                                },
                                {
                                    "SalesOrderID": "69444",
                                    "CustomerID": "29725",
                                    "SalesPersonID": "288",
                                    "UnitPriceDiscount": "0.40",
                                    "OrderDate": "2014-03-31 00:00:00.000"
                                },
                                {
                                    "SalesOrderID": "69444",
                                    "CustomerID": "29725",
                                    "SalesPersonID": "288",
                                    "UnitPriceDiscount": "0.40",
                                    "OrderDate": "2014-03-31 00:00:00.000"
                                },
                                {
                                    "SalesOrderID": "69444",
                                    "CustomerID": "29725",
                                    "SalesPersonID": "288",
                                    "UnitPriceDiscount": "0.40",
                                    "OrderDate": "2014-03-31 00:00:00.000"
                                },
                                {
                                    "SalesOrderID": "69444",
                                    "CustomerID": "29725",
                                    "SalesPersonID": "288",
                                    "UnitPriceDiscount": "0.40",
                                    "OrderDate": "2014-03-31 00:00:00.000"
                                },
                                {
                                    "SalesOrderID": "69447",
                                    "CustomerID": "30101",
                                    "SalesPersonID": "290",
                                    "UnitPriceDiscount": "0.40",
                                    "OrderDate": "2014-03-31 00:00:00.000"
                                },
                                {
                                    "SalesOrderID": "69447",
                                    "CustomerID": "30101",
                                    "SalesPersonID": "290",
                                    "UnitPriceDiscount": "0.40",
                                    "OrderDate": "2014-03-31 00:00:00.000"
                                },
                                {
                                    "SalesOrderID": "69447",
                                    "CustomerID": "30101",
                                    "SalesPersonID": "290",
                                    "UnitPriceDiscount": "0.40",
                                    "OrderDate": "2014-03-31 00:00:00.000"
                                },
                                {
                                    "SalesOrderID": "69452",
                                    "CustomerID": "29626",
                                    "SalesPersonID": "279",
                                    "UnitPriceDiscount": "0.40",
                                    "OrderDate": "2014-03-31 00:00:00.000"
                                },
                                {
                                    "SalesOrderID": "69456",
                                    "CustomerID": "29904",
                                    "SalesPersonID": "282",
                                    "UnitPriceDiscount": "0.40",
                                    "OrderDate": "2014-03-31 00:00:00.000"
                                },
                                {
                                    "SalesOrderID": "69456",
                                    "CustomerID": "29904",
                                    "SalesPersonID": "282",
                                    "UnitPriceDiscount": "0.40",
                                    "OrderDate": "2014-03-31 00:00:00.000"
                                },
                                {
                                    "SalesOrderID": "69456",
                                    "CustomerID": "29904",
                                    "SalesPersonID": "282",
                                    "UnitPriceDiscount": "0.40",
                                    "OrderDate": "2014-03-31 00:00:00.000"
                                },
                                {
                                    "SalesOrderID": "69456",
                                    "CustomerID": "29904",
                                    "SalesPersonID": "282",
                                    "UnitPriceDiscount": "0.40",
                                    "OrderDate": "2014-03-31 00:00:00.000"
                                },
                                {
                                    "SalesOrderID": "69456",
                                    "CustomerID": "29904",
                                    "SalesPersonID": "282",
                                    "UnitPriceDiscount": "0.40",
                                    "OrderDate": "2014-03-31 00:00:00.000"
                                },
                                {
                                    "SalesOrderID": "69464",
                                    "CustomerID": "29786",
                                    "SalesPersonID": "290",
                                    "UnitPriceDiscount": "0.40",
                                    "OrderDate": "2014-03-31 00:00:00.000"
                                },
                                {
                                    "SalesOrderID": "69464",
                                    "CustomerID": "29786",
                                    "SalesPersonID": "290",
                                    "UnitPriceDiscount": "0.40",
                                    "OrderDate": "2014-03-31 00:00:00.000"
                                },
                                {
                                    "SalesOrderID": "69464",
                                    "CustomerID": "29786",
                                    "SalesPersonID": "290",
                                    "UnitPriceDiscount": "0.40",
                                    "OrderDate": "2014-03-31 00:00:00.000"
                                },
                                {
                                    "SalesOrderID": "69468",
                                    "CustomerID": "29593",
                                    "SalesPersonID": "275",
                                    "UnitPriceDiscount": "0.40",
                                    "OrderDate": "2014-03-31 00:00:00.000"
                                },
                                {
                                    "SalesOrderID": "69468",
                                    "CustomerID": "29593",
                                    "SalesPersonID": "275",
                                    "UnitPriceDiscount": "0.40",
                                    "OrderDate": "2014-03-31 00:00:00.000"
                                },
                                {
                                    "SalesOrderID": "69468",
                                    "CustomerID": "29593",
                                    "SalesPersonID": "275",
                                    "UnitPriceDiscount": "0.40",
                                    "OrderDate": "2014-03-31 00:00:00.000"
                                },
                                {
                                    "SalesOrderID": "69468",
                                    "CustomerID": "29593",
                                    "SalesPersonID": "275",
                                    "UnitPriceDiscount": "0.40",
                                    "OrderDate": "2014-03-31 00:00:00.000"
                                },
                                {
                                    "SalesOrderID": "69468",
                                    "CustomerID": "29593",
                                    "SalesPersonID": "275",
                                    "UnitPriceDiscount": "0.40",
                                    "OrderDate": "2014-03-31 00:00:00.000"
                                },
                                {
                                    "SalesOrderID": "69471",
                                    "CustomerID": "29818",
                                    "SalesPersonID": "276",
                                    "UnitPriceDiscount": "0.40",
                                    "OrderDate": "2014-03-31 00:00:00.000"
                                },
                                {
                                    "SalesOrderID": "69471",
                                    "CustomerID": "29818",
                                    "SalesPersonID": "276",
                                    "UnitPriceDiscount": "0.40",
                                    "OrderDate": "2014-03-31 00:00:00.000"
                                },
                                {
                                    "SalesOrderID": "69471",
                                    "CustomerID": "29818",
                                    "SalesPersonID": "276",
                                    "UnitPriceDiscount": "0.40",
                                    "OrderDate": "2014-03-31 00:00:00.000"
                                },
                                {
                                    "SalesOrderID": "69471",
                                    "CustomerID": "29818",
                                    "SalesPersonID": "276",
                                    "UnitPriceDiscount": "0.40",
                                    "OrderDate": "2014-03-31 00:00:00.000"
                                },
                                {
                                    "SalesOrderID": "69471",
                                    "CustomerID": "29818",
                                    "SalesPersonID": "276",
                                    "UnitPriceDiscount": "0.40",
                                    "OrderDate": "2014-03-31 00:00:00.000"
                                },
                                {
                                    "SalesOrderID": "69473",
                                    "CustomerID": "30054",
                                    "SalesPersonID": "277",
                                    "UnitPriceDiscount": "0.40",
                                    "OrderDate": "2014-03-31 00:00:00.000"
                                },
                                {
                                    "SalesOrderID": "69473",
                                    "CustomerID": "30054",
                                    "SalesPersonID": "277",
                                    "UnitPriceDiscount": "0.40",
                                    "OrderDate": "2014-03-31 00:00:00.000"
                                },
                                {
                                    "SalesOrderID": "69485",
                                    "CustomerID": "29945",
                                    "SalesPersonID": "279",
                                    "UnitPriceDiscount": "0.40",
                                    "OrderDate": "2014-03-31 00:00:00.000"
                                },
                                {
                                    "SalesOrderID": "69499",
                                    "CustomerID": "29752",
                                    "SalesPersonID": "277",
                                    "UnitPriceDiscount": "0.40",
                                    "OrderDate": "2014-03-31 00:00:00.000"
                                },
                                {
                                    "SalesOrderID": "69500",
                                    "CustomerID": "29588",
                                    "SalesPersonID": "284",
                                    "UnitPriceDiscount": "0.40",
                                    "OrderDate": "2014-03-31 00:00:00.000"
                                },
                                {
                                    "SalesOrderID": "69500",
                                    "CustomerID": "29588",
                                    "SalesPersonID": "284",
                                    "UnitPriceDiscount": "0.40",
                                    "OrderDate": "2014-03-31 00:00:00.000"
                                },
                                {
                                    "SalesOrderID": "69501",
                                    "CustomerID": "29792",
                                    "SalesPersonID": "275",
                                    "UnitPriceDiscount": "0.40",
                                    "OrderDate": "2014-03-31 00:00:00.000"
                                },
                                {
                                    "SalesOrderID": "69501",
                                    "CustomerID": "29792",
                                    "SalesPersonID": "275",
                                    "UnitPriceDiscount": "0.40",
                                    "OrderDate": "2014-03-31 00:00:00.000"
                                },
                                {
                                    "SalesOrderID": "69501",
                                    "CustomerID": "29792",
                                    "SalesPersonID": "275",
                                    "UnitPriceDiscount": "0.40",
                                    "OrderDate": "2014-03-31 00:00:00.000"
                                },
                                {
                                    "SalesOrderID": "69518",
                                    "CustomerID": "29968",
                                    "SalesPersonID": "279",
                                    "UnitPriceDiscount": "0.40",
                                    "OrderDate": "2014-03-31 00:00:00.000"
                                },
                                {
                                    "SalesOrderID": "69520",
                                    "CustomerID": "29910",
                                    "SalesPersonID": "289",
                                    "UnitPriceDiscount": "0.40",
                                    "OrderDate": "2014-03-31 00:00:00.000"
                                },
                                {
                                    "SalesOrderID": "69520",
                                    "CustomerID": "29910",
                                    "SalesPersonID": "289",
                                    "UnitPriceDiscount": "0.40",
                                    "OrderDate": "2014-03-31 00:00:00.000"
                                },
                                {
                                    "SalesOrderID": "69528",
                                    "CustomerID": "29523",
                                    "SalesPersonID": "274",
                                    "UnitPriceDiscount": "0.40",
                                    "OrderDate": "2014-03-31 00:00:00.000"
                                },
                                {
                                    "SalesOrderID": "69528",
                                    "CustomerID": "29523",
                                    "SalesPersonID": "274",
                                    "UnitPriceDiscount": "0.40",
                                    "OrderDate": "2014-03-31 00:00:00.000"
                                },
                                {
                                    "SalesOrderID": "69528",
                                    "CustomerID": "29523",
                                    "SalesPersonID": "274",
                                    "UnitPriceDiscount": "0.40",
                                    "OrderDate": "2014-03-31 00:00:00.000"
                                },
                                {
                                    "SalesOrderID": "69529",
                                    "CustomerID": "29753",
                                    "SalesPersonID": "283",
                                    "UnitPriceDiscount": "0.40",
                                    "OrderDate": "2014-03-31 00:00:00.000"
                                },
                                {
                                    "SalesOrderID": "69532",
                                    "CustomerID": "29522",
                                    "SalesPersonID": "276",
                                    "UnitPriceDiscount": "0.40",
                                    "OrderDate": "2014-03-31 00:00:00.000"
                                },
                                {
                                    "SalesOrderID": "69532",
                                    "CustomerID": "29522",
                                    "SalesPersonID": "276",
                                    "UnitPriceDiscount": "0.40",
                                    "OrderDate": "2014-03-31 00:00:00.000"
                                },
                                {
                                    "SalesOrderID": "69532",
                                    "CustomerID": "29522",
                                    "SalesPersonID": "276",
                                    "UnitPriceDiscount": "0.40",
                                    "OrderDate": "2014-03-31 00:00:00.000"
                                },
                                {
                                    "SalesOrderID": "69532",
                                    "CustomerID": "29522",
                                    "SalesPersonID": "276",
                                    "UnitPriceDiscount": "0.40",
                                    "OrderDate": "2014-03-31 00:00:00.000"
                                },
                                {
                                    "SalesOrderID": "69533",
                                    "CustomerID": "29896",
                                    "SalesPersonID": "279",
                                    "UnitPriceDiscount": "0.40",
                                    "OrderDate": "2014-03-31 00:00:00.000"
                                },
                                {
                                    "SalesOrderID": "69533",
                                    "CustomerID": "29896",
                                    "SalesPersonID": "279",
                                    "UnitPriceDiscount": "0.40",
                                    "OrderDate": "2014-03-31 00:00:00.000"
                                },
                                {
                                    "SalesOrderID": "69533",
                                    "CustomerID": "29896",
                                    "SalesPersonID": "279",
                                    "UnitPriceDiscount": "0.40",
                                    "OrderDate": "2014-03-31 00:00:00.000"
                                },
                                {
                                    "SalesOrderID": "69533",
                                    "CustomerID": "29896",
                                    "SalesPersonID": "279",
                                    "UnitPriceDiscount": "0.40",
                                    "OrderDate": "2014-03-31 00:00:00.000"
                                },
                                {
                                    "SalesOrderID": "69536",
                                    "CustomerID": "29732",
                                    "SalesPersonID": "275",
                                    "UnitPriceDiscount": "0.40",
                                    "OrderDate": "2014-03-31 00:00:00.000"
                                },
                                {
                                    "SalesOrderID": "69536",
                                    "CustomerID": "29732",
                                    "SalesPersonID": "275",
                                    "UnitPriceDiscount": "0.40",
                                    "OrderDate": "2014-03-31 00:00:00.000"
                                },
                                {
                                    "SalesOrderID": "69536",
                                    "CustomerID": "29732",
                                    "SalesPersonID": "275",
                                    "UnitPriceDiscount": "0.40",
                                    "OrderDate": "2014-03-31 00:00:00.000"
                                },
                                {
                                    "SalesOrderID": "69536",
                                    "CustomerID": "29732",
                                    "SalesPersonID": "275",
                                    "UnitPriceDiscount": "0.40",
                                    "OrderDate": "2014-03-31 00:00:00.000"
                                },
                                {
                                    "SalesOrderID": "69536",
                                    "CustomerID": "29732",
                                    "SalesPersonID": "275",
                                    "UnitPriceDiscount": "0.40",
                                    "OrderDate": "2014-03-31 00:00:00.000"
                                },
                                {
                                    "SalesOrderID": "69541",
                                    "CustomerID": "29830",
                                    "SalesPersonID": "278",
                                    "UnitPriceDiscount": "0.40",
                                    "OrderDate": "2014-03-31 00:00:00.000"
                                },
                                {
                                    "SalesOrderID": "69541",
                                    "CustomerID": "29830",
                                    "SalesPersonID": "278",
                                    "UnitPriceDiscount": "0.40",
                                    "OrderDate": "2014-03-31 00:00:00.000"
                                },
                                {
                                    "SalesOrderID": "69541",
                                    "CustomerID": "29830",
                                    "SalesPersonID": "278",
                                    "UnitPriceDiscount": "0.40",
                                    "OrderDate": "2014-03-31 00:00:00.000"
                                },
                                {
                                    "SalesOrderID": "69541",
                                    "CustomerID": "29830",
                                    "SalesPersonID": "278",
                                    "UnitPriceDiscount": "0.40",
                                    "OrderDate": "2014-03-31 00:00:00.000"
                                },
                                {
                                    "SalesOrderID": "69559",
                                    "CustomerID": "29511",
                                    "SalesPersonID": "276",
                                    "UnitPriceDiscount": "0.40",
                                    "OrderDate": "2014-03-31 00:00:00.000"
                                },
                                {
                                    "SalesOrderID": "69560",
                                    "CustomerID": "29918",
                                    "SalesPersonID": "289",
                                    "UnitPriceDiscount": "0.40",
                                    "OrderDate": "2014-03-31 00:00:00.000"
                                },
                                {
                                    "SalesOrderID": "69561",
                                    "CustomerID": "29913",
                                    "SalesPersonID": "276",
                                    "UnitPriceDiscount": "0.40",
                                    "OrderDate": "2014-03-31 00:00:00.000"
                                },
                                {
                                    "SalesOrderID": "69561",
                                    "CustomerID": "29913",
                                    "SalesPersonID": "276",
                                    "UnitPriceDiscount": "0.40",
                                    "OrderDate": "2014-03-31 00:00:00.000"
                                },
                                {
                                    "SalesOrderID": "69561",
                                    "CustomerID": "29913",
                                    "SalesPersonID": "276",
                                    "UnitPriceDiscount": "0.40",
                                    "OrderDate": "2014-03-31 00:00:00.000"
                                },
                                {
                                    "SalesOrderID": "69561",
                                    "CustomerID": "29913",
                                    "SalesPersonID": "276",
                                    "UnitPriceDiscount": "0.40",
                                    "OrderDate": "2014-03-31 00:00:00.000"
                                },
                                {
                                    "SalesOrderID": "69561",
                                    "CustomerID": "29913",
                                    "SalesPersonID": "276",
                                    "UnitPriceDiscount": "0.40",
                                    "OrderDate": "2014-03-31 00:00:00.000"
                                },
                                {
                                    "SalesOrderID": "69562",
                                    "CustomerID": "29688",
                                    "SalesPersonID": "277",
                                    "UnitPriceDiscount": "0.40",
                                    "OrderDate": "2014-03-31 00:00:00.000"
                                },
                                {
                                    "SalesOrderID": "69562",
                                    "CustomerID": "29688",
                                    "SalesPersonID": "277",
                                    "UnitPriceDiscount": "0.40",
                                    "OrderDate": "2014-03-31 00:00:00.000"
                                }
                            ]
                        },
                        "text/html": [
                            "<table>",
                            "<tr><th>SalesOrderID</th><th>CustomerID</th><th>SalesPersonID</th><th>UnitPriceDiscount</th><th>OrderDate</th></tr>",
                            "<tr><td>69388</td><td>29542</td><td>288</td><td>0.40</td><td>2014-03-31 00:00:00.000</td></tr>",
                            "<tr><td>69393</td><td>29955</td><td>277</td><td>0.40</td><td>2014-03-31 00:00:00.000</td></tr>",
                            "<tr><td>69407</td><td>29949</td><td>276</td><td>0.40</td><td>2014-03-31 00:00:00.000</td></tr>",
                            "<tr><td>69408</td><td>29997</td><td>283</td><td>0.40</td><td>2014-03-31 00:00:00.000</td></tr>",
                            "<tr><td>69408</td><td>29997</td><td>283</td><td>0.40</td><td>2014-03-31 00:00:00.000</td></tr>",
                            "<tr><td>69408</td><td>29997</td><td>283</td><td>0.40</td><td>2014-03-31 00:00:00.000</td></tr>",
                            "<tr><td>69408</td><td>29997</td><td>283</td><td>0.40</td><td>2014-03-31 00:00:00.000</td></tr>",
                            "<tr><td>69413</td><td>29935</td><td>276</td><td>0.40</td><td>2014-03-31 00:00:00.000</td></tr>",
                            "<tr><td>69413</td><td>29935</td><td>276</td><td>0.40</td><td>2014-03-31 00:00:00.000</td></tr>",
                            "<tr><td>69413</td><td>29935</td><td>276</td><td>0.40</td><td>2014-03-31 00:00:00.000</td></tr>",
                            "<tr><td>69413</td><td>29935</td><td>276</td><td>0.40</td><td>2014-03-31 00:00:00.000</td></tr>",
                            "<tr><td>69418</td><td>30055</td><td>275</td><td>0.40</td><td>2014-03-31 00:00:00.000</td></tr>",
                            "<tr><td>69418</td><td>30055</td><td>275</td><td>0.40</td><td>2014-03-31 00:00:00.000</td></tr>",
                            "<tr><td>69418</td><td>30055</td><td>275</td><td>0.40</td><td>2014-03-31 00:00:00.000</td></tr>",
                            "<tr><td>69418</td><td>30055</td><td>275</td><td>0.40</td><td>2014-03-31 00:00:00.000</td></tr>",
                            "<tr><td>69422</td><td>30107</td><td>276</td><td>0.40</td><td>2014-03-31 00:00:00.000</td></tr>",
                            "<tr><td>69422</td><td>30107</td><td>276</td><td>0.40</td><td>2014-03-31 00:00:00.000</td></tr>",
                            "<tr><td>69422</td><td>30107</td><td>276</td><td>0.40</td><td>2014-03-31 00:00:00.000</td></tr>",
                            "<tr><td>69422</td><td>30107</td><td>276</td><td>0.40</td><td>2014-03-31 00:00:00.000</td></tr>",
                            "<tr><td>69437</td><td>29712</td><td>290</td><td>0.40</td><td>2014-03-31 00:00:00.000</td></tr>",
                            "<tr><td>69442</td><td>29996</td><td>277</td><td>0.40</td><td>2014-03-31 00:00:00.000</td></tr>",
                            "<tr><td>69442</td><td>29996</td><td>277</td><td>0.40</td><td>2014-03-31 00:00:00.000</td></tr>",
                            "<tr><td>69444</td><td>29725</td><td>288</td><td>0.40</td><td>2014-03-31 00:00:00.000</td></tr>",
                            "<tr><td>69444</td><td>29725</td><td>288</td><td>0.40</td><td>2014-03-31 00:00:00.000</td></tr>",
                            "<tr><td>69444</td><td>29725</td><td>288</td><td>0.40</td><td>2014-03-31 00:00:00.000</td></tr>",
                            "<tr><td>69444</td><td>29725</td><td>288</td><td>0.40</td><td>2014-03-31 00:00:00.000</td></tr>",
                            "<tr><td>69447</td><td>30101</td><td>290</td><td>0.40</td><td>2014-03-31 00:00:00.000</td></tr>",
                            "<tr><td>69447</td><td>30101</td><td>290</td><td>0.40</td><td>2014-03-31 00:00:00.000</td></tr>",
                            "<tr><td>69447</td><td>30101</td><td>290</td><td>0.40</td><td>2014-03-31 00:00:00.000</td></tr>",
                            "<tr><td>69452</td><td>29626</td><td>279</td><td>0.40</td><td>2014-03-31 00:00:00.000</td></tr>",
                            "<tr><td>69456</td><td>29904</td><td>282</td><td>0.40</td><td>2014-03-31 00:00:00.000</td></tr>",
                            "<tr><td>69456</td><td>29904</td><td>282</td><td>0.40</td><td>2014-03-31 00:00:00.000</td></tr>",
                            "<tr><td>69456</td><td>29904</td><td>282</td><td>0.40</td><td>2014-03-31 00:00:00.000</td></tr>",
                            "<tr><td>69456</td><td>29904</td><td>282</td><td>0.40</td><td>2014-03-31 00:00:00.000</td></tr>",
                            "<tr><td>69456</td><td>29904</td><td>282</td><td>0.40</td><td>2014-03-31 00:00:00.000</td></tr>",
                            "<tr><td>69464</td><td>29786</td><td>290</td><td>0.40</td><td>2014-03-31 00:00:00.000</td></tr>",
                            "<tr><td>69464</td><td>29786</td><td>290</td><td>0.40</td><td>2014-03-31 00:00:00.000</td></tr>",
                            "<tr><td>69464</td><td>29786</td><td>290</td><td>0.40</td><td>2014-03-31 00:00:00.000</td></tr>",
                            "<tr><td>69468</td><td>29593</td><td>275</td><td>0.40</td><td>2014-03-31 00:00:00.000</td></tr>",
                            "<tr><td>69468</td><td>29593</td><td>275</td><td>0.40</td><td>2014-03-31 00:00:00.000</td></tr>",
                            "<tr><td>69468</td><td>29593</td><td>275</td><td>0.40</td><td>2014-03-31 00:00:00.000</td></tr>",
                            "<tr><td>69468</td><td>29593</td><td>275</td><td>0.40</td><td>2014-03-31 00:00:00.000</td></tr>",
                            "<tr><td>69468</td><td>29593</td><td>275</td><td>0.40</td><td>2014-03-31 00:00:00.000</td></tr>",
                            "<tr><td>69471</td><td>29818</td><td>276</td><td>0.40</td><td>2014-03-31 00:00:00.000</td></tr>",
                            "<tr><td>69471</td><td>29818</td><td>276</td><td>0.40</td><td>2014-03-31 00:00:00.000</td></tr>",
                            "<tr><td>69471</td><td>29818</td><td>276</td><td>0.40</td><td>2014-03-31 00:00:00.000</td></tr>",
                            "<tr><td>69471</td><td>29818</td><td>276</td><td>0.40</td><td>2014-03-31 00:00:00.000</td></tr>",
                            "<tr><td>69471</td><td>29818</td><td>276</td><td>0.40</td><td>2014-03-31 00:00:00.000</td></tr>",
                            "<tr><td>69473</td><td>30054</td><td>277</td><td>0.40</td><td>2014-03-31 00:00:00.000</td></tr>",
                            "<tr><td>69473</td><td>30054</td><td>277</td><td>0.40</td><td>2014-03-31 00:00:00.000</td></tr>",
                            "<tr><td>69485</td><td>29945</td><td>279</td><td>0.40</td><td>2014-03-31 00:00:00.000</td></tr>",
                            "<tr><td>69499</td><td>29752</td><td>277</td><td>0.40</td><td>2014-03-31 00:00:00.000</td></tr>",
                            "<tr><td>69500</td><td>29588</td><td>284</td><td>0.40</td><td>2014-03-31 00:00:00.000</td></tr>",
                            "<tr><td>69500</td><td>29588</td><td>284</td><td>0.40</td><td>2014-03-31 00:00:00.000</td></tr>",
                            "<tr><td>69501</td><td>29792</td><td>275</td><td>0.40</td><td>2014-03-31 00:00:00.000</td></tr>",
                            "<tr><td>69501</td><td>29792</td><td>275</td><td>0.40</td><td>2014-03-31 00:00:00.000</td></tr>",
                            "<tr><td>69501</td><td>29792</td><td>275</td><td>0.40</td><td>2014-03-31 00:00:00.000</td></tr>",
                            "<tr><td>69518</td><td>29968</td><td>279</td><td>0.40</td><td>2014-03-31 00:00:00.000</td></tr>",
                            "<tr><td>69520</td><td>29910</td><td>289</td><td>0.40</td><td>2014-03-31 00:00:00.000</td></tr>",
                            "<tr><td>69520</td><td>29910</td><td>289</td><td>0.40</td><td>2014-03-31 00:00:00.000</td></tr>",
                            "<tr><td>69528</td><td>29523</td><td>274</td><td>0.40</td><td>2014-03-31 00:00:00.000</td></tr>",
                            "<tr><td>69528</td><td>29523</td><td>274</td><td>0.40</td><td>2014-03-31 00:00:00.000</td></tr>",
                            "<tr><td>69528</td><td>29523</td><td>274</td><td>0.40</td><td>2014-03-31 00:00:00.000</td></tr>",
                            "<tr><td>69529</td><td>29753</td><td>283</td><td>0.40</td><td>2014-03-31 00:00:00.000</td></tr>",
                            "<tr><td>69532</td><td>29522</td><td>276</td><td>0.40</td><td>2014-03-31 00:00:00.000</td></tr>",
                            "<tr><td>69532</td><td>29522</td><td>276</td><td>0.40</td><td>2014-03-31 00:00:00.000</td></tr>",
                            "<tr><td>69532</td><td>29522</td><td>276</td><td>0.40</td><td>2014-03-31 00:00:00.000</td></tr>",
                            "<tr><td>69532</td><td>29522</td><td>276</td><td>0.40</td><td>2014-03-31 00:00:00.000</td></tr>",
                            "<tr><td>69533</td><td>29896</td><td>279</td><td>0.40</td><td>2014-03-31 00:00:00.000</td></tr>",
                            "<tr><td>69533</td><td>29896</td><td>279</td><td>0.40</td><td>2014-03-31 00:00:00.000</td></tr>",
                            "<tr><td>69533</td><td>29896</td><td>279</td><td>0.40</td><td>2014-03-31 00:00:00.000</td></tr>",
                            "<tr><td>69533</td><td>29896</td><td>279</td><td>0.40</td><td>2014-03-31 00:00:00.000</td></tr>",
                            "<tr><td>69536</td><td>29732</td><td>275</td><td>0.40</td><td>2014-03-31 00:00:00.000</td></tr>",
                            "<tr><td>69536</td><td>29732</td><td>275</td><td>0.40</td><td>2014-03-31 00:00:00.000</td></tr>",
                            "<tr><td>69536</td><td>29732</td><td>275</td><td>0.40</td><td>2014-03-31 00:00:00.000</td></tr>",
                            "<tr><td>69536</td><td>29732</td><td>275</td><td>0.40</td><td>2014-03-31 00:00:00.000</td></tr>",
                            "<tr><td>69536</td><td>29732</td><td>275</td><td>0.40</td><td>2014-03-31 00:00:00.000</td></tr>",
                            "<tr><td>69541</td><td>29830</td><td>278</td><td>0.40</td><td>2014-03-31 00:00:00.000</td></tr>",
                            "<tr><td>69541</td><td>29830</td><td>278</td><td>0.40</td><td>2014-03-31 00:00:00.000</td></tr>",
                            "<tr><td>69541</td><td>29830</td><td>278</td><td>0.40</td><td>2014-03-31 00:00:00.000</td></tr>",
                            "<tr><td>69541</td><td>29830</td><td>278</td><td>0.40</td><td>2014-03-31 00:00:00.000</td></tr>",
                            "<tr><td>69559</td><td>29511</td><td>276</td><td>0.40</td><td>2014-03-31 00:00:00.000</td></tr>",
                            "<tr><td>69560</td><td>29918</td><td>289</td><td>0.40</td><td>2014-03-31 00:00:00.000</td></tr>",
                            "<tr><td>69561</td><td>29913</td><td>276</td><td>0.40</td><td>2014-03-31 00:00:00.000</td></tr>",
                            "<tr><td>69561</td><td>29913</td><td>276</td><td>0.40</td><td>2014-03-31 00:00:00.000</td></tr>",
                            "<tr><td>69561</td><td>29913</td><td>276</td><td>0.40</td><td>2014-03-31 00:00:00.000</td></tr>",
                            "<tr><td>69561</td><td>29913</td><td>276</td><td>0.40</td><td>2014-03-31 00:00:00.000</td></tr>",
                            "<tr><td>69561</td><td>29913</td><td>276</td><td>0.40</td><td>2014-03-31 00:00:00.000</td></tr>",
                            "<tr><td>69562</td><td>29688</td><td>277</td><td>0.40</td><td>2014-03-31 00:00:00.000</td></tr>",
                            "<tr><td>69562</td><td>29688</td><td>277</td><td>0.40</td><td>2014-03-31 00:00:00.000</td></tr>",
                            "</table>"
                        ]
                    }
                }
            ],
            "execution_count": 47
        },
        {
            "cell_type": "code",
            "source": [
                "-- Step 2: Identify the employee\r\n",
                "SELECT\r\n",
                "    p.FirstName,\r\n",
                "    p.LastName,\r\n",
                "    sp.BusinessEntityID\r\n",
                "FROM\r\n",
                "    Sales.SalesPerson sp\r\n",
                "JOIN Person.Person p ON\r\n",
                "    p.BusinessEntityID = sp.BusinessEntityID\r\n",
                "WHERE\r\n",
                "    sp.BusinessEntityID IN (\r\n",
                "        274, 275, 276, 277, 278, 279, 282, 283, 284, 288, 289, 290\r\n",
                "    );\r\n",
                "\r\n",
                "/*OUTPUT: We found 12 employees in this scheme.\r\n",
                " */"
            ],
            "metadata": {
                "azdata_cell_guid": "004928f7-2dfb-4df3-8823-f6b2b08c4231",
                "language": "sql"
            },
            "outputs": [
                {
                    "output_type": "display_data",
                    "data": {
                        "text/html": "(12 rows affected)"
                    },
                    "metadata": {}
                },
                {
                    "output_type": "display_data",
                    "data": {
                        "text/html": "Total execution time: 00:00:00.006"
                    },
                    "metadata": {}
                },
                {
                    "output_type": "execute_result",
                    "metadata": {},
                    "execution_count": 48,
                    "data": {
                        "application/vnd.dataresource+json": {
                            "schema": {
                                "fields": [
                                    {
                                        "name": "FirstName"
                                    },
                                    {
                                        "name": "LastName"
                                    },
                                    {
                                        "name": "BusinessEntityID"
                                    }
                                ]
                            },
                            "data": [
                                {
                                    "FirstName": "Stephen",
                                    "LastName": "Jiang",
                                    "BusinessEntityID": "274"
                                },
                                {
                                    "FirstName": "Michael",
                                    "LastName": "Blythe",
                                    "BusinessEntityID": "275"
                                },
                                {
                                    "FirstName": "Linda",
                                    "LastName": "Mitchell",
                                    "BusinessEntityID": "276"
                                },
                                {
                                    "FirstName": "Jillian",
                                    "LastName": "Carson",
                                    "BusinessEntityID": "277"
                                },
                                {
                                    "FirstName": "Garrett",
                                    "LastName": "Vargas",
                                    "BusinessEntityID": "278"
                                },
                                {
                                    "FirstName": "Tsvi",
                                    "LastName": "Reiter",
                                    "BusinessEntityID": "279"
                                },
                                {
                                    "FirstName": "José",
                                    "LastName": "Saraiva",
                                    "BusinessEntityID": "282"
                                },
                                {
                                    "FirstName": "David",
                                    "LastName": "Campbell",
                                    "BusinessEntityID": "283"
                                },
                                {
                                    "FirstName": "Tete",
                                    "LastName": "Mensa-Annan",
                                    "BusinessEntityID": "284"
                                },
                                {
                                    "FirstName": "Rachel",
                                    "LastName": "Valdez",
                                    "BusinessEntityID": "288"
                                },
                                {
                                    "FirstName": "Jae",
                                    "LastName": "Pak",
                                    "BusinessEntityID": "289"
                                },
                                {
                                    "FirstName": "Ranjit",
                                    "LastName": "Varkey Chudukatil",
                                    "BusinessEntityID": "290"
                                }
                            ]
                        },
                        "text/html": [
                            "<table>",
                            "<tr><th>FirstName</th><th>LastName</th><th>BusinessEntityID</th></tr>",
                            "<tr><td>Stephen</td><td>Jiang</td><td>274</td></tr>",
                            "<tr><td>Michael</td><td>Blythe</td><td>275</td></tr>",
                            "<tr><td>Linda</td><td>Mitchell</td><td>276</td></tr>",
                            "<tr><td>Jillian</td><td>Carson</td><td>277</td></tr>",
                            "<tr><td>Garrett</td><td>Vargas</td><td>278</td></tr>",
                            "<tr><td>Tsvi</td><td>Reiter</td><td>279</td></tr>",
                            "<tr><td>José</td><td>Saraiva</td><td>282</td></tr>",
                            "<tr><td>David</td><td>Campbell</td><td>283</td></tr>",
                            "<tr><td>Tete</td><td>Mensa-Annan</td><td>284</td></tr>",
                            "<tr><td>Rachel</td><td>Valdez</td><td>288</td></tr>",
                            "<tr><td>Jae</td><td>Pak</td><td>289</td></tr>",
                            "<tr><td>Ranjit</td><td>Varkey Chudukatil</td><td>290</td></tr>",
                            "</table>"
                        ]
                    }
                }
            ],
            "execution_count": 48
        },
        {
            "cell_type": "code",
            "source": [
                "-- Step 3: List the affected customers\r\n",
                "SELECT DISTINCT\r\n",
                "    p.FirstName,\r\n",
                "    p.LastName,\r\n",
                "    c.CustomerID\r\n",
                "FROM\r\n",
                "    Sales.Customer c\r\n",
                "JOIN Person.Person p ON\r\n",
                "    p.BusinessEntityID = c.PersonID\r\n",
                "WHERE EXISTS (\r\n",
                "    SELECT 1\r\n",
                "    FROM Sales.SalesOrderHeader soh\r\n",
                "    JOIN Sales.SalesOrderDetail sod ON soh.SalesOrderID = sod.SalesOrderID\r\n",
                "    WHERE soh.CustomerID = c.CustomerID\r\n",
                "    AND sod.UnitPriceDiscount > 0.3\r\n",
                "    AND soh.OrderDate BETWEEN '2014-03-30' AND '2014-03-31'\r\n",
                ");\r\n",
                "/*OUTPUT: We found 33 names which are fake customers.\r\n",
                " */"
            ],
            "metadata": {
                "azdata_cell_guid": "4e7a0fc5-caed-4400-bce5-4dd87b781396",
                "language": "sql"
            },
            "outputs": [
                {
                    "output_type": "display_data",
                    "data": {
                        "text/html": "(33 rows affected)"
                    },
                    "metadata": {}
                },
                {
                    "output_type": "display_data",
                    "data": {
                        "text/html": "Total execution time: 00:00:00.011"
                    },
                    "metadata": {}
                },
                {
                    "output_type": "execute_result",
                    "metadata": {},
                    "execution_count": 49,
                    "data": {
                        "application/vnd.dataresource+json": {
                            "schema": {
                                "fields": [
                                    {
                                        "name": "FirstName"
                                    },
                                    {
                                        "name": "LastName"
                                    },
                                    {
                                        "name": "CustomerID"
                                    }
                                ]
                            },
                            "data": [
                                {
                                    "FirstName": "Oscar",
                                    "LastName": "Alpuerto",
                                    "CustomerID": "29511"
                                },
                                {
                                    "FirstName": "Thomas",
                                    "LastName": "Armstrong",
                                    "CustomerID": "29522"
                                },
                                {
                                    "FirstName": "John",
                                    "LastName": "Arthur",
                                    "CustomerID": "29523"
                                },
                                {
                                    "FirstName": "David",
                                    "LastName": "Bartness",
                                    "CustomerID": "29542"
                                },
                                {
                                    "FirstName": "Willie",
                                    "LastName": "Brooks",
                                    "CustomerID": "29588"
                                },
                                {
                                    "FirstName": "Mary",
                                    "LastName": "Browning",
                                    "CustomerID": "29593"
                                },
                                {
                                    "FirstName": "Jun",
                                    "LastName": "Cao",
                                    "CustomerID": "29626"
                                },
                                {
                                    "FirstName": "Grant",
                                    "LastName": "Culbertson",
                                    "CustomerID": "29688"
                                },
                                {
                                    "FirstName": "Holly",
                                    "LastName": "Dickson",
                                    "CustomerID": "29712"
                                },
                                {
                                    "FirstName": "Tish",
                                    "LastName": "Duff",
                                    "CustomerID": "29725"
                                },
                                {
                                    "FirstName": "Carol",
                                    "LastName": "Elliott",
                                    "CustomerID": "29732"
                                },
                                {
                                    "FirstName": "James",
                                    "LastName": "Fine",
                                    "CustomerID": "29752"
                                },
                                {
                                    "FirstName": "Kathie",
                                    "LastName": "Flood",
                                    "CustomerID": "29753"
                                },
                                {
                                    "FirstName": "James",
                                    "LastName": "Glynn",
                                    "CustomerID": "29786"
                                },
                                {
                                    "FirstName": "Abigail",
                                    "LastName": "Gonzalez",
                                    "CustomerID": "29792"
                                },
                                {
                                    "FirstName": "Roger",
                                    "LastName": "Harui",
                                    "CustomerID": "29818"
                                },
                                {
                                    "FirstName": "Kari",
                                    "LastName": "Hensien",
                                    "CustomerID": "29830"
                                },
                                {
                                    "FirstName": "Judith",
                                    "LastName": "Krane",
                                    "CustomerID": "29896"
                                },
                                {
                                    "FirstName": "Mary",
                                    "LastName": "Kesslep",
                                    "CustomerID": "29904"
                                },
                                {
                                    "FirstName": "Shane",
                                    "LastName": "Kim",
                                    "CustomerID": "29910"
                                },
                                {
                                    "FirstName": "Anton",
                                    "LastName": "Kirilov",
                                    "CustomerID": "29913"
                                },
                                {
                                    "FirstName": "Kirk",
                                    "LastName": "King",
                                    "CustomerID": "29918"
                                },
                                {
                                    "FirstName": "Elsa",
                                    "LastName": "Leavitt",
                                    "CustomerID": "29935"
                                },
                                {
                                    "FirstName": "Gloria",
                                    "LastName": "Lesko",
                                    "CustomerID": "29945"
                                },
                                {
                                    "FirstName": "George",
                                    "LastName": "Li",
                                    "CustomerID": "29949"
                                },
                                {
                                    "FirstName": "David",
                                    "LastName": "Liu",
                                    "CustomerID": "29955"
                                },
                                {
                                    "FirstName": "Helen",
                                    "LastName": "Lutes",
                                    "CustomerID": "29968"
                                },
                                {
                                    "FirstName": "Katie",
                                    "LastName": "McAskill-White",
                                    "CustomerID": "29996"
                                },
                                {
                                    "FirstName": "Lola",
                                    "LastName": "McCarthy",
                                    "CustomerID": "29997"
                                },
                                {
                                    "FirstName": "Shelly",
                                    "LastName": "Szymanski",
                                    "CustomerID": "30054"
                                },
                                {
                                    "FirstName": "Julie",
                                    "LastName": "Taft-Rider",
                                    "CustomerID": "30055"
                                },
                                {
                                    "FirstName": "Johnathan",
                                    "LastName": "Van Eaton",
                                    "CustomerID": "30101"
                                },
                                {
                                    "FirstName": "Margaret",
                                    "LastName": "Vanderkamp",
                                    "CustomerID": "30107"
                                }
                            ]
                        },
                        "text/html": [
                            "<table>",
                            "<tr><th>FirstName</th><th>LastName</th><th>CustomerID</th></tr>",
                            "<tr><td>Oscar</td><td>Alpuerto</td><td>29511</td></tr>",
                            "<tr><td>Thomas</td><td>Armstrong</td><td>29522</td></tr>",
                            "<tr><td>John</td><td>Arthur</td><td>29523</td></tr>",
                            "<tr><td>David</td><td>Bartness</td><td>29542</td></tr>",
                            "<tr><td>Willie</td><td>Brooks</td><td>29588</td></tr>",
                            "<tr><td>Mary</td><td>Browning</td><td>29593</td></tr>",
                            "<tr><td>Jun</td><td>Cao</td><td>29626</td></tr>",
                            "<tr><td>Grant</td><td>Culbertson</td><td>29688</td></tr>",
                            "<tr><td>Holly</td><td>Dickson</td><td>29712</td></tr>",
                            "<tr><td>Tish</td><td>Duff</td><td>29725</td></tr>",
                            "<tr><td>Carol</td><td>Elliott</td><td>29732</td></tr>",
                            "<tr><td>James</td><td>Fine</td><td>29752</td></tr>",
                            "<tr><td>Kathie</td><td>Flood</td><td>29753</td></tr>",
                            "<tr><td>James</td><td>Glynn</td><td>29786</td></tr>",
                            "<tr><td>Abigail</td><td>Gonzalez</td><td>29792</td></tr>",
                            "<tr><td>Roger</td><td>Harui</td><td>29818</td></tr>",
                            "<tr><td>Kari</td><td>Hensien</td><td>29830</td></tr>",
                            "<tr><td>Judith</td><td>Krane</td><td>29896</td></tr>",
                            "<tr><td>Mary</td><td>Kesslep</td><td>29904</td></tr>",
                            "<tr><td>Shane</td><td>Kim</td><td>29910</td></tr>",
                            "<tr><td>Anton</td><td>Kirilov</td><td>29913</td></tr>",
                            "<tr><td>Kirk</td><td>King</td><td>29918</td></tr>",
                            "<tr><td>Elsa</td><td>Leavitt</td><td>29935</td></tr>",
                            "<tr><td>Gloria</td><td>Lesko</td><td>29945</td></tr>",
                            "<tr><td>George</td><td>Li</td><td>29949</td></tr>",
                            "<tr><td>David</td><td>Liu</td><td>29955</td></tr>",
                            "<tr><td>Helen</td><td>Lutes</td><td>29968</td></tr>",
                            "<tr><td>Katie</td><td>McAskill-White</td><td>29996</td></tr>",
                            "<tr><td>Lola</td><td>McCarthy</td><td>29997</td></tr>",
                            "<tr><td>Shelly</td><td>Szymanski</td><td>30054</td></tr>",
                            "<tr><td>Julie</td><td>Taft-Rider</td><td>30055</td></tr>",
                            "<tr><td>Johnathan</td><td>Van Eaton</td><td>30101</td></tr>",
                            "<tr><td>Margaret</td><td>Vanderkamp</td><td>30107</td></tr>",
                            "</table>"
                        ]
                    }
                }
            ],
            "execution_count": 49
        }
    ]
}