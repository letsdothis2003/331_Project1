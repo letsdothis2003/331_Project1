{
    "metadata": {
        "kernelspec": {
            "name": "SQL",
            "display_name": "SQL",
            "language": "sql"
        },
        "language_info": {
            "name": "sql",
            "version": ""
        }
    },
    "nbformat_minor": 2,
    "nbformat": 4,
    "cells": [
        {
            "cell_type": "markdown",
            "source": [
                "/\\*MYSTERY 1: A van delivering a set of goods suddenly went missing one night.The order was never finalized. \n",
                "\n",
                " \\* The goods were delivered using the method of road freight.\n",
                "\n",
                " \\* Find the purchase orders that weren't finalized. \n",
                "\n",
                " \\* Then find the items that were supposed to be shipped. \n",
                "\n",
                " \\* Then finally search for the person who last edited and approved the order\n",
                "\n",
                " \\*/\n",
                "\n",
                "1. \\--First check the purchase orders that werent finalized:"
            ],
            "metadata": {
                "azdata_cell_guid": "0c95f193-d7f5-476d-b961-23c3ccd2f862"
            },
            "attachments": {}
        },
        {
            "cell_type": "code",
            "source": [
                "SELECT dm.DeliveryMethodName ,po.IsOrderFinalized, po.PurchaseOrderID\r\n",
                "FROM Purchasing.PurchaseOrders po\r\n",
                "INNER JOIN Application.DeliveryMethods dm\r\n",
                "ON po.DeliveryMethodID = dm.DeliveryMethodID\r\n",
                "WHERE po.IsOrderFinalized = 0 AND po.DeliveryMethodID = 7;"
            ],
            "metadata": {
                "azdata_cell_guid": "866c83e8-719f-4657-9187-264f6883cc1d",
                "language": "sql",
                "tags": [
                    "hide_input"
                ]
            },
            "outputs": [],
            "execution_count": null
        },
        {
            "cell_type": "markdown",
            "source": [
                "\\-- 1 Purchase Order was found from the output. \n",
                "\n",
                "\\--Now we check the data of the items that were supposed to be shipped in this order, \n",
                "\n",
                "\\--using the Purchase order Lines table."
            ],
            "metadata": {
                "language": "sql",
                "azdata_cell_guid": "7a35ad91-ac25-40b0-bfb6-91be0bbcdfbd"
            },
            "attachments": {}
        },
        {
            "cell_type": "code",
            "source": [
                "SELECT po.IsOrderFinalized, pol.*\r\n",
                "FROM Purchasing.PurchaseOrders po\r\n",
                "INNER JOIN Purchasing.PurchaseOrderLines pol\r\n",
                "ON po.PurchaseOrderID  = pol.PurchaseOrderID \r\n",
                "WHERE po.IsOrderFinalized = 0 AND po.DeliveryMethodID = 7;\r\n",
                ""
            ],
            "metadata": {
                "language": "sql",
                "azdata_cell_guid": "32afbf0c-8ad3-4c51-9053-232538945f3d"
            },
            "outputs": [],
            "execution_count": null
        },
        {
            "cell_type": "markdown",
            "source": [
                "\\--6 rows were returned. \n",
                "\n",
                "\\--We can see that the all the unfinished orders were last edited and approved by the same person with an ID of 17.\n",
                "\n",
                "\\--Now we check the person who last edited them:"
            ],
            "metadata": {
                "language": "sql",
                "azdata_cell_guid": "8998ee2a-0b0c-4488-b989-8e47929ce50e"
            },
            "attachments": {}
        },
        {
            "cell_type": "code",
            "source": [
                "SELECT p.FullName  \r\n",
                "FROM Application.People p\r\n",
                "WHERE p.PersonID = 17;"
            ],
            "metadata": {
                "language": "sql",
                "azdata_cell_guid": "0f1509b6-fc21-4a1a-a8db-98bb05e99909"
            },
            "outputs": [],
            "execution_count": null
        },
        {
            "cell_type": "markdown",
            "source": [
                "\\--The output shows that Piper Koch last edited and approved of these orders. \n",
                "\n",
                "\\--The evidence points to her being the culprit.\n",
                "\n",
                "/\\*Mystery 2: There was a report of supplier and customer data being leaked recently. authorities suspect it might be a sales employee with access to the database who was involved. They also suspect them speaking arabic.\n",
                "\n",
                " \\* Check employees who recently edited supplier or customer data\n",
                "\n",
                " \\* Check if the employee speaks arabic/\n",
                "\n",
                " \\* \n",
                "\n",
                " \\*/"
            ],
            "metadata": {
                "language": "sql",
                "azdata_cell_guid": "7317ae6c-a6ef-4109-982e-7f28b5df2930"
            },
            "attachments": {}
        },
        {
            "cell_type": "code",
            "source": [
                "SELECT p.FullName \r\n",
                "FROM Application.People p\r\n",
                "WHERE p.PersonID IN (\r\n",
                "\tSELECT DISTINCT s.LastEditedBy \r\n",
                "\tFROM Purchasing.Suppliers s\r\n",
                "\tUNION\r\n",
                "\tSELECT DISTINCT c.LastEditedBy \r\n",
                "\tFROM Sales.Customers c\r\n",
                ");"
            ],
            "metadata": {
                "language": "sql",
                "azdata_cell_guid": "80ab6102-f466-4326-b1d2-56e79a19f54e"
            },
            "outputs": [],
            "execution_count": null
        },
        {
            "cell_type": "markdown",
            "source": [
                "\\--The output of the query returns 3 invididuals. Now we check if they speak arabic"
            ],
            "metadata": {
                "language": "sql",
                "azdata_cell_guid": "0c58cdc8-19e2-4476-a9c2-4c684ff43ed5"
            },
            "attachments": {}
        },
        {
            "cell_type": "code",
            "source": [
                "SELECT P.FullName,p.OtherLanguages, p.PersonID \r\n",
                "FROM Application.People p\r\n",
                "WHERE p.PersonID IN (\r\n",
                "\tSELECT DISTINCT s.LastEditedBy \r\n",
                "\tFROM Purchasing.Suppliers s\r\n",
                "\tUNION\r\n",
                "\tSELECT DISTINCT c.LastEditedBy \r\n",
                "\tFROM Sales.Customers c\r\n",
                ") \r\n",
                ""
            ],
            "metadata": {
                "language": "sql",
                "azdata_cell_guid": "c2c37dc0-16f6-4625-918e-556edcab6479"
            },
            "outputs": [],
            "execution_count": null
        },
        {
            "cell_type": "markdown",
            "source": [
                "\\--In the output we see 2 employees that speak arabic, person with ID 15 and 20.Now we check wif theyre a system user"
            ],
            "metadata": {
                "language": "sql",
                "azdata_cell_guid": "d60601b5-123b-4099-9607-70b62fad126a"
            },
            "attachments": {}
        },
        {
            "cell_type": "code",
            "source": [
                "SELECT P.FullName,p.OtherLanguages, p.PersonID , p.IsSystemUser \r\n",
                "FROM Application.People p\r\n",
                "WHERE p.PersonID IN (\r\n",
                "\tSELECT DISTINCT s.LastEditedBy\r\n",
                "\tFROM Purchasing.Suppliers s\r\n",
                "\tUNION\r\n",
                "\tSELECT DISTINCT c.LastEditedBy \r\n",
                "\tFROM Sales.Customers c\r\n",
                ") "
            ],
            "metadata": {
                "language": "sql",
                "azdata_cell_guid": "4afb8c8b-fde6-4b13-87eb-4090045c23f4"
            },
            "outputs": [],
            "execution_count": null
        },
        {
            "cell_type": "markdown",
            "source": [
                "\\--the oputput indicates that both invidiuals are system users. We can conclude that they are the cuplrits\n",
                "\n",
                "/\\*\n",
                "\n",
                " \\* Mystery 3: On January 12, 2013  Several customers complain about not receiving their orders, even thought the system records them as being invoiced.\n",
                "\n",
                " \\* Check which customer orders were made, but not invoiced.\n",
                "\n",
                " \\* Then check the salesperson that handled them.\n",
                "\n",
                " \\* Finally check the delivery method that went wrong.\n",
                "\n",
                " \\*/"
            ],
            "metadata": {
                "language": "sql",
                "azdata_cell_guid": "4951aee1-83cf-4652-bfeb-e3b59bed8f65"
            },
            "attachments": {}
        },
        {
            "cell_type": "code",
            "source": [
                "SELECT o.OrderID, o.OrderDate, i.OrderID as invoice_Order_id\r\n",
                "FROM Sales.Orders o\r\n",
                "FULL OUTER JOIN Sales.Invoices i\r\n",
                "ON o.OrderID = i.OrderID \r\n",
                "WHERE i.OrderID IS NULL AND o.OrderDate  = '2013-01-12';"
            ],
            "metadata": {
                "language": "sql",
                "azdata_cell_guid": "f2a2f55d-d5bc-4dd3-9c84-7103bcfc18ac"
            },
            "outputs": [],
            "execution_count": null
        },
        {
            "cell_type": "markdown",
            "source": [
                "\\--The output shows 1 order with order id 694, being returned with no invoice order id.\n",
                "\n",
                "\\--Now we check the salesperson responsible for handling the missing order"
            ],
            "metadata": {
                "language": "sql",
                "azdata_cell_guid": "ad8f4a60-78ee-4d37-adb1-a13e1a52688d"
            },
            "attachments": {}
        },
        {
            "cell_type": "code",
            "source": [
                "SELECT o.SalespersonPersonID, p.FullName \r\n",
                "FROM Sales.Orders o\r\n",
                "FULL OUTER JOIN Application.People p \r\n",
                "ON o.SalespersonPersonID = p.PersonID \r\n",
                "WHERE o.OrderID = 694;\r\n",
                ""
            ],
            "metadata": {
                "language": "sql",
                "azdata_cell_guid": "993f2f54-e0bb-4ee7-b6ee-65fb16b90c76"
            },
            "outputs": [],
            "execution_count": null
        },
        {
            "cell_type": "markdown",
            "source": [
                "<span style=\"color:#808080;\">--the output returns the name </span> <span style=\"color: rgb(128, 128, 128); text-decoration-line: underline; text-decoration-color: rgb(255, 128, 64); text-decoration-style: wavy;\">Hudson</span> <span style=\"color: rgb(128, 128, 128); text-decoration-line: underline; text-decoration-color: rgb(255, 128, 64); text-decoration-style: wavy;\">Holliworth</span>\n",
                "\n",
                "<span style=\"color:#808080;\">--now we check the delivery method he used for all his orders</span>"
            ],
            "metadata": {
                "language": "sql",
                "azdata_cell_guid": "07359e7c-ad1d-4556-9e4f-05d70d052d3f"
            },
            "attachments": {}
        },
        {
            "cell_type": "code",
            "source": [
                "SELECT i.DeliveryMethodID, dm.DeliveryMethodName, i.OrderID \r\n",
                "fROM Sales.Orders o \r\n",
                "INNER JOIN Sales.Invoices i \r\n",
                "ON o.OrderID = i.OrderID \r\n",
                "INNER JOIN Application.DeliveryMethods dm \r\n",
                "ON i.DeliveryMethodID = dm.DeliveryMethodID \r\n",
                "WHERE o.SalespersonPersonID = 13 AND i.DeliveryMethodID = 3;"
            ],
            "metadata": {
                "language": "sql",
                "azdata_cell_guid": "9e044bb1-8d5e-4ebd-851a-de765fb7185d"
            },
            "outputs": [],
            "execution_count": null
        },
        {
            "cell_type": "markdown",
            "source": [
                "<span style=\"color:#808080;\">--We see that the delivery method the salesperson used is the same, delivery van.</span>\n",
                "\n",
                "  \n",
                "\n",
                "  \n",
                "\n",
                "<span style=\"color:#808080;\">/*Mystery 4: According to some reports, stock Item transactions were reported to have been falsely generated on </span> <span style=\"color: rgb(128, 128, 128); text-decoration-line: underline; text-decoration-color: rgb(255, 128, 64); text-decoration-style: wavy;\">january</span> <span style=\"color:#808080;\"> 26, 2013.</span>\n",
                "\n",
                "<span style=\"color:#808080;\">* As a result, certain items have not been ordered yet, and been lower than 130 in quantity.</span>\n",
                "\n",
                "<span style=\"color:#808080;\">* Find the stock item transactions associated with the same date.</span>\n",
                "\n",
                "<span style=\"color:#808080;\">* Find who last edited them.</span>\n",
                "\n",
                "<span style=\"color:#808080;\">* Find the item with the lowest quantity.</span>\n",
                "\n",
                "<span style=\"color:#808080;\">*</span>\n",
                "\n",
                "<span style=\"color:#808080;\">*/</span>"
            ],
            "metadata": {
                "language": "sql",
                "azdata_cell_guid": "36a5f120-ce62-450f-a665-7b406204a720"
            },
            "attachments": {}
        },
        {
            "cell_type": "code",
            "source": [
                "SELECT DISTINCT sit.StockItemTransactionID , sit.LastEditedBy \r\n",
                "fROm Warehouse.StockItemTransactions sit \r\n",
                "WHERE YEAR(sit.TransactionOccurredWhen) = '2013'\r\n",
                "AND MONTH(sit.TransactionOccurredWhen) = '01' \r\n",
                "AND DAY (sit.TransactionOccurredWhen) = '26'"
            ],
            "metadata": {
                "language": "sql",
                "azdata_cell_guid": "2c793334-1387-4aa5-b006-e29d3df7aabd"
            },
            "outputs": [],
            "execution_count": null
        },
        {
            "cell_type": "markdown",
            "source": [
                "<span style=\"color:#808080;\">--The output of the query shows the data being edited by the same person. Now we will identify who edited them</span>"
            ],
            "metadata": {
                "language": "sql",
                "azdata_cell_guid": "927a864c-3a26-43e8-8e47-28800703b5ab"
            },
            "attachments": {}
        },
        {
            "cell_type": "code",
            "source": [
                "SELECT DISTINCT p.FullName, p.PersonID \r\n",
                "fROm Warehouse.StockItemTransactions sit \r\n",
                "INNER JOIN Application.People p\r\n",
                "ON sit.LastEditedBy = p.PersonID\r\n",
                "WHERE YEAR(sit.TransactionOccurredWhen) = '2013'\r\n",
                "AND MONTH(sit.TransactionOccurredWhen) = '01' \r\n",
                "AND DAY (sit.TransactionOccurredWhen) = '26'\r\n",
                ""
            ],
            "metadata": {
                "language": "sql",
                "azdata_cell_guid": "1b0468ac-7672-42f5-8e7b-b9ac79e06b43"
            },
            "outputs": [],
            "execution_count": null
        },
        {
            "cell_type": "markdown",
            "source": [
                "<span style=\"color:#808080;\">--The person revealed to be editing them is </span> <span style=\"color: rgb(128, 128, 128); text-decoration-line: underline; text-decoration-color: rgb(255, 128, 64); text-decoration-style: wavy;\">Isabella</span> <span style=\"color: rgb(128, 128, 128); text-decoration-line: underline; text-decoration-color: rgb(255, 128, 64); text-decoration-style: wavy;\">Rupp</span><span style=\"color:#808080;\">. Now we will check the stock items with the lowest quantity</span>"
            ],
            "metadata": {
                "language": "sql",
                "azdata_cell_guid": "999ec03c-0fba-4917-9faa-4ce21b9b57e3"
            },
            "attachments": {}
        },
        {
            "cell_type": "code",
            "source": [
                "SELECT sit.StockItemTransactionID, sit.StockItemID, sit.Quantity, sit.LastEditedBy \r\n",
                "FROM Warehouse.StockItemTransactions sit\r\n",
                "WHERE sit.LastEditedBy = 4 AND sit.Quantity < 130 AND sit.LastEditedBy = 4 AND sit.Quantity > 0;\r\n",
                "ORDER BY sit.Quantity;"
            ],
            "metadata": {
                "language": "sql",
                "azdata_cell_guid": "e0722e13-df4d-4f8c-a304-cedbd37fc3f2"
            },
            "outputs": [],
            "execution_count": null
        },
        {
            "cell_type": "markdown",
            "source": [
                "<span style=\"color:#808080;\">--The output reveals that Stock item with the ID 80 has a quantity lower than 130.</span>\n",
                "\n",
                "  \n",
                "\n",
                "<span style=\"color:#808080;\">/*Mystery 5: Most invoices were considered tampered with in the month of January 2016.</span>\n",
                "\n",
                "<span style=\"color:#808080;\">*Identify these suspicious orders, check the customers associated with them, and find the employee responsible for editing them the most.</span>\n",
                "\n",
                "<span style=\"color:#808080;\">*/</span>"
            ],
            "metadata": {
                "language": "sql",
                "azdata_cell_guid": "7e514387-55e9-45d8-8147-c261f4f62545"
            },
            "attachments": {}
        },
        {
            "cell_type": "code",
            "source": [
                "SELECT OrderID, CustomerID, OrderDate, LastEditedBy\r\n",
                "FROM Sales.Orders\r\n",
                "WHERE YEAR(OrderDate) = 2016\r\n",
                "AND MONTH(OrderDate) = 1\r\n",
                "AND OrderID NOT IN (SELECT DISTINCT OrderID FROM Sales.Invoices);"
            ],
            "metadata": {
                "language": "sql",
                "azdata_cell_guid": "18fadeae-6cb3-4cb7-9faf-87c170b898a0"
            },
            "outputs": [],
            "execution_count": null
        },
        {
            "cell_type": "markdown",
            "source": [
                "<span style=\"color:#808080;\">-- The resulting query returned 131 rows of orders. Now we check the invoices of each customer</span>"
            ],
            "metadata": {
                "language": "sql",
                "azdata_cell_guid": "1670b3f2-5567-4aa2-8344-c2051d83cdfe"
            },
            "attachments": {}
        },
        {
            "cell_type": "code",
            "source": [
                "SELECT i.LastEditedBy, i.LastEditedWhen, i.*\r\n",
                "FROM Sales.Invoices i\r\n",
                "WHERE i.CustomerID IN(\r\n",
                "\tSELECT CustomerID\r\n",
                "\tFROM Sales.Orders\r\n",
                "\tWHERE YEAR(OrderDate) = 2016\r\n",
                "\tAND MONTH(OrderDate) = 1\r\n",
                "\tAND OrderID NOT IN (SELECT DISTINCT OrderID FROM Sales.Invoices)\r\n",
                ") AND (YEAR(i.LastEditedWhen) = 2016 AND MONTH(i.LastEditedWhen) = 1)"
            ],
            "metadata": {
                "language": "sql",
                "azdata_cell_guid": "dd7da876-b4a5-4a2a-a49e-bbe00664bfbc"
            },
            "outputs": [],
            "execution_count": null
        },
        {
            "cell_type": "markdown",
            "source": [
                "<span style=\"color:#808080;\">--We get a list of names of individuals who edited the invoices table. Now check who edited the most</span>"
            ],
            "metadata": {
                "language": "sql",
                "azdata_cell_guid": "1d0041ce-ccc3-434d-bfbf-614f92fad014"
            },
            "attachments": {}
        },
        {
            "cell_type": "code",
            "source": [
                "SELECT TOP (1) i.LastEditedBy, p.FullName, COUNT(i.InvoiceID) AS NumEdits\r\n",
                "FROM Sales.Invoices i\r\n",
                "INNER JOIN Application.People p ON i.LastEditedBy = p.PersonID\r\n",
                "WHERE YEAR(i.InvoiceDate) = 2016\r\n",
                "AND MONTH(i.InvoiceDate) = 1\r\n",
                "GROUP BY i.LastEditedBy, p.FullName\r\n",
                "ORDER BY NumEdits DESC;"
            ],
            "metadata": {
                "language": "sql",
                "azdata_cell_guid": "1c2dbb54-7ee0-4b1c-b2cc-cf0e906f06e7"
            },
            "outputs": [],
            "execution_count": null
        },
        {
            "cell_type": "markdown",
            "source": [
                "<span style=\"background-color: rgb(255, 255, 255); padding-right: 0px; padding-bottom: 0px; padding-left: 2px;\"><span style=\"color: rgb(0, 0, 0); font-family: Consolas; font-size: 10pt; white-space: pre;\"><span style=\"color:#808080;\">--The resulting output shows that </span><span style=\"color: rgb(128, 128, 128); text-decoration-line: underline; text-decoration-color: rgb(255, 128, 64); text-decoration-style: wavy;\">Isabella</span><span style=\"color:#808080;\"> </span><span style=\"color: rgb(128, 128, 128); text-decoration-line: underline; text-decoration-color: rgb(255, 128, 64); text-decoration-style: wavy;\">Rupp</span><span style=\"color:#808080;\"> made the most edits.</span></span></span>"
            ],
            "metadata": {
                "language": "sql",
                "azdata_cell_guid": "bc40fa7e-6f86-44f6-a938-4f8946cdaa73"
            },
            "attachments": {}
        },
        {
            "cell_type": "markdown",
            "source": [
                ""
            ],
            "metadata": {
                "language": "sql",
                "azdata_cell_guid": "a809b14e-e6c1-4340-a6dc-c3cb47aedc14"
            }
        }
    ]
}